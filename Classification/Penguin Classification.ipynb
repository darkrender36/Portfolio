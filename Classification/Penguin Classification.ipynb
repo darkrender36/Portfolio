{
  "cells": [
    {
      "cell_type": "markdown",
      "metadata": {
        "id": "-_3FIt11k5zX"
      },
      "source": [
        "# [MidExam]-[MATH6149016 ; MATH6149049 ]-[MachineLearning]"
      ]
    },
    {
      "cell_type": "markdown",
      "metadata": {
        "id": "NHdgkFn3k5zZ"
      },
      "source": [
        "**Thursday, April 28, 2022.**"
      ]
    },
    {
      "cell_type": "markdown",
      "metadata": {
        "id": "k7MlfN_Xk5zZ"
      },
      "source": [
        "**Student Name**  : Mary Regina Ang\n",
        "\n",
        "**Student ID**    : 2440019781\n",
        "\n",
        "**Video Link**    : https://youtu.be/GIpcAPZUpR8    "
      ]
    },
    {
      "cell_type": "markdown",
      "metadata": {
        "id": "B8kcF5Z5k5zZ"
      },
      "source": [
        "***Task:***   \n",
        "**You are required to build `the best` multiclass classifier for the penguins dataset that achieves over 95% accuracy over the test set.**   \n",
        "Your objectives are to:     \n",
        "o Conduct a thorough exploratory data analysis (using graphs, statistical test, etc. and a verbal analysis)   \n",
        "o Build `multiple potentially suitable classification models` (at least 2 different machine learning models).    \n",
        "`For example:` By using different attributes or proportion for training and testing set or machine learning algorithms for each model or other schemas.    \n",
        "o Choose what you assume to be the `\"best\"` model from these models for a final submission   "
      ]
    },
    {
      "cell_type": "markdown",
      "metadata": {
        "id": "EF62z1zmk5za"
      },
      "source": [
        "### 1. Data Description\n",
        "\n",
        "The data used in this mid-exam called `Penguins` dataset, which is originally released as an `R package by Allison Horst`.  \n",
        "   \n",
        "The dataset contains the following columns:  \n",
        "  \n",
        "`CulmenLength` : The length in mm of the penguin's culmen (bill).    \n",
        "`CulmenDepth`  : The depth in mm of the penguin's culmen.   \n",
        "`FlipperLength`: The length in mm of the penguin's flipper.   \n",
        "`BodyMass`     : The body mass of the penguin in grams.    \n",
        "`Species`      : An integer value that represents the species of the penguin.(0 =Amelie; 1=Gentoo; 2=Chinstrap)"
      ]
    },
    {
      "cell_type": "markdown",
      "metadata": {
        "id": "BezBRVuxk5za"
      },
      "source": [
        "### (2% of points) - 2. Get the Data"
      ]
    },
    {
      "cell_type": "markdown",
      "metadata": {
        "id": "98qdN0GGk5zb"
      },
      "source": [
        "##### Apply data acquistion and give explanation on each output"
      ]
    },
    {
      "cell_type": "code",
      "execution_count": null,
      "metadata": {
        "colab": {
          "base_uri": "https://localhost:8080/"
        },
        "id": "Nbk5kWNoltlL",
        "outputId": "af9e2445-a09a-4093-a870-a421894de56c"
      },
      "outputs": [
        {
          "name": "stdout",
          "output_type": "stream",
          "text": [
            "Mounted at /content/drive\n"
          ]
        }
      ],
      "source": [
        "# from google.colab import drive\n",
        "# drive.mount('/content/drive')"
      ]
    },
    {
      "cell_type": "markdown",
      "metadata": {
        "id": "-EVoigAgYT8G"
      },
      "source": [
        "First, let's import library!"
      ]
    },
    {
      "cell_type": "code",
      "execution_count": null,
      "metadata": {
        "id": "fgX3h98gnTv_"
      },
      "outputs": [],
      "source": [
        "# Library\n",
        "import pandas as pd\n",
        "import numpy as np\n",
        "import matplotlib.pyplot as plt\n",
        "import seaborn as sns\n",
        "from sklearn.model_selection import train_test_split\n",
        "from sklearn.preprocessing import StandardScaler\n",
        "from sklearn.model_selection import cross_val_score\n",
        "from sklearn.model_selection import GridSearchCV\n",
        "from sklearn.neighbors import KNeighborsClassifier\n",
        "from sklearn.ensemble import RandomForestClassifier\n",
        "from sklearn.metrics import r2_score, mean_squared_error, mean_absolute_error\n",
        "import joblib as jb\n",
        "sns.set_style('darkgrid')"
      ]
    },
    {
      "cell_type": "markdown",
      "metadata": {
        "id": "cV843qvMYXZJ"
      },
      "source": [
        "Next, we're going to import the data."
      ]
    },
    {
      "cell_type": "code",
      "execution_count": null,
      "metadata": {
        "id": "5esLIQFCk5zb"
      },
      "outputs": [],
      "source": [
        "df = pd.read_csv('/content/drive/MyDrive/Coding/penguins.csv')"
      ]
    },
    {
      "cell_type": "markdown",
      "metadata": {
        "id": "kOzoq29xXs9m"
      },
      "source": [
        "To make sure that data has been imported, let's check it with head()."
      ]
    },
    {
      "cell_type": "code",
      "execution_count": null,
      "metadata": {
        "colab": {
          "base_uri": "https://localhost:8080/",
          "height": 206
        },
        "id": "Zf7LZJ83X0Od",
        "outputId": "0bf9a074-a778-4358-e537-bd2c6bd4caaa"
      },
      "outputs": [
        {
          "data": {
            "text/html": [
              "\n",
              "  <div id=\"df-3e3ef371-bbba-4da2-9e24-9f859f8e8e07\">\n",
              "    <div class=\"colab-df-container\">\n",
              "      <div>\n",
              "<style scoped>\n",
              "    .dataframe tbody tr th:only-of-type {\n",
              "        vertical-align: middle;\n",
              "    }\n",
              "\n",
              "    .dataframe tbody tr th {\n",
              "        vertical-align: top;\n",
              "    }\n",
              "\n",
              "    .dataframe thead th {\n",
              "        text-align: right;\n",
              "    }\n",
              "</style>\n",
              "<table border=\"1\" class=\"dataframe\">\n",
              "  <thead>\n",
              "    <tr style=\"text-align: right;\">\n",
              "      <th></th>\n",
              "      <th>CulmenLength</th>\n",
              "      <th>CulmenDepth</th>\n",
              "      <th>FlipperLength</th>\n",
              "      <th>BodyMass</th>\n",
              "      <th>Species</th>\n",
              "    </tr>\n",
              "  </thead>\n",
              "  <tbody>\n",
              "    <tr>\n",
              "      <th>0</th>\n",
              "      <td>39.1</td>\n",
              "      <td>18.7</td>\n",
              "      <td>181.0</td>\n",
              "      <td>3750.0</td>\n",
              "      <td>0</td>\n",
              "    </tr>\n",
              "    <tr>\n",
              "      <th>1</th>\n",
              "      <td>39.5</td>\n",
              "      <td>17.4</td>\n",
              "      <td>186.0</td>\n",
              "      <td>3800.0</td>\n",
              "      <td>0</td>\n",
              "    </tr>\n",
              "    <tr>\n",
              "      <th>2</th>\n",
              "      <td>40.3</td>\n",
              "      <td>18.0</td>\n",
              "      <td>195.0</td>\n",
              "      <td>3250.0</td>\n",
              "      <td>0</td>\n",
              "    </tr>\n",
              "    <tr>\n",
              "      <th>3</th>\n",
              "      <td>NaN</td>\n",
              "      <td>NaN</td>\n",
              "      <td>NaN</td>\n",
              "      <td>NaN</td>\n",
              "      <td>0</td>\n",
              "    </tr>\n",
              "    <tr>\n",
              "      <th>4</th>\n",
              "      <td>36.7</td>\n",
              "      <td>19.3</td>\n",
              "      <td>193.0</td>\n",
              "      <td>3450.0</td>\n",
              "      <td>0</td>\n",
              "    </tr>\n",
              "  </tbody>\n",
              "</table>\n",
              "</div>\n",
              "      <button class=\"colab-df-convert\" onclick=\"convertToInteractive('df-3e3ef371-bbba-4da2-9e24-9f859f8e8e07')\"\n",
              "              title=\"Convert this dataframe to an interactive table.\"\n",
              "              style=\"display:none;\">\n",
              "        \n",
              "  <svg xmlns=\"http://www.w3.org/2000/svg\" height=\"24px\"viewBox=\"0 0 24 24\"\n",
              "       width=\"24px\">\n",
              "    <path d=\"M0 0h24v24H0V0z\" fill=\"none\"/>\n",
              "    <path d=\"M18.56 5.44l.94 2.06.94-2.06 2.06-.94-2.06-.94-.94-2.06-.94 2.06-2.06.94zm-11 1L8.5 8.5l.94-2.06 2.06-.94-2.06-.94L8.5 2.5l-.94 2.06-2.06.94zm10 10l.94 2.06.94-2.06 2.06-.94-2.06-.94-.94-2.06-.94 2.06-2.06.94z\"/><path d=\"M17.41 7.96l-1.37-1.37c-.4-.4-.92-.59-1.43-.59-.52 0-1.04.2-1.43.59L10.3 9.45l-7.72 7.72c-.78.78-.78 2.05 0 2.83L4 21.41c.39.39.9.59 1.41.59.51 0 1.02-.2 1.41-.59l7.78-7.78 2.81-2.81c.8-.78.8-2.07 0-2.86zM5.41 20L4 18.59l7.72-7.72 1.47 1.35L5.41 20z\"/>\n",
              "  </svg>\n",
              "      </button>\n",
              "      \n",
              "  <style>\n",
              "    .colab-df-container {\n",
              "      display:flex;\n",
              "      flex-wrap:wrap;\n",
              "      gap: 12px;\n",
              "    }\n",
              "\n",
              "    .colab-df-convert {\n",
              "      background-color: #E8F0FE;\n",
              "      border: none;\n",
              "      border-radius: 50%;\n",
              "      cursor: pointer;\n",
              "      display: none;\n",
              "      fill: #1967D2;\n",
              "      height: 32px;\n",
              "      padding: 0 0 0 0;\n",
              "      width: 32px;\n",
              "    }\n",
              "\n",
              "    .colab-df-convert:hover {\n",
              "      background-color: #E2EBFA;\n",
              "      box-shadow: 0px 1px 2px rgba(60, 64, 67, 0.3), 0px 1px 3px 1px rgba(60, 64, 67, 0.15);\n",
              "      fill: #174EA6;\n",
              "    }\n",
              "\n",
              "    [theme=dark] .colab-df-convert {\n",
              "      background-color: #3B4455;\n",
              "      fill: #D2E3FC;\n",
              "    }\n",
              "\n",
              "    [theme=dark] .colab-df-convert:hover {\n",
              "      background-color: #434B5C;\n",
              "      box-shadow: 0px 1px 3px 1px rgba(0, 0, 0, 0.15);\n",
              "      filter: drop-shadow(0px 1px 2px rgba(0, 0, 0, 0.3));\n",
              "      fill: #FFFFFF;\n",
              "    }\n",
              "  </style>\n",
              "\n",
              "      <script>\n",
              "        const buttonEl =\n",
              "          document.querySelector('#df-3e3ef371-bbba-4da2-9e24-9f859f8e8e07 button.colab-df-convert');\n",
              "        buttonEl.style.display =\n",
              "          google.colab.kernel.accessAllowed ? 'block' : 'none';\n",
              "\n",
              "        async function convertToInteractive(key) {\n",
              "          const element = document.querySelector('#df-3e3ef371-bbba-4da2-9e24-9f859f8e8e07');\n",
              "          const dataTable =\n",
              "            await google.colab.kernel.invokeFunction('convertToInteractive',\n",
              "                                                     [key], {});\n",
              "          if (!dataTable) return;\n",
              "\n",
              "          const docLinkHtml = 'Like what you see? Visit the ' +\n",
              "            '<a target=\"_blank\" href=https://colab.research.google.com/notebooks/data_table.ipynb>data table notebook</a>'\n",
              "            + ' to learn more about interactive tables.';\n",
              "          element.innerHTML = '';\n",
              "          dataTable['output_type'] = 'display_data';\n",
              "          await google.colab.output.renderOutput(dataTable, element);\n",
              "          const docLink = document.createElement('div');\n",
              "          docLink.innerHTML = docLinkHtml;\n",
              "          element.appendChild(docLink);\n",
              "        }\n",
              "      </script>\n",
              "    </div>\n",
              "  </div>\n",
              "  "
            ],
            "text/plain": [
              "   CulmenLength  CulmenDepth  FlipperLength  BodyMass  Species\n",
              "0          39.1         18.7          181.0    3750.0        0\n",
              "1          39.5         17.4          186.0    3800.0        0\n",
              "2          40.3         18.0          195.0    3250.0        0\n",
              "3           NaN          NaN            NaN       NaN        0\n",
              "4          36.7         19.3          193.0    3450.0        0"
            ]
          },
          "execution_count": 5,
          "metadata": {},
          "output_type": "execute_result"
        }
      ],
      "source": [
        "df.head()"
      ]
    },
    {
      "cell_type": "markdown",
      "metadata": {
        "id": "ZJRa4hdBYFcy"
      },
      "source": [
        "Since we did it, let's go to the next step!"
      ]
    },
    {
      "cell_type": "markdown",
      "metadata": {
        "id": "pLzpqAP9onbZ"
      },
      "source": [
        "### (20% of points) - 3. Data Exploration"
      ]
    },
    {
      "cell_type": "markdown",
      "metadata": {
        "id": "luk718g4oocv"
      },
      "source": [
        "##### Apply data exploration, report the characteristics of your dataset (type of attributes & distribution, % of missing values, type of noise) and correlations between attributes (you may use statistical summaries and graphs), and write down your analysis and findings"
      ]
    },
    {
      "cell_type": "code",
      "execution_count": null,
      "metadata": {
        "colab": {
          "base_uri": "https://localhost:8080/"
        },
        "id": "yy8rqD1aoQs8",
        "outputId": "627bed3f-f0fc-463c-dbce-0dcef4fc57e0"
      },
      "outputs": [
        {
          "name": "stdout",
          "output_type": "stream",
          "text": [
            "(344, 5)\n"
          ]
        }
      ],
      "source": [
        "# Check the shape of dataframe\n",
        "print(df.shape)"
      ]
    },
    {
      "cell_type": "markdown",
      "metadata": {
        "id": "evSFNHt0YjNq"
      },
      "source": [
        "From the output above, we can conclude that the rows is 344 and the columns is 5."
      ]
    },
    {
      "cell_type": "code",
      "execution_count": null,
      "metadata": {
        "colab": {
          "base_uri": "https://localhost:8080/"
        },
        "id": "jgbXPcpZoEf7",
        "outputId": "552e6f00-573d-468d-944c-e01e76f418b0"
      },
      "outputs": [
        {
          "name": "stdout",
          "output_type": "stream",
          "text": [
            "<class 'pandas.core.frame.DataFrame'>\n",
            "RangeIndex: 344 entries, 0 to 343\n",
            "Data columns (total 5 columns):\n",
            " #   Column         Non-Null Count  Dtype  \n",
            "---  ------         --------------  -----  \n",
            " 0   CulmenLength   342 non-null    float64\n",
            " 1   CulmenDepth    342 non-null    float64\n",
            " 2   FlipperLength  342 non-null    float64\n",
            " 3   BodyMass       342 non-null    float64\n",
            " 4   Species        344 non-null    int64  \n",
            "dtypes: float64(4), int64(1)\n",
            "memory usage: 13.6 KB\n"
          ]
        }
      ],
      "source": [
        "df.info()"
      ]
    },
    {
      "cell_type": "markdown",
      "metadata": {
        "id": "oUCcVYazY4M0"
      },
      "source": [
        "From the output above, we can conclude that all the attributes are numeric."
      ]
    },
    {
      "cell_type": "code",
      "execution_count": null,
      "metadata": {
        "colab": {
          "base_uri": "https://localhost:8080/",
          "height": 300
        },
        "id": "-3Hw7zvjoTrn",
        "outputId": "7039a4c5-f4b8-4e7a-ad59-a4b7089bd44a"
      },
      "outputs": [
        {
          "data": {
            "text/html": [
              "\n",
              "  <div id=\"df-7d138a37-fba9-4f92-bdee-57942101f1fb\">\n",
              "    <div class=\"colab-df-container\">\n",
              "      <div>\n",
              "<style scoped>\n",
              "    .dataframe tbody tr th:only-of-type {\n",
              "        vertical-align: middle;\n",
              "    }\n",
              "\n",
              "    .dataframe tbody tr th {\n",
              "        vertical-align: top;\n",
              "    }\n",
              "\n",
              "    .dataframe thead th {\n",
              "        text-align: right;\n",
              "    }\n",
              "</style>\n",
              "<table border=\"1\" class=\"dataframe\">\n",
              "  <thead>\n",
              "    <tr style=\"text-align: right;\">\n",
              "      <th></th>\n",
              "      <th>CulmenLength</th>\n",
              "      <th>CulmenDepth</th>\n",
              "      <th>FlipperLength</th>\n",
              "      <th>BodyMass</th>\n",
              "      <th>Species</th>\n",
              "    </tr>\n",
              "  </thead>\n",
              "  <tbody>\n",
              "    <tr>\n",
              "      <th>count</th>\n",
              "      <td>342.000000</td>\n",
              "      <td>342.000000</td>\n",
              "      <td>342.000000</td>\n",
              "      <td>342.000000</td>\n",
              "      <td>344.000000</td>\n",
              "    </tr>\n",
              "    <tr>\n",
              "      <th>mean</th>\n",
              "      <td>43.921930</td>\n",
              "      <td>17.151170</td>\n",
              "      <td>200.915205</td>\n",
              "      <td>4201.754386</td>\n",
              "      <td>0.755814</td>\n",
              "    </tr>\n",
              "    <tr>\n",
              "      <th>std</th>\n",
              "      <td>5.459584</td>\n",
              "      <td>1.974793</td>\n",
              "      <td>14.061714</td>\n",
              "      <td>801.954536</td>\n",
              "      <td>0.762626</td>\n",
              "    </tr>\n",
              "    <tr>\n",
              "      <th>min</th>\n",
              "      <td>32.100000</td>\n",
              "      <td>13.100000</td>\n",
              "      <td>172.000000</td>\n",
              "      <td>2700.000000</td>\n",
              "      <td>0.000000</td>\n",
              "    </tr>\n",
              "    <tr>\n",
              "      <th>25%</th>\n",
              "      <td>39.225000</td>\n",
              "      <td>15.600000</td>\n",
              "      <td>190.000000</td>\n",
              "      <td>3550.000000</td>\n",
              "      <td>0.000000</td>\n",
              "    </tr>\n",
              "    <tr>\n",
              "      <th>50%</th>\n",
              "      <td>44.450000</td>\n",
              "      <td>17.300000</td>\n",
              "      <td>197.000000</td>\n",
              "      <td>4050.000000</td>\n",
              "      <td>1.000000</td>\n",
              "    </tr>\n",
              "    <tr>\n",
              "      <th>75%</th>\n",
              "      <td>48.500000</td>\n",
              "      <td>18.700000</td>\n",
              "      <td>213.000000</td>\n",
              "      <td>4750.000000</td>\n",
              "      <td>1.000000</td>\n",
              "    </tr>\n",
              "    <tr>\n",
              "      <th>max</th>\n",
              "      <td>59.600000</td>\n",
              "      <td>21.500000</td>\n",
              "      <td>231.000000</td>\n",
              "      <td>6300.000000</td>\n",
              "      <td>2.000000</td>\n",
              "    </tr>\n",
              "  </tbody>\n",
              "</table>\n",
              "</div>\n",
              "      <button class=\"colab-df-convert\" onclick=\"convertToInteractive('df-7d138a37-fba9-4f92-bdee-57942101f1fb')\"\n",
              "              title=\"Convert this dataframe to an interactive table.\"\n",
              "              style=\"display:none;\">\n",
              "        \n",
              "  <svg xmlns=\"http://www.w3.org/2000/svg\" height=\"24px\"viewBox=\"0 0 24 24\"\n",
              "       width=\"24px\">\n",
              "    <path d=\"M0 0h24v24H0V0z\" fill=\"none\"/>\n",
              "    <path d=\"M18.56 5.44l.94 2.06.94-2.06 2.06-.94-2.06-.94-.94-2.06-.94 2.06-2.06.94zm-11 1L8.5 8.5l.94-2.06 2.06-.94-2.06-.94L8.5 2.5l-.94 2.06-2.06.94zm10 10l.94 2.06.94-2.06 2.06-.94-2.06-.94-.94-2.06-.94 2.06-2.06.94z\"/><path d=\"M17.41 7.96l-1.37-1.37c-.4-.4-.92-.59-1.43-.59-.52 0-1.04.2-1.43.59L10.3 9.45l-7.72 7.72c-.78.78-.78 2.05 0 2.83L4 21.41c.39.39.9.59 1.41.59.51 0 1.02-.2 1.41-.59l7.78-7.78 2.81-2.81c.8-.78.8-2.07 0-2.86zM5.41 20L4 18.59l7.72-7.72 1.47 1.35L5.41 20z\"/>\n",
              "  </svg>\n",
              "      </button>\n",
              "      \n",
              "  <style>\n",
              "    .colab-df-container {\n",
              "      display:flex;\n",
              "      flex-wrap:wrap;\n",
              "      gap: 12px;\n",
              "    }\n",
              "\n",
              "    .colab-df-convert {\n",
              "      background-color: #E8F0FE;\n",
              "      border: none;\n",
              "      border-radius: 50%;\n",
              "      cursor: pointer;\n",
              "      display: none;\n",
              "      fill: #1967D2;\n",
              "      height: 32px;\n",
              "      padding: 0 0 0 0;\n",
              "      width: 32px;\n",
              "    }\n",
              "\n",
              "    .colab-df-convert:hover {\n",
              "      background-color: #E2EBFA;\n",
              "      box-shadow: 0px 1px 2px rgba(60, 64, 67, 0.3), 0px 1px 3px 1px rgba(60, 64, 67, 0.15);\n",
              "      fill: #174EA6;\n",
              "    }\n",
              "\n",
              "    [theme=dark] .colab-df-convert {\n",
              "      background-color: #3B4455;\n",
              "      fill: #D2E3FC;\n",
              "    }\n",
              "\n",
              "    [theme=dark] .colab-df-convert:hover {\n",
              "      background-color: #434B5C;\n",
              "      box-shadow: 0px 1px 3px 1px rgba(0, 0, 0, 0.15);\n",
              "      filter: drop-shadow(0px 1px 2px rgba(0, 0, 0, 0.3));\n",
              "      fill: #FFFFFF;\n",
              "    }\n",
              "  </style>\n",
              "\n",
              "      <script>\n",
              "        const buttonEl =\n",
              "          document.querySelector('#df-7d138a37-fba9-4f92-bdee-57942101f1fb button.colab-df-convert');\n",
              "        buttonEl.style.display =\n",
              "          google.colab.kernel.accessAllowed ? 'block' : 'none';\n",
              "\n",
              "        async function convertToInteractive(key) {\n",
              "          const element = document.querySelector('#df-7d138a37-fba9-4f92-bdee-57942101f1fb');\n",
              "          const dataTable =\n",
              "            await google.colab.kernel.invokeFunction('convertToInteractive',\n",
              "                                                     [key], {});\n",
              "          if (!dataTable) return;\n",
              "\n",
              "          const docLinkHtml = 'Like what you see? Visit the ' +\n",
              "            '<a target=\"_blank\" href=https://colab.research.google.com/notebooks/data_table.ipynb>data table notebook</a>'\n",
              "            + ' to learn more about interactive tables.';\n",
              "          element.innerHTML = '';\n",
              "          dataTable['output_type'] = 'display_data';\n",
              "          await google.colab.output.renderOutput(dataTable, element);\n",
              "          const docLink = document.createElement('div');\n",
              "          docLink.innerHTML = docLinkHtml;\n",
              "          element.appendChild(docLink);\n",
              "        }\n",
              "      </script>\n",
              "    </div>\n",
              "  </div>\n",
              "  "
            ],
            "text/plain": [
              "       CulmenLength  CulmenDepth  FlipperLength     BodyMass     Species\n",
              "count    342.000000   342.000000     342.000000   342.000000  344.000000\n",
              "mean      43.921930    17.151170     200.915205  4201.754386    0.755814\n",
              "std        5.459584     1.974793      14.061714   801.954536    0.762626\n",
              "min       32.100000    13.100000     172.000000  2700.000000    0.000000\n",
              "25%       39.225000    15.600000     190.000000  3550.000000    0.000000\n",
              "50%       44.450000    17.300000     197.000000  4050.000000    1.000000\n",
              "75%       48.500000    18.700000     213.000000  4750.000000    1.000000\n",
              "max       59.600000    21.500000     231.000000  6300.000000    2.000000"
            ]
          },
          "execution_count": 8,
          "metadata": {},
          "output_type": "execute_result"
        }
      ],
      "source": [
        "df.describe()"
      ]
    },
    {
      "cell_type": "markdown",
      "metadata": {
        "id": "1j8mb7TeZF4n"
      },
      "source": [
        "From above, we can see another detail about the features such as the count, mean, std, min, Q1, Q2, Q3, until max."
      ]
    },
    {
      "cell_type": "markdown",
      "metadata": {
        "id": "XgCqWx3LqRTP"
      },
      "source": [
        "Let's check the distribution! First, I want to check the value counts of species attribute."
      ]
    },
    {
      "cell_type": "code",
      "execution_count": null,
      "metadata": {
        "colab": {
          "base_uri": "https://localhost:8080/",
          "height": 517
        },
        "id": "DxjQic23p_17",
        "outputId": "8f72d561-7748-483a-bca1-c8d4a3b2bd57"
      },
      "outputs": [
        {
          "data": {
            "image/png": "[encoded data removed]",
            "text/plain": [
              "<Figure size 720x576 with 1 Axes>"
            ]
          },
          "metadata": {},
          "output_type": "display_data"
        }
      ],
      "source": [
        "color = ['#7F58AF', '#64C5EB', '#E84D8A']\n",
        "\n",
        "sns.set_palette(sns.color_palette(color))\n",
        "\n",
        "plt.figure(figsize = (10, 8))\n",
        "plt.title(\"The Value Counts of Penguins's Species\", size = 14)\n",
        "cplot = sns.countplot(x = 'Species', data = df)\n",
        "for plot in cplot.patches:\n",
        "   cplot.annotate(\"%.0f\" % plot.get_height(),\n",
        "                  (plot.get_x() + plot.get_width() / 2, plot.get_height()),\n",
        "                  (0, 10),\n",
        "                  textcoords = 'offset points',\n",
        "                  ha = 'center',\n",
        "                  va = 'center')\n",
        "plt.xlabel('Species', fontsize = 12)\n",
        "plt.ylabel('Value Count', fontsize = 12)\n",
        "plt.show()"
      ]
    },
    {
      "cell_type": "markdown",
      "metadata": {
        "id": "8uomfu7FuD_r"
      },
      "source": [
        "From the bar plot, we can conclude that:\n",
        "\n",
        "- Species 0 has the highest value counts among others which is 152.\n",
        "- Species 1 has the second highest value counts among others which is 124.\n",
        "- Species 2 has the lowest value counts among others which is 68."
      ]
    },
    {
      "cell_type": "markdown",
      "metadata": {
        "id": "FUc1YeUop57t"
      },
      "source": [
        "Now, I want to check the distribution of species attribute as y-axis with another attribute as x-axis."
      ]
    },
    {
      "cell_type": "code",
      "execution_count": null,
      "metadata": {
        "colab": {
          "base_uri": "https://localhost:8080/",
          "height": 408
        },
        "id": "DbpCoP0gZVzZ",
        "outputId": "874afb0f-8b44-4960-c236-6308b8c5222a"
      },
      "outputs": [
        {
          "data": {
            "image/png": "[encoded data removed]",
            "text/plain": [
              "<Figure size 864x432 with 1 Axes>"
            ]
          },
          "metadata": {},
          "output_type": "display_data"
        }
      ],
      "source": [
        "plt.figure(figsize = (12, 6))\n",
        "plt.title(\"Culmen Length of Each Penguin's Species\", size = 14)\n",
        "sns.kdeplot(data = df, x = 'CulmenLength', hue = 'Species', shade = True)\n",
        "plt.xlabel('Culmen Length', fontsize = 12)\n",
        "plt.ylabel('Species', fontsize = 12)\n",
        "plt.show()"
      ]
    },
    {
      "cell_type": "code",
      "execution_count": null,
      "metadata": {
        "colab": {
          "base_uri": "https://localhost:8080/",
          "height": 408
        },
        "id": "cYKgQHYQlknX",
        "outputId": "d4b259e5-5e67-4da4-f575-713abf83b240"
      },
      "outputs": [
        {
          "data": {
            "image/png": "[encoded data removed]",
            "text/plain": [
              "<Figure size 720x432 with 1 Axes>"
            ]
          },
          "metadata": {},
          "output_type": "display_data"
        }
      ],
      "source": [
        "color = ['#7F58AF', '#64C5EB', '#E84D8A']\n",
        "\n",
        "sns.set_palette(sns.color_palette(color))\n",
        "\n",
        "plt.figure(figsize = (10, 6))\n",
        "plt.title(\"Culmen Length of Each Penguin's Species\", size = 14)\n",
        "sns.boxplot(data = df, x = 'Species', y = 'CulmenLength')\n",
        "plt.xlabel('Species', fontsize = 12)\n",
        "plt.ylabel('Culmen Length', fontsize = 12)\n",
        "plt.show()"
      ]
    },
    {
      "cell_type": "markdown",
      "metadata": {
        "id": "cFDB-fdwhuzt"
      },
      "source": [
        "From graph above, we can conclude that:\n",
        "\n",
        "- Species 0 tend to have shorter culmen than the others.\n",
        "- Species 1 and species 2 tend to have longer culmen than species 0.\n",
        "- Species 1 and species 2 tend to have the same length for culmen."
      ]
    },
    {
      "cell_type": "code",
      "execution_count": null,
      "metadata": {
        "colab": {
          "base_uri": "https://localhost:8080/",
          "height": 408
        },
        "id": "gs-QA7rLcjMI",
        "outputId": "20da2c3a-6ffc-4d82-dfb2-8d8ca4086fab"
      },
      "outputs": [
        {
          "data": {
            "image/png": "[encoded data removed]",
            "text/plain": [
              "<Figure size 1008x432 with 1 Axes>"
            ]
          },
          "metadata": {},
          "output_type": "display_data"
        }
      ],
      "source": [
        "plt.figure(figsize = (14, 6))\n",
        "plt.title(\"Culmen Depth of Each Penguin's Species\", size = 14)\n",
        "sns.kdeplot(data = df, x = 'CulmenDepth', hue = 'Species', shade = True)\n",
        "plt.xlabel('Culmen Depth', fontsize = 12)\n",
        "plt.ylabel('Species', fontsize = 12)\n",
        "plt.show()"
      ]
    },
    {
      "cell_type": "code",
      "execution_count": null,
      "metadata": {
        "colab": {
          "base_uri": "https://localhost:8080/",
          "height": 408
        },
        "id": "OBdC9sN_outH",
        "outputId": "e54639fa-f426-46e7-c0f3-ac039ec34ac6"
      },
      "outputs": [
        {
          "data": {
            "image/png": "[encoded data removed]",
            "text/plain": [
              "<Figure size 720x432 with 1 Axes>"
            ]
          },
          "metadata": {},
          "output_type": "display_data"
        }
      ],
      "source": [
        "color = ['#7F58AF', '#64C5EB', '#E84D8A']\n",
        "\n",
        "sns.set_palette(sns.color_palette(color))\n",
        "\n",
        "plt.figure(figsize = (10, 6))\n",
        "plt.title(\"Culmen Depth of Each Penguin's Species\", size = 14)\n",
        "sns.boxplot(data = df, x = 'Species', y = 'CulmenDepth')\n",
        "plt.xlabel('Species', fontsize = 12)\n",
        "plt.ylabel('Culmen Depth', fontsize = 12)\n",
        "plt.show()"
      ]
    },
    {
      "cell_type": "markdown",
      "metadata": {
        "id": "GAj8YibljN8d"
      },
      "source": [
        "From graph above, we can conclude that:\n",
        "\n",
        "- Species 1 tend to have lower culmen depth than the others.\n",
        "- Species 0 and species 2 tend to have higher culmen depth than species 1.\n",
        "- Species 0 and species 2 tend to have the same depth for culmen.\n",
        "- Species 0 have outlier."
      ]
    },
    {
      "cell_type": "code",
      "execution_count": null,
      "metadata": {
        "colab": {
          "base_uri": "https://localhost:8080/",
          "height": 408
        },
        "id": "R04Mu1Ardcs7",
        "outputId": "576c606e-4457-498f-d3c4-fac9cf7e5661"
      },
      "outputs": [
        {
          "data": {
            "image/png": "[encoded data removed]",
            "text/plain": [
              "<Figure size 1008x432 with 1 Axes>"
            ]
          },
          "metadata": {},
          "output_type": "display_data"
        }
      ],
      "source": [
        "plt.figure(figsize = (14, 6))\n",
        "plt.title(\"Flipper Length of Each Penguin's Species\", size = 14)\n",
        "sns.kdeplot(data = df, x = 'FlipperLength', hue = 'Species', shade = True)\n",
        "plt.xlabel('Flipper Length', fontsize = 12)\n",
        "plt.ylabel('Species', fontsize = 12)\n",
        "plt.show()"
      ]
    },
    {
      "cell_type": "code",
      "execution_count": null,
      "metadata": {
        "colab": {
          "base_uri": "https://localhost:8080/",
          "height": 408
        },
        "id": "5D0hLzJNo9fg",
        "outputId": "bca76e8b-b029-4d94-cfa3-6b76ae3899bb"
      },
      "outputs": [
        {
          "data": {
            "image/png": "[encoded data removed]",
            "text/plain": [
              "<Figure size 720x432 with 1 Axes>"
            ]
          },
          "metadata": {},
          "output_type": "display_data"
        }
      ],
      "source": [
        "color = ['#7F58AF', '#64C5EB', '#E84D8A']\n",
        "\n",
        "sns.set_palette(sns.color_palette(color))\n",
        "\n",
        "plt.figure(figsize = (10, 6))\n",
        "plt.title(\"Flipper Length of Each Penguin's Species\", size = 14)\n",
        "sns.boxplot(data = df, x = 'Species', y = 'FlipperLength')\n",
        "plt.xlabel('Species', fontsize = 12)\n",
        "plt.ylabel('Flipper Length', fontsize = 12)\n",
        "plt.show()"
      ]
    },
    {
      "cell_type": "markdown",
      "metadata": {
        "id": "jPWNJjFSjoia"
      },
      "source": [
        "From graph above, we can conclude that:\n",
        "\n",
        "- Species 1 tend to have longer flipper than the others.\n",
        "- Species 0 and species 2 tend to have shorter flipper than species 1.\n",
        "- Species 0 and species 2 tend to have the same length for flipper.\n",
        "- Species 0 have outliers."
      ]
    },
    {
      "cell_type": "code",
      "execution_count": null,
      "metadata": {
        "colab": {
          "base_uri": "https://localhost:8080/",
          "height": 408
        },
        "id": "eLPks4g0dnuR",
        "outputId": "b148db1c-b7e8-49b3-e795-d7db29640907"
      },
      "outputs": [
        {
          "data": {
            "image/png": "[encoded data removed]",
            "text/plain": [
              "<Figure size 1008x432 with 1 Axes>"
            ]
          },
          "metadata": {},
          "output_type": "display_data"
        }
      ],
      "source": [
        "plt.figure(figsize = (14, 6))\n",
        "plt.title(\"Body Mass of Each Penguin's Species\", size = 14)\n",
        "sns.kdeplot(data = df, x = 'BodyMass', hue = 'Species', shade = True)\n",
        "plt.xlabel('Body Mass', fontsize = 12)\n",
        "plt.ylabel('Species', fontsize = 12)\n",
        "plt.show()"
      ]
    },
    {
      "cell_type": "code",
      "execution_count": null,
      "metadata": {
        "colab": {
          "base_uri": "https://localhost:8080/",
          "height": 408
        },
        "id": "CFI4QmgapJPU",
        "outputId": "702d3bd0-1311-469e-9d65-cc66be201384"
      },
      "outputs": [
        {
          "data": {
            "image/png": "[encoded data removed]",
            "text/plain": [
              "<Figure size 720x432 with 1 Axes>"
            ]
          },
          "metadata": {},
          "output_type": "display_data"
        }
      ],
      "source": [
        "color = ['#7F58AF', '#64C5EB', '#E84D8A']\n",
        "\n",
        "sns.set_palette(sns.color_palette(color))\n",
        "\n",
        "plt.figure(figsize = (10, 6))\n",
        "plt.title(\"Body Mass of Each Penguin's Species\", size = 14)\n",
        "sns.boxplot(data = df, x = 'Species', y = 'BodyMass')\n",
        "plt.xlabel('Species', fontsize = 12)\n",
        "plt.ylabel('Body Mass', fontsize = 12)\n",
        "plt.show()"
      ]
    },
    {
      "cell_type": "markdown",
      "metadata": {
        "id": "fl7QoDvDkeKt"
      },
      "source": [
        "From graph above, we can conclude that:\n",
        "\n",
        "- Species 1 tend to have higher body mass than the others.\n",
        "- Species 0 and species 2 tend to have lower body mass than species 1.\n",
        "- Species 0 and species 2 tend to have the same body mass.\n",
        "- Species 2 have outliers."
      ]
    },
    {
      "cell_type": "markdown",
      "metadata": {
        "id": "PjODTmAlrEMH"
      },
      "source": [
        "Now, let's check missing value!"
      ]
    },
    {
      "cell_type": "code",
      "execution_count": null,
      "metadata": {
        "colab": {
          "base_uri": "https://localhost:8080/"
        },
        "id": "ARNUhab7rC9Q",
        "outputId": "4358c769-c61a-4d77-85b4-c533495404ab"
      },
      "outputs": [
        {
          "data": {
            "text/plain": [
              "CulmenLength     2\n",
              "CulmenDepth      2\n",
              "FlipperLength    2\n",
              "BodyMass         2\n",
              "Species          0\n",
              "dtype: int64"
            ]
          },
          "execution_count": 12,
          "metadata": {},
          "output_type": "execute_result"
        }
      ],
      "source": [
        "df.isnull().sum()"
      ]
    },
    {
      "cell_type": "markdown",
      "metadata": {
        "id": "2FoulZqTv0jB"
      },
      "source": [
        "We could see that CulmenLength, CulmenDepth, FlipperLength, and BodyMass has 2 missing values.\n",
        "\n",
        "Now, let's check which index that has the missing values in dataframe!"
      ]
    },
    {
      "cell_type": "code",
      "execution_count": null,
      "metadata": {
        "colab": {
          "base_uri": "https://localhost:8080/",
          "height": 112
        },
        "id": "8Pi-FPIjv_FZ",
        "outputId": "08fb18b9-f563-4fae-e3a6-7d869be0abad"
      },
      "outputs": [
        {
          "data": {
            "text/html": [
              "\n",
              "  <div id=\"df-a59aab63-8805-45f1-9e6e-dda638b12208\">\n",
              "    <div class=\"colab-df-container\">\n",
              "      <div>\n",
              "<style scoped>\n",
              "    .dataframe tbody tr th:only-of-type {\n",
              "        vertical-align: middle;\n",
              "    }\n",
              "\n",
              "    .dataframe tbody tr th {\n",
              "        vertical-align: top;\n",
              "    }\n",
              "\n",
              "    .dataframe thead th {\n",
              "        text-align: right;\n",
              "    }\n",
              "</style>\n",
              "<table border=\"1\" class=\"dataframe\">\n",
              "  <thead>\n",
              "    <tr style=\"text-align: right;\">\n",
              "      <th></th>\n",
              "      <th>CulmenLength</th>\n",
              "      <th>CulmenDepth</th>\n",
              "      <th>FlipperLength</th>\n",
              "      <th>BodyMass</th>\n",
              "      <th>Species</th>\n",
              "    </tr>\n",
              "  </thead>\n",
              "  <tbody>\n",
              "    <tr>\n",
              "      <th>3</th>\n",
              "      <td>NaN</td>\n",
              "      <td>NaN</td>\n",
              "      <td>NaN</td>\n",
              "      <td>NaN</td>\n",
              "      <td>0</td>\n",
              "    </tr>\n",
              "    <tr>\n",
              "      <th>271</th>\n",
              "      <td>NaN</td>\n",
              "      <td>NaN</td>\n",
              "      <td>NaN</td>\n",
              "      <td>NaN</td>\n",
              "      <td>1</td>\n",
              "    </tr>\n",
              "  </tbody>\n",
              "</table>\n",
              "</div>\n",
              "      <button class=\"colab-df-convert\" onclick=\"convertToInteractive('df-a59aab63-8805-45f1-9e6e-dda638b12208')\"\n",
              "              title=\"Convert this dataframe to an interactive table.\"\n",
              "              style=\"display:none;\">\n",
              "        \n",
              "  <svg xmlns=\"http://www.w3.org/2000/svg\" height=\"24px\"viewBox=\"0 0 24 24\"\n",
              "       width=\"24px\">\n",
              "    <path d=\"M0 0h24v24H0V0z\" fill=\"none\"/>\n",
              "    <path d=\"M18.56 5.44l.94 2.06.94-2.06 2.06-.94-2.06-.94-.94-2.06-.94 2.06-2.06.94zm-11 1L8.5 8.5l.94-2.06 2.06-.94-2.06-.94L8.5 2.5l-.94 2.06-2.06.94zm10 10l.94 2.06.94-2.06 2.06-.94-2.06-.94-.94-2.06-.94 2.06-2.06.94z\"/><path d=\"M17.41 7.96l-1.37-1.37c-.4-.4-.92-.59-1.43-.59-.52 0-1.04.2-1.43.59L10.3 9.45l-7.72 7.72c-.78.78-.78 2.05 0 2.83L4 21.41c.39.39.9.59 1.41.59.51 0 1.02-.2 1.41-.59l7.78-7.78 2.81-2.81c.8-.78.8-2.07 0-2.86zM5.41 20L4 18.59l7.72-7.72 1.47 1.35L5.41 20z\"/>\n",
              "  </svg>\n",
              "      </button>\n",
              "      \n",
              "  <style>\n",
              "    .colab-df-container {\n",
              "      display:flex;\n",
              "      flex-wrap:wrap;\n",
              "      gap: 12px;\n",
              "    }\n",
              "\n",
              "    .colab-df-convert {\n",
              "      background-color: #E8F0FE;\n",
              "      border: none;\n",
              "      border-radius: 50%;\n",
              "      cursor: pointer;\n",
              "      display: none;\n",
              "      fill: #1967D2;\n",
              "      height: 32px;\n",
              "      padding: 0 0 0 0;\n",
              "      width: 32px;\n",
              "    }\n",
              "\n",
              "    .colab-df-convert:hover {\n",
              "      background-color: #E2EBFA;\n",
              "      box-shadow: 0px 1px 2px rgba(60, 64, 67, 0.3), 0px 1px 3px 1px rgba(60, 64, 67, 0.15);\n",
              "      fill: #174EA6;\n",
              "    }\n",
              "\n",
              "    [theme=dark] .colab-df-convert {\n",
              "      background-color: #3B4455;\n",
              "      fill: #D2E3FC;\n",
              "    }\n",
              "\n",
              "    [theme=dark] .colab-df-convert:hover {\n",
              "      background-color: #434B5C;\n",
              "      box-shadow: 0px 1px 3px 1px rgba(0, 0, 0, 0.15);\n",
              "      filter: drop-shadow(0px 1px 2px rgba(0, 0, 0, 0.3));\n",
              "      fill: #FFFFFF;\n",
              "    }\n",
              "  </style>\n",
              "\n",
              "      <script>\n",
              "        const buttonEl =\n",
              "          document.querySelector('#df-a59aab63-8805-45f1-9e6e-dda638b12208 button.colab-df-convert');\n",
              "        buttonEl.style.display =\n",
              "          google.colab.kernel.accessAllowed ? 'block' : 'none';\n",
              "\n",
              "        async function convertToInteractive(key) {\n",
              "          const element = document.querySelector('#df-a59aab63-8805-45f1-9e6e-dda638b12208');\n",
              "          const dataTable =\n",
              "            await google.colab.kernel.invokeFunction('convertToInteractive',\n",
              "                                                     [key], {});\n",
              "          if (!dataTable) return;\n",
              "\n",
              "          const docLinkHtml = 'Like what you see? Visit the ' +\n",
              "            '<a target=\"_blank\" href=https://colab.research.google.com/notebooks/data_table.ipynb>data table notebook</a>'\n",
              "            + ' to learn more about interactive tables.';\n",
              "          element.innerHTML = '';\n",
              "          dataTable['output_type'] = 'display_data';\n",
              "          await google.colab.output.renderOutput(dataTable, element);\n",
              "          const docLink = document.createElement('div');\n",
              "          docLink.innerHTML = docLinkHtml;\n",
              "          element.appendChild(docLink);\n",
              "        }\n",
              "      </script>\n",
              "    </div>\n",
              "  </div>\n",
              "  "
            ],
            "text/plain": [
              "     CulmenLength  CulmenDepth  FlipperLength  BodyMass  Species\n",
              "3             NaN          NaN            NaN       NaN        0\n",
              "271           NaN          NaN            NaN       NaN        1"
            ]
          },
          "execution_count": 109,
          "metadata": {},
          "output_type": "execute_result"
        }
      ],
      "source": [
        "df[df['CulmenLength'].isna()]"
      ]
    },
    {
      "cell_type": "code",
      "execution_count": null,
      "metadata": {
        "colab": {
          "base_uri": "https://localhost:8080/",
          "height": 112
        },
        "id": "0vWUe3IAxH0L",
        "outputId": "4961b1d6-420f-4182-d58c-482489f2c771"
      },
      "outputs": [
        {
          "data": {
            "text/html": [
              "\n",
              "  <div id=\"df-1f304ca7-aa94-460e-8c05-9cac12e95b66\">\n",
              "    <div class=\"colab-df-container\">\n",
              "      <div>\n",
              "<style scoped>\n",
              "    .dataframe tbody tr th:only-of-type {\n",
              "        vertical-align: middle;\n",
              "    }\n",
              "\n",
              "    .dataframe tbody tr th {\n",
              "        vertical-align: top;\n",
              "    }\n",
              "\n",
              "    .dataframe thead th {\n",
              "        text-align: right;\n",
              "    }\n",
              "</style>\n",
              "<table border=\"1\" class=\"dataframe\">\n",
              "  <thead>\n",
              "    <tr style=\"text-align: right;\">\n",
              "      <th></th>\n",
              "      <th>CulmenLength</th>\n",
              "      <th>CulmenDepth</th>\n",
              "      <th>FlipperLength</th>\n",
              "      <th>BodyMass</th>\n",
              "      <th>Species</th>\n",
              "    </tr>\n",
              "  </thead>\n",
              "  <tbody>\n",
              "    <tr>\n",
              "      <th>3</th>\n",
              "      <td>NaN</td>\n",
              "      <td>NaN</td>\n",
              "      <td>NaN</td>\n",
              "      <td>NaN</td>\n",
              "      <td>0</td>\n",
              "    </tr>\n",
              "    <tr>\n",
              "      <th>271</th>\n",
              "      <td>NaN</td>\n",
              "      <td>NaN</td>\n",
              "      <td>NaN</td>\n",
              "      <td>NaN</td>\n",
              "      <td>1</td>\n",
              "    </tr>\n",
              "  </tbody>\n",
              "</table>\n",
              "</div>\n",
              "      <button class=\"colab-df-convert\" onclick=\"convertToInteractive('df-1f304ca7-aa94-460e-8c05-9cac12e95b66')\"\n",
              "              title=\"Convert this dataframe to an interactive table.\"\n",
              "              style=\"display:none;\">\n",
              "        \n",
              "  <svg xmlns=\"http://www.w3.org/2000/svg\" height=\"24px\"viewBox=\"0 0 24 24\"\n",
              "       width=\"24px\">\n",
              "    <path d=\"M0 0h24v24H0V0z\" fill=\"none\"/>\n",
              "    <path d=\"M18.56 5.44l.94 2.06.94-2.06 2.06-.94-2.06-.94-.94-2.06-.94 2.06-2.06.94zm-11 1L8.5 8.5l.94-2.06 2.06-.94-2.06-.94L8.5 2.5l-.94 2.06-2.06.94zm10 10l.94 2.06.94-2.06 2.06-.94-2.06-.94-.94-2.06-.94 2.06-2.06.94z\"/><path d=\"M17.41 7.96l-1.37-1.37c-.4-.4-.92-.59-1.43-.59-.52 0-1.04.2-1.43.59L10.3 9.45l-7.72 7.72c-.78.78-.78 2.05 0 2.83L4 21.41c.39.39.9.59 1.41.59.51 0 1.02-.2 1.41-.59l7.78-7.78 2.81-2.81c.8-.78.8-2.07 0-2.86zM5.41 20L4 18.59l7.72-7.72 1.47 1.35L5.41 20z\"/>\n",
              "  </svg>\n",
              "      </button>\n",
              "      \n",
              "  <style>\n",
              "    .colab-df-container {\n",
              "      display:flex;\n",
              "      flex-wrap:wrap;\n",
              "      gap: 12px;\n",
              "    }\n",
              "\n",
              "    .colab-df-convert {\n",
              "      background-color: #E8F0FE;\n",
              "      border: none;\n",
              "      border-radius: 50%;\n",
              "      cursor: pointer;\n",
              "      display: none;\n",
              "      fill: #1967D2;\n",
              "      height: 32px;\n",
              "      padding: 0 0 0 0;\n",
              "      width: 32px;\n",
              "    }\n",
              "\n",
              "    .colab-df-convert:hover {\n",
              "      background-color: #E2EBFA;\n",
              "      box-shadow: 0px 1px 2px rgba(60, 64, 67, 0.3), 0px 1px 3px 1px rgba(60, 64, 67, 0.15);\n",
              "      fill: #174EA6;\n",
              "    }\n",
              "\n",
              "    [theme=dark] .colab-df-convert {\n",
              "      background-color: #3B4455;\n",
              "      fill: #D2E3FC;\n",
              "    }\n",
              "\n",
              "    [theme=dark] .colab-df-convert:hover {\n",
              "      background-color: #434B5C;\n",
              "      box-shadow: 0px 1px 3px 1px rgba(0, 0, 0, 0.15);\n",
              "      filter: drop-shadow(0px 1px 2px rgba(0, 0, 0, 0.3));\n",
              "      fill: #FFFFFF;\n",
              "    }\n",
              "  </style>\n",
              "\n",
              "      <script>\n",
              "        const buttonEl =\n",
              "          document.querySelector('#df-1f304ca7-aa94-460e-8c05-9cac12e95b66 button.colab-df-convert');\n",
              "        buttonEl.style.display =\n",
              "          google.colab.kernel.accessAllowed ? 'block' : 'none';\n",
              "\n",
              "        async function convertToInteractive(key) {\n",
              "          const element = document.querySelector('#df-1f304ca7-aa94-460e-8c05-9cac12e95b66');\n",
              "          const dataTable =\n",
              "            await google.colab.kernel.invokeFunction('convertToInteractive',\n",
              "                                                     [key], {});\n",
              "          if (!dataTable) return;\n",
              "\n",
              "          const docLinkHtml = 'Like what you see? Visit the ' +\n",
              "            '<a target=\"_blank\" href=https://colab.research.google.com/notebooks/data_table.ipynb>data table notebook</a>'\n",
              "            + ' to learn more about interactive tables.';\n",
              "          element.innerHTML = '';\n",
              "          dataTable['output_type'] = 'display_data';\n",
              "          await google.colab.output.renderOutput(dataTable, element);\n",
              "          const docLink = document.createElement('div');\n",
              "          docLink.innerHTML = docLinkHtml;\n",
              "          element.appendChild(docLink);\n",
              "        }\n",
              "      </script>\n",
              "    </div>\n",
              "  </div>\n",
              "  "
            ],
            "text/plain": [
              "     CulmenLength  CulmenDepth  FlipperLength  BodyMass  Species\n",
              "3             NaN          NaN            NaN       NaN        0\n",
              "271           NaN          NaN            NaN       NaN        1"
            ]
          },
          "execution_count": 105,
          "metadata": {},
          "output_type": "execute_result"
        }
      ],
      "source": [
        "df[df['CulmenDepth'].isna()]"
      ]
    },
    {
      "cell_type": "code",
      "execution_count": null,
      "metadata": {
        "colab": {
          "base_uri": "https://localhost:8080/",
          "height": 112
        },
        "id": "irmMiQOExLZm",
        "outputId": "2a3a8216-9520-45fb-a6fb-879e9ec586b4"
      },
      "outputs": [
        {
          "data": {
            "text/html": [
              "\n",
              "  <div id=\"df-9633e375-055a-4f95-91b1-fbea0a169851\">\n",
              "    <div class=\"colab-df-container\">\n",
              "      <div>\n",
              "<style scoped>\n",
              "    .dataframe tbody tr th:only-of-type {\n",
              "        vertical-align: middle;\n",
              "    }\n",
              "\n",
              "    .dataframe tbody tr th {\n",
              "        vertical-align: top;\n",
              "    }\n",
              "\n",
              "    .dataframe thead th {\n",
              "        text-align: right;\n",
              "    }\n",
              "</style>\n",
              "<table border=\"1\" class=\"dataframe\">\n",
              "  <thead>\n",
              "    <tr style=\"text-align: right;\">\n",
              "      <th></th>\n",
              "      <th>CulmenLength</th>\n",
              "      <th>CulmenDepth</th>\n",
              "      <th>FlipperLength</th>\n",
              "      <th>BodyMass</th>\n",
              "      <th>Species</th>\n",
              "    </tr>\n",
              "  </thead>\n",
              "  <tbody>\n",
              "    <tr>\n",
              "      <th>3</th>\n",
              "      <td>NaN</td>\n",
              "      <td>NaN</td>\n",
              "      <td>NaN</td>\n",
              "      <td>NaN</td>\n",
              "      <td>0</td>\n",
              "    </tr>\n",
              "    <tr>\n",
              "      <th>271</th>\n",
              "      <td>NaN</td>\n",
              "      <td>NaN</td>\n",
              "      <td>NaN</td>\n",
              "      <td>NaN</td>\n",
              "      <td>1</td>\n",
              "    </tr>\n",
              "  </tbody>\n",
              "</table>\n",
              "</div>\n",
              "      <button class=\"colab-df-convert\" onclick=\"convertToInteractive('df-9633e375-055a-4f95-91b1-fbea0a169851')\"\n",
              "              title=\"Convert this dataframe to an interactive table.\"\n",
              "              style=\"display:none;\">\n",
              "        \n",
              "  <svg xmlns=\"http://www.w3.org/2000/svg\" height=\"24px\"viewBox=\"0 0 24 24\"\n",
              "       width=\"24px\">\n",
              "    <path d=\"M0 0h24v24H0V0z\" fill=\"none\"/>\n",
              "    <path d=\"M18.56 5.44l.94 2.06.94-2.06 2.06-.94-2.06-.94-.94-2.06-.94 2.06-2.06.94zm-11 1L8.5 8.5l.94-2.06 2.06-.94-2.06-.94L8.5 2.5l-.94 2.06-2.06.94zm10 10l.94 2.06.94-2.06 2.06-.94-2.06-.94-.94-2.06-.94 2.06-2.06.94z\"/><path d=\"M17.41 7.96l-1.37-1.37c-.4-.4-.92-.59-1.43-.59-.52 0-1.04.2-1.43.59L10.3 9.45l-7.72 7.72c-.78.78-.78 2.05 0 2.83L4 21.41c.39.39.9.59 1.41.59.51 0 1.02-.2 1.41-.59l7.78-7.78 2.81-2.81c.8-.78.8-2.07 0-2.86zM5.41 20L4 18.59l7.72-7.72 1.47 1.35L5.41 20z\"/>\n",
              "  </svg>\n",
              "      </button>\n",
              "      \n",
              "  <style>\n",
              "    .colab-df-container {\n",
              "      display:flex;\n",
              "      flex-wrap:wrap;\n",
              "      gap: 12px;\n",
              "    }\n",
              "\n",
              "    .colab-df-convert {\n",
              "      background-color: #E8F0FE;\n",
              "      border: none;\n",
              "      border-radius: 50%;\n",
              "      cursor: pointer;\n",
              "      display: none;\n",
              "      fill: #1967D2;\n",
              "      height: 32px;\n",
              "      padding: 0 0 0 0;\n",
              "      width: 32px;\n",
              "    }\n",
              "\n",
              "    .colab-df-convert:hover {\n",
              "      background-color: #E2EBFA;\n",
              "      box-shadow: 0px 1px 2px rgba(60, 64, 67, 0.3), 0px 1px 3px 1px rgba(60, 64, 67, 0.15);\n",
              "      fill: #174EA6;\n",
              "    }\n",
              "\n",
              "    [theme=dark] .colab-df-convert {\n",
              "      background-color: #3B4455;\n",
              "      fill: #D2E3FC;\n",
              "    }\n",
              "\n",
              "    [theme=dark] .colab-df-convert:hover {\n",
              "      background-color: #434B5C;\n",
              "      box-shadow: 0px 1px 3px 1px rgba(0, 0, 0, 0.15);\n",
              "      filter: drop-shadow(0px 1px 2px rgba(0, 0, 0, 0.3));\n",
              "      fill: #FFFFFF;\n",
              "    }\n",
              "  </style>\n",
              "\n",
              "      <script>\n",
              "        const buttonEl =\n",
              "          document.querySelector('#df-9633e375-055a-4f95-91b1-fbea0a169851 button.colab-df-convert');\n",
              "        buttonEl.style.display =\n",
              "          google.colab.kernel.accessAllowed ? 'block' : 'none';\n",
              "\n",
              "        async function convertToInteractive(key) {\n",
              "          const element = document.querySelector('#df-9633e375-055a-4f95-91b1-fbea0a169851');\n",
              "          const dataTable =\n",
              "            await google.colab.kernel.invokeFunction('convertToInteractive',\n",
              "                                                     [key], {});\n",
              "          if (!dataTable) return;\n",
              "\n",
              "          const docLinkHtml = 'Like what you see? Visit the ' +\n",
              "            '<a target=\"_blank\" href=https://colab.research.google.com/notebooks/data_table.ipynb>data table notebook</a>'\n",
              "            + ' to learn more about interactive tables.';\n",
              "          element.innerHTML = '';\n",
              "          dataTable['output_type'] = 'display_data';\n",
              "          await google.colab.output.renderOutput(dataTable, element);\n",
              "          const docLink = document.createElement('div');\n",
              "          docLink.innerHTML = docLinkHtml;\n",
              "          element.appendChild(docLink);\n",
              "        }\n",
              "      </script>\n",
              "    </div>\n",
              "  </div>\n",
              "  "
            ],
            "text/plain": [
              "     CulmenLength  CulmenDepth  FlipperLength  BodyMass  Species\n",
              "3             NaN          NaN            NaN       NaN        0\n",
              "271           NaN          NaN            NaN       NaN        1"
            ]
          },
          "execution_count": 110,
          "metadata": {},
          "output_type": "execute_result"
        }
      ],
      "source": [
        "df[df['FlipperLength'].isna()]"
      ]
    },
    {
      "cell_type": "code",
      "execution_count": null,
      "metadata": {
        "colab": {
          "base_uri": "https://localhost:8080/",
          "height": 112
        },
        "id": "GwsVRh7RxN_a",
        "outputId": "570c7a53-fe8e-4047-8258-627d090edd6d"
      },
      "outputs": [
        {
          "data": {
            "text/html": [
              "\n",
              "  <div id=\"df-716acfa6-b010-47aa-a6eb-09d6033442cd\">\n",
              "    <div class=\"colab-df-container\">\n",
              "      <div>\n",
              "<style scoped>\n",
              "    .dataframe tbody tr th:only-of-type {\n",
              "        vertical-align: middle;\n",
              "    }\n",
              "\n",
              "    .dataframe tbody tr th {\n",
              "        vertical-align: top;\n",
              "    }\n",
              "\n",
              "    .dataframe thead th {\n",
              "        text-align: right;\n",
              "    }\n",
              "</style>\n",
              "<table border=\"1\" class=\"dataframe\">\n",
              "  <thead>\n",
              "    <tr style=\"text-align: right;\">\n",
              "      <th></th>\n",
              "      <th>CulmenLength</th>\n",
              "      <th>CulmenDepth</th>\n",
              "      <th>FlipperLength</th>\n",
              "      <th>BodyMass</th>\n",
              "      <th>Species</th>\n",
              "    </tr>\n",
              "  </thead>\n",
              "  <tbody>\n",
              "    <tr>\n",
              "      <th>3</th>\n",
              "      <td>NaN</td>\n",
              "      <td>NaN</td>\n",
              "      <td>NaN</td>\n",
              "      <td>NaN</td>\n",
              "      <td>0</td>\n",
              "    </tr>\n",
              "    <tr>\n",
              "      <th>271</th>\n",
              "      <td>NaN</td>\n",
              "      <td>NaN</td>\n",
              "      <td>NaN</td>\n",
              "      <td>NaN</td>\n",
              "      <td>1</td>\n",
              "    </tr>\n",
              "  </tbody>\n",
              "</table>\n",
              "</div>\n",
              "      <button class=\"colab-df-convert\" onclick=\"convertToInteractive('df-716acfa6-b010-47aa-a6eb-09d6033442cd')\"\n",
              "              title=\"Convert this dataframe to an interactive table.\"\n",
              "              style=\"display:none;\">\n",
              "        \n",
              "  <svg xmlns=\"http://www.w3.org/2000/svg\" height=\"24px\"viewBox=\"0 0 24 24\"\n",
              "       width=\"24px\">\n",
              "    <path d=\"M0 0h24v24H0V0z\" fill=\"none\"/>\n",
              "    <path d=\"M18.56 5.44l.94 2.06.94-2.06 2.06-.94-2.06-.94-.94-2.06-.94 2.06-2.06.94zm-11 1L8.5 8.5l.94-2.06 2.06-.94-2.06-.94L8.5 2.5l-.94 2.06-2.06.94zm10 10l.94 2.06.94-2.06 2.06-.94-2.06-.94-.94-2.06-.94 2.06-2.06.94z\"/><path d=\"M17.41 7.96l-1.37-1.37c-.4-.4-.92-.59-1.43-.59-.52 0-1.04.2-1.43.59L10.3 9.45l-7.72 7.72c-.78.78-.78 2.05 0 2.83L4 21.41c.39.39.9.59 1.41.59.51 0 1.02-.2 1.41-.59l7.78-7.78 2.81-2.81c.8-.78.8-2.07 0-2.86zM5.41 20L4 18.59l7.72-7.72 1.47 1.35L5.41 20z\"/>\n",
              "  </svg>\n",
              "      </button>\n",
              "      \n",
              "  <style>\n",
              "    .colab-df-container {\n",
              "      display:flex;\n",
              "      flex-wrap:wrap;\n",
              "      gap: 12px;\n",
              "    }\n",
              "\n",
              "    .colab-df-convert {\n",
              "      background-color: #E8F0FE;\n",
              "      border: none;\n",
              "      border-radius: 50%;\n",
              "      cursor: pointer;\n",
              "      display: none;\n",
              "      fill: #1967D2;\n",
              "      height: 32px;\n",
              "      padding: 0 0 0 0;\n",
              "      width: 32px;\n",
              "    }\n",
              "\n",
              "    .colab-df-convert:hover {\n",
              "      background-color: #E2EBFA;\n",
              "      box-shadow: 0px 1px 2px rgba(60, 64, 67, 0.3), 0px 1px 3px 1px rgba(60, 64, 67, 0.15);\n",
              "      fill: #174EA6;\n",
              "    }\n",
              "\n",
              "    [theme=dark] .colab-df-convert {\n",
              "      background-color: #3B4455;\n",
              "      fill: #D2E3FC;\n",
              "    }\n",
              "\n",
              "    [theme=dark] .colab-df-convert:hover {\n",
              "      background-color: #434B5C;\n",
              "      box-shadow: 0px 1px 3px 1px rgba(0, 0, 0, 0.15);\n",
              "      filter: drop-shadow(0px 1px 2px rgba(0, 0, 0, 0.3));\n",
              "      fill: #FFFFFF;\n",
              "    }\n",
              "  </style>\n",
              "\n",
              "      <script>\n",
              "        const buttonEl =\n",
              "          document.querySelector('#df-716acfa6-b010-47aa-a6eb-09d6033442cd button.colab-df-convert');\n",
              "        buttonEl.style.display =\n",
              "          google.colab.kernel.accessAllowed ? 'block' : 'none';\n",
              "\n",
              "        async function convertToInteractive(key) {\n",
              "          const element = document.querySelector('#df-716acfa6-b010-47aa-a6eb-09d6033442cd');\n",
              "          const dataTable =\n",
              "            await google.colab.kernel.invokeFunction('convertToInteractive',\n",
              "                                                     [key], {});\n",
              "          if (!dataTable) return;\n",
              "\n",
              "          const docLinkHtml = 'Like what you see? Visit the ' +\n",
              "            '<a target=\"_blank\" href=https://colab.research.google.com/notebooks/data_table.ipynb>data table notebook</a>'\n",
              "            + ' to learn more about interactive tables.';\n",
              "          element.innerHTML = '';\n",
              "          dataTable['output_type'] = 'display_data';\n",
              "          await google.colab.output.renderOutput(dataTable, element);\n",
              "          const docLink = document.createElement('div');\n",
              "          docLink.innerHTML = docLinkHtml;\n",
              "          element.appendChild(docLink);\n",
              "        }\n",
              "      </script>\n",
              "    </div>\n",
              "  </div>\n",
              "  "
            ],
            "text/plain": [
              "     CulmenLength  CulmenDepth  FlipperLength  BodyMass  Species\n",
              "3             NaN          NaN            NaN       NaN        0\n",
              "271           NaN          NaN            NaN       NaN        1"
            ]
          },
          "execution_count": 111,
          "metadata": {},
          "output_type": "execute_result"
        }
      ],
      "source": [
        "df[df['BodyMass'].isna()]"
      ]
    },
    {
      "cell_type": "markdown",
      "metadata": {
        "id": "QlUEAjWBxera"
      },
      "source": [
        "From dataframe above, we could see that the missing value is on third index and two hundred seventy first index.\n",
        "\n",
        "Now, let's check the correlation of each attributes."
      ]
    },
    {
      "cell_type": "code",
      "execution_count": null,
      "metadata": {
        "colab": {
          "base_uri": "https://localhost:8080/",
          "height": 408
        },
        "id": "JYuUG5Rpyt_K",
        "outputId": "134f52a3-8b64-40a5-fe85-048802ee2966"
      },
      "outputs": [
        {
          "data": {
            "image/png": "[encoded data removed]",
            "text/plain": [
              "<Figure size 720x432 with 2 Axes>"
            ]
          },
          "metadata": {},
          "output_type": "display_data"
        }
      ],
      "source": [
        "plt.figure(figsize = (10, 6))\n",
        "plt.title(\"The Correlation of Each Attributes\", size = 14)\n",
        "sns.heatmap(data = df.corr(), annot = True)\n",
        "plt.xlabel('Species', fontsize = 12)\n",
        "plt.ylabel('Body Mass', fontsize = 12)\n",
        "plt.show()"
      ]
    },
    {
      "cell_type": "markdown",
      "metadata": {
        "id": "tYR0g7kKz8hK"
      },
      "source": [
        "From the graph, we can conclude that:\n",
        "\n",
        "- Species and CulmenLength has a strong and positive relationship\n",
        "- CulmenLength and BodyMass has a strong and positive relationship\n",
        "- CulmenLength and FlipperLength has a strong and positive relationship\n",
        "- FlipperLength and BodyMass has a very strong and positive relationship\n",
        "- The others has not strong relationship and positive or negative relationship."
      ]
    },
    {
      "cell_type": "markdown",
      "metadata": {
        "id": "ZXpgbO29k5zd"
      },
      "source": [
        "### (15% of points) - 4. Data Preparation"
      ]
    },
    {
      "cell_type": "markdown",
      "metadata": {
        "id": "IVuKn3zTk5ze"
      },
      "source": [
        "##### Prepare your data for machine learning and explain the outputs"
      ]
    },
    {
      "cell_type": "markdown",
      "metadata": {
        "id": "Y1MmWIBH1-EV"
      },
      "source": [
        "When I do data exploration, we could see that the data has missing values and outliers. So, let's clean the data!"
      ]
    },
    {
      "cell_type": "markdown",
      "metadata": {
        "id": "UQpimQM53ZD2"
      },
      "source": [
        "Since the data only has 2 missing values and our data has 344 rows, then we could just drop it."
      ]
    },
    {
      "cell_type": "code",
      "execution_count": null,
      "metadata": {
        "id": "e0gGypijk5ze"
      },
      "outputs": [],
      "source": [
        "df.dropna(inplace = True) # drop missing value\n",
        "df.reset_index(drop = True, inplace = True) # reset index"
      ]
    },
    {
      "cell_type": "markdown",
      "metadata": {
        "id": "6XquN8-G3S6n"
      },
      "source": [
        "Now, let's check if the missing values has gone!"
      ]
    },
    {
      "cell_type": "code",
      "execution_count": null,
      "metadata": {
        "colab": {
          "base_uri": "https://localhost:8080/"
        },
        "id": "ZR7rpq0Z3GzE",
        "outputId": "58c788c9-d31e-4387-b2d6-814410936a56"
      },
      "outputs": [
        {
          "data": {
            "text/plain": [
              "CulmenLength     0\n",
              "CulmenDepth      0\n",
              "FlipperLength    0\n",
              "BodyMass         0\n",
              "Species          0\n",
              "dtype: int64"
            ]
          },
          "execution_count": 123,
          "metadata": {},
          "output_type": "execute_result"
        }
      ],
      "source": [
        "df.isnull().sum()"
      ]
    },
    {
      "cell_type": "code",
      "execution_count": null,
      "metadata": {
        "colab": {
          "base_uri": "https://localhost:8080/",
          "height": 50
        },
        "id": "q2vwuEOz3np1",
        "outputId": "569bb073-5d2a-4382-f8c8-e70ae69e8c49"
      },
      "outputs": [
        {
          "data": {
            "text/html": [
              "\n",
              "  <div id=\"df-d0a31a84-e847-404c-8e29-5d7be159a4e0\">\n",
              "    <div class=\"colab-df-container\">\n",
              "      <div>\n",
              "<style scoped>\n",
              "    .dataframe tbody tr th:only-of-type {\n",
              "        vertical-align: middle;\n",
              "    }\n",
              "\n",
              "    .dataframe tbody tr th {\n",
              "        vertical-align: top;\n",
              "    }\n",
              "\n",
              "    .dataframe thead th {\n",
              "        text-align: right;\n",
              "    }\n",
              "</style>\n",
              "<table border=\"1\" class=\"dataframe\">\n",
              "  <thead>\n",
              "    <tr style=\"text-align: right;\">\n",
              "      <th></th>\n",
              "      <th>CulmenLength</th>\n",
              "      <th>CulmenDepth</th>\n",
              "      <th>FlipperLength</th>\n",
              "      <th>BodyMass</th>\n",
              "      <th>Species</th>\n",
              "    </tr>\n",
              "  </thead>\n",
              "  <tbody>\n",
              "  </tbody>\n",
              "</table>\n",
              "</div>\n",
              "      <button class=\"colab-df-convert\" onclick=\"convertToInteractive('df-d0a31a84-e847-404c-8e29-5d7be159a4e0')\"\n",
              "              title=\"Convert this dataframe to an interactive table.\"\n",
              "              style=\"display:none;\">\n",
              "        \n",
              "  <svg xmlns=\"http://www.w3.org/2000/svg\" height=\"24px\"viewBox=\"0 0 24 24\"\n",
              "       width=\"24px\">\n",
              "    <path d=\"M0 0h24v24H0V0z\" fill=\"none\"/>\n",
              "    <path d=\"M18.56 5.44l.94 2.06.94-2.06 2.06-.94-2.06-.94-.94-2.06-.94 2.06-2.06.94zm-11 1L8.5 8.5l.94-2.06 2.06-.94-2.06-.94L8.5 2.5l-.94 2.06-2.06.94zm10 10l.94 2.06.94-2.06 2.06-.94-2.06-.94-.94-2.06-.94 2.06-2.06.94z\"/><path d=\"M17.41 7.96l-1.37-1.37c-.4-.4-.92-.59-1.43-.59-.52 0-1.04.2-1.43.59L10.3 9.45l-7.72 7.72c-.78.78-.78 2.05 0 2.83L4 21.41c.39.39.9.59 1.41.59.51 0 1.02-.2 1.41-.59l7.78-7.78 2.81-2.81c.8-.78.8-2.07 0-2.86zM5.41 20L4 18.59l7.72-7.72 1.47 1.35L5.41 20z\"/>\n",
              "  </svg>\n",
              "      </button>\n",
              "      \n",
              "  <style>\n",
              "    .colab-df-container {\n",
              "      display:flex;\n",
              "      flex-wrap:wrap;\n",
              "      gap: 12px;\n",
              "    }\n",
              "\n",
              "    .colab-df-convert {\n",
              "      background-color: #E8F0FE;\n",
              "      border: none;\n",
              "      border-radius: 50%;\n",
              "      cursor: pointer;\n",
              "      display: none;\n",
              "      fill: #1967D2;\n",
              "      height: 32px;\n",
              "      padding: 0 0 0 0;\n",
              "      width: 32px;\n",
              "    }\n",
              "\n",
              "    .colab-df-convert:hover {\n",
              "      background-color: #E2EBFA;\n",
              "      box-shadow: 0px 1px 2px rgba(60, 64, 67, 0.3), 0px 1px 3px 1px rgba(60, 64, 67, 0.15);\n",
              "      fill: #174EA6;\n",
              "    }\n",
              "\n",
              "    [theme=dark] .colab-df-convert {\n",
              "      background-color: #3B4455;\n",
              "      fill: #D2E3FC;\n",
              "    }\n",
              "\n",
              "    [theme=dark] .colab-df-convert:hover {\n",
              "      background-color: #434B5C;\n",
              "      box-shadow: 0px 1px 3px 1px rgba(0, 0, 0, 0.15);\n",
              "      filter: drop-shadow(0px 1px 2px rgba(0, 0, 0, 0.3));\n",
              "      fill: #FFFFFF;\n",
              "    }\n",
              "  </style>\n",
              "\n",
              "      <script>\n",
              "        const buttonEl =\n",
              "          document.querySelector('#df-d0a31a84-e847-404c-8e29-5d7be159a4e0 button.colab-df-convert');\n",
              "        buttonEl.style.display =\n",
              "          google.colab.kernel.accessAllowed ? 'block' : 'none';\n",
              "\n",
              "        async function convertToInteractive(key) {\n",
              "          const element = document.querySelector('#df-d0a31a84-e847-404c-8e29-5d7be159a4e0');\n",
              "          const dataTable =\n",
              "            await google.colab.kernel.invokeFunction('convertToInteractive',\n",
              "                                                     [key], {});\n",
              "          if (!dataTable) return;\n",
              "\n",
              "          const docLinkHtml = 'Like what you see? Visit the ' +\n",
              "            '<a target=\"_blank\" href=https://colab.research.google.com/notebooks/data_table.ipynb>data table notebook</a>'\n",
              "            + ' to learn more about interactive tables.';\n",
              "          element.innerHTML = '';\n",
              "          dataTable['output_type'] = 'display_data';\n",
              "          await google.colab.output.renderOutput(dataTable, element);\n",
              "          const docLink = document.createElement('div');\n",
              "          docLink.innerHTML = docLinkHtml;\n",
              "          element.appendChild(docLink);\n",
              "        }\n",
              "      </script>\n",
              "    </div>\n",
              "  </div>\n",
              "  "
            ],
            "text/plain": [
              "Empty DataFrame\n",
              "Columns: [CulmenLength, CulmenDepth, FlipperLength, BodyMass, Species]\n",
              "Index: []"
            ]
          },
          "execution_count": 124,
          "metadata": {},
          "output_type": "execute_result"
        }
      ],
      "source": [
        "df[df['CulmenLength'].isna()]"
      ]
    },
    {
      "cell_type": "code",
      "execution_count": null,
      "metadata": {
        "colab": {
          "base_uri": "https://localhost:8080/",
          "height": 50
        },
        "id": "_hI6Bbyg3qWb",
        "outputId": "c8e6003c-d440-49c6-b4e2-7e429acc7380"
      },
      "outputs": [
        {
          "data": {
            "text/html": [
              "\n",
              "  <div id=\"df-270c987f-96ef-4598-bb5e-b5227dc79bcc\">\n",
              "    <div class=\"colab-df-container\">\n",
              "      <div>\n",
              "<style scoped>\n",
              "    .dataframe tbody tr th:only-of-type {\n",
              "        vertical-align: middle;\n",
              "    }\n",
              "\n",
              "    .dataframe tbody tr th {\n",
              "        vertical-align: top;\n",
              "    }\n",
              "\n",
              "    .dataframe thead th {\n",
              "        text-align: right;\n",
              "    }\n",
              "</style>\n",
              "<table border=\"1\" class=\"dataframe\">\n",
              "  <thead>\n",
              "    <tr style=\"text-align: right;\">\n",
              "      <th></th>\n",
              "      <th>CulmenLength</th>\n",
              "      <th>CulmenDepth</th>\n",
              "      <th>FlipperLength</th>\n",
              "      <th>BodyMass</th>\n",
              "      <th>Species</th>\n",
              "    </tr>\n",
              "  </thead>\n",
              "  <tbody>\n",
              "  </tbody>\n",
              "</table>\n",
              "</div>\n",
              "      <button class=\"colab-df-convert\" onclick=\"convertToInteractive('df-270c987f-96ef-4598-bb5e-b5227dc79bcc')\"\n",
              "              title=\"Convert this dataframe to an interactive table.\"\n",
              "              style=\"display:none;\">\n",
              "        \n",
              "  <svg xmlns=\"http://www.w3.org/2000/svg\" height=\"24px\"viewBox=\"0 0 24 24\"\n",
              "       width=\"24px\">\n",
              "    <path d=\"M0 0h24v24H0V0z\" fill=\"none\"/>\n",
              "    <path d=\"M18.56 5.44l.94 2.06.94-2.06 2.06-.94-2.06-.94-.94-2.06-.94 2.06-2.06.94zm-11 1L8.5 8.5l.94-2.06 2.06-.94-2.06-.94L8.5 2.5l-.94 2.06-2.06.94zm10 10l.94 2.06.94-2.06 2.06-.94-2.06-.94-.94-2.06-.94 2.06-2.06.94z\"/><path d=\"M17.41 7.96l-1.37-1.37c-.4-.4-.92-.59-1.43-.59-.52 0-1.04.2-1.43.59L10.3 9.45l-7.72 7.72c-.78.78-.78 2.05 0 2.83L4 21.41c.39.39.9.59 1.41.59.51 0 1.02-.2 1.41-.59l7.78-7.78 2.81-2.81c.8-.78.8-2.07 0-2.86zM5.41 20L4 18.59l7.72-7.72 1.47 1.35L5.41 20z\"/>\n",
              "  </svg>\n",
              "      </button>\n",
              "      \n",
              "  <style>\n",
              "    .colab-df-container {\n",
              "      display:flex;\n",
              "      flex-wrap:wrap;\n",
              "      gap: 12px;\n",
              "    }\n",
              "\n",
              "    .colab-df-convert {\n",
              "      background-color: #E8F0FE;\n",
              "      border: none;\n",
              "      border-radius: 50%;\n",
              "      cursor: pointer;\n",
              "      display: none;\n",
              "      fill: #1967D2;\n",
              "      height: 32px;\n",
              "      padding: 0 0 0 0;\n",
              "      width: 32px;\n",
              "    }\n",
              "\n",
              "    .colab-df-convert:hover {\n",
              "      background-color: #E2EBFA;\n",
              "      box-shadow: 0px 1px 2px rgba(60, 64, 67, 0.3), 0px 1px 3px 1px rgba(60, 64, 67, 0.15);\n",
              "      fill: #174EA6;\n",
              "    }\n",
              "\n",
              "    [theme=dark] .colab-df-convert {\n",
              "      background-color: #3B4455;\n",
              "      fill: #D2E3FC;\n",
              "    }\n",
              "\n",
              "    [theme=dark] .colab-df-convert:hover {\n",
              "      background-color: #434B5C;\n",
              "      box-shadow: 0px 1px 3px 1px rgba(0, 0, 0, 0.15);\n",
              "      filter: drop-shadow(0px 1px 2px rgba(0, 0, 0, 0.3));\n",
              "      fill: #FFFFFF;\n",
              "    }\n",
              "  </style>\n",
              "\n",
              "      <script>\n",
              "        const buttonEl =\n",
              "          document.querySelector('#df-270c987f-96ef-4598-bb5e-b5227dc79bcc button.colab-df-convert');\n",
              "        buttonEl.style.display =\n",
              "          google.colab.kernel.accessAllowed ? 'block' : 'none';\n",
              "\n",
              "        async function convertToInteractive(key) {\n",
              "          const element = document.querySelector('#df-270c987f-96ef-4598-bb5e-b5227dc79bcc');\n",
              "          const dataTable =\n",
              "            await google.colab.kernel.invokeFunction('convertToInteractive',\n",
              "                                                     [key], {});\n",
              "          if (!dataTable) return;\n",
              "\n",
              "          const docLinkHtml = 'Like what you see? Visit the ' +\n",
              "            '<a target=\"_blank\" href=https://colab.research.google.com/notebooks/data_table.ipynb>data table notebook</a>'\n",
              "            + ' to learn more about interactive tables.';\n",
              "          element.innerHTML = '';\n",
              "          dataTable['output_type'] = 'display_data';\n",
              "          await google.colab.output.renderOutput(dataTable, element);\n",
              "          const docLink = document.createElement('div');\n",
              "          docLink.innerHTML = docLinkHtml;\n",
              "          element.appendChild(docLink);\n",
              "        }\n",
              "      </script>\n",
              "    </div>\n",
              "  </div>\n",
              "  "
            ],
            "text/plain": [
              "Empty DataFrame\n",
              "Columns: [CulmenLength, CulmenDepth, FlipperLength, BodyMass, Species]\n",
              "Index: []"
            ]
          },
          "execution_count": 125,
          "metadata": {},
          "output_type": "execute_result"
        }
      ],
      "source": [
        "df[df['CulmenDepth'].isna()]"
      ]
    },
    {
      "cell_type": "code",
      "execution_count": null,
      "metadata": {
        "colab": {
          "base_uri": "https://localhost:8080/",
          "height": 50
        },
        "id": "hnisE0ie3rAQ",
        "outputId": "f75e1650-f7a2-4777-dca8-0ad28655ddc8"
      },
      "outputs": [
        {
          "data": {
            "text/html": [
              "\n",
              "  <div id=\"df-4dde692b-8f6a-4f32-a728-d517a0ec9bee\">\n",
              "    <div class=\"colab-df-container\">\n",
              "      <div>\n",
              "<style scoped>\n",
              "    .dataframe tbody tr th:only-of-type {\n",
              "        vertical-align: middle;\n",
              "    }\n",
              "\n",
              "    .dataframe tbody tr th {\n",
              "        vertical-align: top;\n",
              "    }\n",
              "\n",
              "    .dataframe thead th {\n",
              "        text-align: right;\n",
              "    }\n",
              "</style>\n",
              "<table border=\"1\" class=\"dataframe\">\n",
              "  <thead>\n",
              "    <tr style=\"text-align: right;\">\n",
              "      <th></th>\n",
              "      <th>CulmenLength</th>\n",
              "      <th>CulmenDepth</th>\n",
              "      <th>FlipperLength</th>\n",
              "      <th>BodyMass</th>\n",
              "      <th>Species</th>\n",
              "    </tr>\n",
              "  </thead>\n",
              "  <tbody>\n",
              "  </tbody>\n",
              "</table>\n",
              "</div>\n",
              "      <button class=\"colab-df-convert\" onclick=\"convertToInteractive('df-4dde692b-8f6a-4f32-a728-d517a0ec9bee')\"\n",
              "              title=\"Convert this dataframe to an interactive table.\"\n",
              "              style=\"display:none;\">\n",
              "        \n",
              "  <svg xmlns=\"http://www.w3.org/2000/svg\" height=\"24px\"viewBox=\"0 0 24 24\"\n",
              "       width=\"24px\">\n",
              "    <path d=\"M0 0h24v24H0V0z\" fill=\"none\"/>\n",
              "    <path d=\"M18.56 5.44l.94 2.06.94-2.06 2.06-.94-2.06-.94-.94-2.06-.94 2.06-2.06.94zm-11 1L8.5 8.5l.94-2.06 2.06-.94-2.06-.94L8.5 2.5l-.94 2.06-2.06.94zm10 10l.94 2.06.94-2.06 2.06-.94-2.06-.94-.94-2.06-.94 2.06-2.06.94z\"/><path d=\"M17.41 7.96l-1.37-1.37c-.4-.4-.92-.59-1.43-.59-.52 0-1.04.2-1.43.59L10.3 9.45l-7.72 7.72c-.78.78-.78 2.05 0 2.83L4 21.41c.39.39.9.59 1.41.59.51 0 1.02-.2 1.41-.59l7.78-7.78 2.81-2.81c.8-.78.8-2.07 0-2.86zM5.41 20L4 18.59l7.72-7.72 1.47 1.35L5.41 20z\"/>\n",
              "  </svg>\n",
              "      </button>\n",
              "      \n",
              "  <style>\n",
              "    .colab-df-container {\n",
              "      display:flex;\n",
              "      flex-wrap:wrap;\n",
              "      gap: 12px;\n",
              "    }\n",
              "\n",
              "    .colab-df-convert {\n",
              "      background-color: #E8F0FE;\n",
              "      border: none;\n",
              "      border-radius: 50%;\n",
              "      cursor: pointer;\n",
              "      display: none;\n",
              "      fill: #1967D2;\n",
              "      height: 32px;\n",
              "      padding: 0 0 0 0;\n",
              "      width: 32px;\n",
              "    }\n",
              "\n",
              "    .colab-df-convert:hover {\n",
              "      background-color: #E2EBFA;\n",
              "      box-shadow: 0px 1px 2px rgba(60, 64, 67, 0.3), 0px 1px 3px 1px rgba(60, 64, 67, 0.15);\n",
              "      fill: #174EA6;\n",
              "    }\n",
              "\n",
              "    [theme=dark] .colab-df-convert {\n",
              "      background-color: #3B4455;\n",
              "      fill: #D2E3FC;\n",
              "    }\n",
              "\n",
              "    [theme=dark] .colab-df-convert:hover {\n",
              "      background-color: #434B5C;\n",
              "      box-shadow: 0px 1px 3px 1px rgba(0, 0, 0, 0.15);\n",
              "      filter: drop-shadow(0px 1px 2px rgba(0, 0, 0, 0.3));\n",
              "      fill: #FFFFFF;\n",
              "    }\n",
              "  </style>\n",
              "\n",
              "      <script>\n",
              "        const buttonEl =\n",
              "          document.querySelector('#df-4dde692b-8f6a-4f32-a728-d517a0ec9bee button.colab-df-convert');\n",
              "        buttonEl.style.display =\n",
              "          google.colab.kernel.accessAllowed ? 'block' : 'none';\n",
              "\n",
              "        async function convertToInteractive(key) {\n",
              "          const element = document.querySelector('#df-4dde692b-8f6a-4f32-a728-d517a0ec9bee');\n",
              "          const dataTable =\n",
              "            await google.colab.kernel.invokeFunction('convertToInteractive',\n",
              "                                                     [key], {});\n",
              "          if (!dataTable) return;\n",
              "\n",
              "          const docLinkHtml = 'Like what you see? Visit the ' +\n",
              "            '<a target=\"_blank\" href=https://colab.research.google.com/notebooks/data_table.ipynb>data table notebook</a>'\n",
              "            + ' to learn more about interactive tables.';\n",
              "          element.innerHTML = '';\n",
              "          dataTable['output_type'] = 'display_data';\n",
              "          await google.colab.output.renderOutput(dataTable, element);\n",
              "          const docLink = document.createElement('div');\n",
              "          docLink.innerHTML = docLinkHtml;\n",
              "          element.appendChild(docLink);\n",
              "        }\n",
              "      </script>\n",
              "    </div>\n",
              "  </div>\n",
              "  "
            ],
            "text/plain": [
              "Empty DataFrame\n",
              "Columns: [CulmenLength, CulmenDepth, FlipperLength, BodyMass, Species]\n",
              "Index: []"
            ]
          },
          "execution_count": 126,
          "metadata": {},
          "output_type": "execute_result"
        }
      ],
      "source": [
        "df[df['FlipperLength'].isna()]"
      ]
    },
    {
      "cell_type": "code",
      "execution_count": null,
      "metadata": {
        "colab": {
          "base_uri": "https://localhost:8080/",
          "height": 50
        },
        "id": "fnkj-GL_3tVW",
        "outputId": "dbc139db-f49f-423d-a3bd-707aa67a4b48"
      },
      "outputs": [
        {
          "data": {
            "text/html": [
              "\n",
              "  <div id=\"df-3b6bb6b7-6ba9-4362-8799-ec38bfb116e2\">\n",
              "    <div class=\"colab-df-container\">\n",
              "      <div>\n",
              "<style scoped>\n",
              "    .dataframe tbody tr th:only-of-type {\n",
              "        vertical-align: middle;\n",
              "    }\n",
              "\n",
              "    .dataframe tbody tr th {\n",
              "        vertical-align: top;\n",
              "    }\n",
              "\n",
              "    .dataframe thead th {\n",
              "        text-align: right;\n",
              "    }\n",
              "</style>\n",
              "<table border=\"1\" class=\"dataframe\">\n",
              "  <thead>\n",
              "    <tr style=\"text-align: right;\">\n",
              "      <th></th>\n",
              "      <th>CulmenLength</th>\n",
              "      <th>CulmenDepth</th>\n",
              "      <th>FlipperLength</th>\n",
              "      <th>BodyMass</th>\n",
              "      <th>Species</th>\n",
              "    </tr>\n",
              "  </thead>\n",
              "  <tbody>\n",
              "  </tbody>\n",
              "</table>\n",
              "</div>\n",
              "      <button class=\"colab-df-convert\" onclick=\"convertToInteractive('df-3b6bb6b7-6ba9-4362-8799-ec38bfb116e2')\"\n",
              "              title=\"Convert this dataframe to an interactive table.\"\n",
              "              style=\"display:none;\">\n",
              "        \n",
              "  <svg xmlns=\"http://www.w3.org/2000/svg\" height=\"24px\"viewBox=\"0 0 24 24\"\n",
              "       width=\"24px\">\n",
              "    <path d=\"M0 0h24v24H0V0z\" fill=\"none\"/>\n",
              "    <path d=\"M18.56 5.44l.94 2.06.94-2.06 2.06-.94-2.06-.94-.94-2.06-.94 2.06-2.06.94zm-11 1L8.5 8.5l.94-2.06 2.06-.94-2.06-.94L8.5 2.5l-.94 2.06-2.06.94zm10 10l.94 2.06.94-2.06 2.06-.94-2.06-.94-.94-2.06-.94 2.06-2.06.94z\"/><path d=\"M17.41 7.96l-1.37-1.37c-.4-.4-.92-.59-1.43-.59-.52 0-1.04.2-1.43.59L10.3 9.45l-7.72 7.72c-.78.78-.78 2.05 0 2.83L4 21.41c.39.39.9.59 1.41.59.51 0 1.02-.2 1.41-.59l7.78-7.78 2.81-2.81c.8-.78.8-2.07 0-2.86zM5.41 20L4 18.59l7.72-7.72 1.47 1.35L5.41 20z\"/>\n",
              "  </svg>\n",
              "      </button>\n",
              "      \n",
              "  <style>\n",
              "    .colab-df-container {\n",
              "      display:flex;\n",
              "      flex-wrap:wrap;\n",
              "      gap: 12px;\n",
              "    }\n",
              "\n",
              "    .colab-df-convert {\n",
              "      background-color: #E8F0FE;\n",
              "      border: none;\n",
              "      border-radius: 50%;\n",
              "      cursor: pointer;\n",
              "      display: none;\n",
              "      fill: #1967D2;\n",
              "      height: 32px;\n",
              "      padding: 0 0 0 0;\n",
              "      width: 32px;\n",
              "    }\n",
              "\n",
              "    .colab-df-convert:hover {\n",
              "      background-color: #E2EBFA;\n",
              "      box-shadow: 0px 1px 2px rgba(60, 64, 67, 0.3), 0px 1px 3px 1px rgba(60, 64, 67, 0.15);\n",
              "      fill: #174EA6;\n",
              "    }\n",
              "\n",
              "    [theme=dark] .colab-df-convert {\n",
              "      background-color: #3B4455;\n",
              "      fill: #D2E3FC;\n",
              "    }\n",
              "\n",
              "    [theme=dark] .colab-df-convert:hover {\n",
              "      background-color: #434B5C;\n",
              "      box-shadow: 0px 1px 3px 1px rgba(0, 0, 0, 0.15);\n",
              "      filter: drop-shadow(0px 1px 2px rgba(0, 0, 0, 0.3));\n",
              "      fill: #FFFFFF;\n",
              "    }\n",
              "  </style>\n",
              "\n",
              "      <script>\n",
              "        const buttonEl =\n",
              "          document.querySelector('#df-3b6bb6b7-6ba9-4362-8799-ec38bfb116e2 button.colab-df-convert');\n",
              "        buttonEl.style.display =\n",
              "          google.colab.kernel.accessAllowed ? 'block' : 'none';\n",
              "\n",
              "        async function convertToInteractive(key) {\n",
              "          const element = document.querySelector('#df-3b6bb6b7-6ba9-4362-8799-ec38bfb116e2');\n",
              "          const dataTable =\n",
              "            await google.colab.kernel.invokeFunction('convertToInteractive',\n",
              "                                                     [key], {});\n",
              "          if (!dataTable) return;\n",
              "\n",
              "          const docLinkHtml = 'Like what you see? Visit the ' +\n",
              "            '<a target=\"_blank\" href=https://colab.research.google.com/notebooks/data_table.ipynb>data table notebook</a>'\n",
              "            + ' to learn more about interactive tables.';\n",
              "          element.innerHTML = '';\n",
              "          dataTable['output_type'] = 'display_data';\n",
              "          await google.colab.output.renderOutput(dataTable, element);\n",
              "          const docLink = document.createElement('div');\n",
              "          docLink.innerHTML = docLinkHtml;\n",
              "          element.appendChild(docLink);\n",
              "        }\n",
              "      </script>\n",
              "    </div>\n",
              "  </div>\n",
              "  "
            ],
            "text/plain": [
              "Empty DataFrame\n",
              "Columns: [CulmenLength, CulmenDepth, FlipperLength, BodyMass, Species]\n",
              "Index: []"
            ]
          },
          "execution_count": 127,
          "metadata": {},
          "output_type": "execute_result"
        }
      ],
      "source": [
        "df[df['BodyMass'].isna()]"
      ]
    },
    {
      "cell_type": "markdown",
      "metadata": {
        "id": "yMmqpQte3xXq"
      },
      "source": [
        "Now, it's gone! Let's check if the outliers still exist! We're going to find the lower bound and upper bound of the data. If the value of each attributes is more than upper bound or less than lower bound, then we can conclude that the outliers are exist."
      ]
    },
    {
      "cell_type": "code",
      "execution_count": null,
      "metadata": {
        "colab": {
          "base_uri": "https://localhost:8080/"
        },
        "id": "5BfEXUBP5llT",
        "outputId": "368ff08e-6217-4a20-ebb2-e3a6cf1a798c"
      },
      "outputs": [
        {
          "name": "stdout",
          "output_type": "stream",
          "text": [
            "Q25 of CulmenLength: 39.225\n",
            "Q75 of CulmenLength: 48.5\n",
            "IQR of CulmenLength: 9.274999999999999\n"
          ]
        }
      ],
      "source": [
        "Q75, Q25 = np.percentile(df.loc[:,'CulmenLength'], [75, 25])\n",
        "IQR = Q75 - Q25\n",
        "print(f'Q25 of CulmenLength: {Q25}')\n",
        "print(f'Q75 of CulmenLength: {Q75}')\n",
        "print(f'IQR of CulmenLength: {IQR}')"
      ]
    },
    {
      "cell_type": "code",
      "execution_count": null,
      "metadata": {
        "colab": {
          "base_uri": "https://localhost:8080/"
        },
        "id": "UgAttOlm6wdu",
        "outputId": "c1c26f9c-45a1-47e7-96ab-ffd9f7129127"
      },
      "outputs": [
        {
          "name": "stdout",
          "output_type": "stream",
          "text": [
            "Lower Bound of CulmenLength: 25.312500000000004\n",
            "Upper Bound of CulmenLength: 62.412499999999994\n"
          ]
        }
      ],
      "source": [
        "lower_bound = Q25 - (1.5 * IQR)\n",
        "upper_bound = Q75 + (1.5 * IQR)\n",
        "print(f'Lower Bound of CulmenLength: {lower_bound}')\n",
        "print(f'Upper Bound of CulmenLength: {upper_bound}')"
      ]
    },
    {
      "cell_type": "code",
      "execution_count": null,
      "metadata": {
        "colab": {
          "base_uri": "https://localhost:8080/",
          "height": 50
        },
        "id": "qFzS5AOT7DMK",
        "outputId": "bd3f223b-b3e5-40ff-d712-a1c5a8f80463"
      },
      "outputs": [
        {
          "data": {
            "text/html": [
              "\n",
              "  <div id=\"df-5d1d2401-f3df-4f37-b9db-eb81bd7c2373\">\n",
              "    <div class=\"colab-df-container\">\n",
              "      <div>\n",
              "<style scoped>\n",
              "    .dataframe tbody tr th:only-of-type {\n",
              "        vertical-align: middle;\n",
              "    }\n",
              "\n",
              "    .dataframe tbody tr th {\n",
              "        vertical-align: top;\n",
              "    }\n",
              "\n",
              "    .dataframe thead th {\n",
              "        text-align: right;\n",
              "    }\n",
              "</style>\n",
              "<table border=\"1\" class=\"dataframe\">\n",
              "  <thead>\n",
              "    <tr style=\"text-align: right;\">\n",
              "      <th></th>\n",
              "      <th>CulmenLength</th>\n",
              "      <th>CulmenDepth</th>\n",
              "      <th>FlipperLength</th>\n",
              "      <th>BodyMass</th>\n",
              "      <th>Species</th>\n",
              "    </tr>\n",
              "  </thead>\n",
              "  <tbody>\n",
              "  </tbody>\n",
              "</table>\n",
              "</div>\n",
              "      <button class=\"colab-df-convert\" onclick=\"convertToInteractive('df-5d1d2401-f3df-4f37-b9db-eb81bd7c2373')\"\n",
              "              title=\"Convert this dataframe to an interactive table.\"\n",
              "              style=\"display:none;\">\n",
              "        \n",
              "  <svg xmlns=\"http://www.w3.org/2000/svg\" height=\"24px\"viewBox=\"0 0 24 24\"\n",
              "       width=\"24px\">\n",
              "    <path d=\"M0 0h24v24H0V0z\" fill=\"none\"/>\n",
              "    <path d=\"M18.56 5.44l.94 2.06.94-2.06 2.06-.94-2.06-.94-.94-2.06-.94 2.06-2.06.94zm-11 1L8.5 8.5l.94-2.06 2.06-.94-2.06-.94L8.5 2.5l-.94 2.06-2.06.94zm10 10l.94 2.06.94-2.06 2.06-.94-2.06-.94-.94-2.06-.94 2.06-2.06.94z\"/><path d=\"M17.41 7.96l-1.37-1.37c-.4-.4-.92-.59-1.43-.59-.52 0-1.04.2-1.43.59L10.3 9.45l-7.72 7.72c-.78.78-.78 2.05 0 2.83L4 21.41c.39.39.9.59 1.41.59.51 0 1.02-.2 1.41-.59l7.78-7.78 2.81-2.81c.8-.78.8-2.07 0-2.86zM5.41 20L4 18.59l7.72-7.72 1.47 1.35L5.41 20z\"/>\n",
              "  </svg>\n",
              "      </button>\n",
              "      \n",
              "  <style>\n",
              "    .colab-df-container {\n",
              "      display:flex;\n",
              "      flex-wrap:wrap;\n",
              "      gap: 12px;\n",
              "    }\n",
              "\n",
              "    .colab-df-convert {\n",
              "      background-color: #E8F0FE;\n",
              "      border: none;\n",
              "      border-radius: 50%;\n",
              "      cursor: pointer;\n",
              "      display: none;\n",
              "      fill: #1967D2;\n",
              "      height: 32px;\n",
              "      padding: 0 0 0 0;\n",
              "      width: 32px;\n",
              "    }\n",
              "\n",
              "    .colab-df-convert:hover {\n",
              "      background-color: #E2EBFA;\n",
              "      box-shadow: 0px 1px 2px rgba(60, 64, 67, 0.3), 0px 1px 3px 1px rgba(60, 64, 67, 0.15);\n",
              "      fill: #174EA6;\n",
              "    }\n",
              "\n",
              "    [theme=dark] .colab-df-convert {\n",
              "      background-color: #3B4455;\n",
              "      fill: #D2E3FC;\n",
              "    }\n",
              "\n",
              "    [theme=dark] .colab-df-convert:hover {\n",
              "      background-color: #434B5C;\n",
              "      box-shadow: 0px 1px 3px 1px rgba(0, 0, 0, 0.15);\n",
              "      filter: drop-shadow(0px 1px 2px rgba(0, 0, 0, 0.3));\n",
              "      fill: #FFFFFF;\n",
              "    }\n",
              "  </style>\n",
              "\n",
              "      <script>\n",
              "        const buttonEl =\n",
              "          document.querySelector('#df-5d1d2401-f3df-4f37-b9db-eb81bd7c2373 button.colab-df-convert');\n",
              "        buttonEl.style.display =\n",
              "          google.colab.kernel.accessAllowed ? 'block' : 'none';\n",
              "\n",
              "        async function convertToInteractive(key) {\n",
              "          const element = document.querySelector('#df-5d1d2401-f3df-4f37-b9db-eb81bd7c2373');\n",
              "          const dataTable =\n",
              "            await google.colab.kernel.invokeFunction('convertToInteractive',\n",
              "                                                     [key], {});\n",
              "          if (!dataTable) return;\n",
              "\n",
              "          const docLinkHtml = 'Like what you see? Visit the ' +\n",
              "            '<a target=\"_blank\" href=https://colab.research.google.com/notebooks/data_table.ipynb>data table notebook</a>'\n",
              "            + ' to learn more about interactive tables.';\n",
              "          element.innerHTML = '';\n",
              "          dataTable['output_type'] = 'display_data';\n",
              "          await google.colab.output.renderOutput(dataTable, element);\n",
              "          const docLink = document.createElement('div');\n",
              "          docLink.innerHTML = docLinkHtml;\n",
              "          element.appendChild(docLink);\n",
              "        }\n",
              "      </script>\n",
              "    </div>\n",
              "  </div>\n",
              "  "
            ],
            "text/plain": [
              "Empty DataFrame\n",
              "Columns: [CulmenLength, CulmenDepth, FlipperLength, BodyMass, Species]\n",
              "Index: []"
            ]
          },
          "execution_count": 141,
          "metadata": {},
          "output_type": "execute_result"
        }
      ],
      "source": [
        "df[(df['CulmenLength'] > upper_bound) | (df['CulmenLength'] < lower_bound)]"
      ]
    },
    {
      "cell_type": "code",
      "execution_count": null,
      "metadata": {
        "colab": {
          "base_uri": "https://localhost:8080/"
        },
        "id": "RuHjjUAr8Ddc",
        "outputId": "f2bdfbc5-ff5d-456b-af33-532b5014de20"
      },
      "outputs": [
        {
          "name": "stdout",
          "output_type": "stream",
          "text": [
            "Q25 of CulmenDepth: 15.6\n",
            "Q75 of CulmenDepth: 18.7\n",
            "IQR of CulmenDepth: 3.0999999999999996\n"
          ]
        }
      ],
      "source": [
        "Q75, Q25 = np.percentile(df.loc[:,'CulmenDepth'], [75, 25])\n",
        "IQR = Q75 - Q25\n",
        "print(f'Q25 of CulmenDepth: {Q25}')\n",
        "print(f'Q75 of CulmenDepth: {Q75}')\n",
        "print(f'IQR of CulmenDepth: {IQR}')"
      ]
    },
    {
      "cell_type": "code",
      "execution_count": null,
      "metadata": {
        "colab": {
          "base_uri": "https://localhost:8080/"
        },
        "id": "Vbb_F9r18FFg",
        "outputId": "a92417ef-e61b-4d01-bb0e-d0ee877f5eef"
      },
      "outputs": [
        {
          "name": "stdout",
          "output_type": "stream",
          "text": [
            "Lower Bound of CulmenDepth: 10.95\n",
            "Upper Bound of CulmenDepth: 23.349999999999998\n"
          ]
        }
      ],
      "source": [
        "lower_bound = Q25 - (1.5 * IQR)\n",
        "upper_bound = Q75 + (1.5 * IQR)\n",
        "print(f'Lower Bound of CulmenDepth: {lower_bound}')\n",
        "print(f'Upper Bound of CulmenDepth: {upper_bound}')"
      ]
    },
    {
      "cell_type": "code",
      "execution_count": null,
      "metadata": {
        "colab": {
          "base_uri": "https://localhost:8080/",
          "height": 50
        },
        "id": "suinDqDn8HWD",
        "outputId": "7b0732cf-3eec-4035-ae1d-34a1b1b350e7"
      },
      "outputs": [
        {
          "data": {
            "text/html": [
              "\n",
              "  <div id=\"df-b46fef0e-f6a4-4e46-b14c-2471a9b61887\">\n",
              "    <div class=\"colab-df-container\">\n",
              "      <div>\n",
              "<style scoped>\n",
              "    .dataframe tbody tr th:only-of-type {\n",
              "        vertical-align: middle;\n",
              "    }\n",
              "\n",
              "    .dataframe tbody tr th {\n",
              "        vertical-align: top;\n",
              "    }\n",
              "\n",
              "    .dataframe thead th {\n",
              "        text-align: right;\n",
              "    }\n",
              "</style>\n",
              "<table border=\"1\" class=\"dataframe\">\n",
              "  <thead>\n",
              "    <tr style=\"text-align: right;\">\n",
              "      <th></th>\n",
              "      <th>CulmenLength</th>\n",
              "      <th>CulmenDepth</th>\n",
              "      <th>FlipperLength</th>\n",
              "      <th>BodyMass</th>\n",
              "      <th>Species</th>\n",
              "    </tr>\n",
              "  </thead>\n",
              "  <tbody>\n",
              "  </tbody>\n",
              "</table>\n",
              "</div>\n",
              "      <button class=\"colab-df-convert\" onclick=\"convertToInteractive('df-b46fef0e-f6a4-4e46-b14c-2471a9b61887')\"\n",
              "              title=\"Convert this dataframe to an interactive table.\"\n",
              "              style=\"display:none;\">\n",
              "        \n",
              "  <svg xmlns=\"http://www.w3.org/2000/svg\" height=\"24px\"viewBox=\"0 0 24 24\"\n",
              "       width=\"24px\">\n",
              "    <path d=\"M0 0h24v24H0V0z\" fill=\"none\"/>\n",
              "    <path d=\"M18.56 5.44l.94 2.06.94-2.06 2.06-.94-2.06-.94-.94-2.06-.94 2.06-2.06.94zm-11 1L8.5 8.5l.94-2.06 2.06-.94-2.06-.94L8.5 2.5l-.94 2.06-2.06.94zm10 10l.94 2.06.94-2.06 2.06-.94-2.06-.94-.94-2.06-.94 2.06-2.06.94z\"/><path d=\"M17.41 7.96l-1.37-1.37c-.4-.4-.92-.59-1.43-.59-.52 0-1.04.2-1.43.59L10.3 9.45l-7.72 7.72c-.78.78-.78 2.05 0 2.83L4 21.41c.39.39.9.59 1.41.59.51 0 1.02-.2 1.41-.59l7.78-7.78 2.81-2.81c.8-.78.8-2.07 0-2.86zM5.41 20L4 18.59l7.72-7.72 1.47 1.35L5.41 20z\"/>\n",
              "  </svg>\n",
              "      </button>\n",
              "      \n",
              "  <style>\n",
              "    .colab-df-container {\n",
              "      display:flex;\n",
              "      flex-wrap:wrap;\n",
              "      gap: 12px;\n",
              "    }\n",
              "\n",
              "    .colab-df-convert {\n",
              "      background-color: #E8F0FE;\n",
              "      border: none;\n",
              "      border-radius: 50%;\n",
              "      cursor: pointer;\n",
              "      display: none;\n",
              "      fill: #1967D2;\n",
              "      height: 32px;\n",
              "      padding: 0 0 0 0;\n",
              "      width: 32px;\n",
              "    }\n",
              "\n",
              "    .colab-df-convert:hover {\n",
              "      background-color: #E2EBFA;\n",
              "      box-shadow: 0px 1px 2px rgba(60, 64, 67, 0.3), 0px 1px 3px 1px rgba(60, 64, 67, 0.15);\n",
              "      fill: #174EA6;\n",
              "    }\n",
              "\n",
              "    [theme=dark] .colab-df-convert {\n",
              "      background-color: #3B4455;\n",
              "      fill: #D2E3FC;\n",
              "    }\n",
              "\n",
              "    [theme=dark] .colab-df-convert:hover {\n",
              "      background-color: #434B5C;\n",
              "      box-shadow: 0px 1px 3px 1px rgba(0, 0, 0, 0.15);\n",
              "      filter: drop-shadow(0px 1px 2px rgba(0, 0, 0, 0.3));\n",
              "      fill: #FFFFFF;\n",
              "    }\n",
              "  </style>\n",
              "\n",
              "      <script>\n",
              "        const buttonEl =\n",
              "          document.querySelector('#df-b46fef0e-f6a4-4e46-b14c-2471a9b61887 button.colab-df-convert');\n",
              "        buttonEl.style.display =\n",
              "          google.colab.kernel.accessAllowed ? 'block' : 'none';\n",
              "\n",
              "        async function convertToInteractive(key) {\n",
              "          const element = document.querySelector('#df-b46fef0e-f6a4-4e46-b14c-2471a9b61887');\n",
              "          const dataTable =\n",
              "            await google.colab.kernel.invokeFunction('convertToInteractive',\n",
              "                                                     [key], {});\n",
              "          if (!dataTable) return;\n",
              "\n",
              "          const docLinkHtml = 'Like what you see? Visit the ' +\n",
              "            '<a target=\"_blank\" href=https://colab.research.google.com/notebooks/data_table.ipynb>data table notebook</a>'\n",
              "            + ' to learn more about interactive tables.';\n",
              "          element.innerHTML = '';\n",
              "          dataTable['output_type'] = 'display_data';\n",
              "          await google.colab.output.renderOutput(dataTable, element);\n",
              "          const docLink = document.createElement('div');\n",
              "          docLink.innerHTML = docLinkHtml;\n",
              "          element.appendChild(docLink);\n",
              "        }\n",
              "      </script>\n",
              "    </div>\n",
              "  </div>\n",
              "  "
            ],
            "text/plain": [
              "Empty DataFrame\n",
              "Columns: [CulmenLength, CulmenDepth, FlipperLength, BodyMass, Species]\n",
              "Index: []"
            ]
          },
          "execution_count": 144,
          "metadata": {},
          "output_type": "execute_result"
        }
      ],
      "source": [
        "df[(df['CulmenDepth'] > upper_bound) | (df['CulmenDepth'] < lower_bound)]"
      ]
    },
    {
      "cell_type": "code",
      "execution_count": null,
      "metadata": {
        "colab": {
          "base_uri": "https://localhost:8080/"
        },
        "id": "n8jXWu848amH",
        "outputId": "9e362460-7a24-4874-982f-f5799f34e8f1"
      },
      "outputs": [
        {
          "name": "stdout",
          "output_type": "stream",
          "text": [
            "Q25 of FlipperLength: 190.0\n",
            "Q75 of FlipperLength: 213.0\n",
            "IQR of FlipperLength: 23.0\n"
          ]
        }
      ],
      "source": [
        "Q75, Q25 = np.percentile(df.loc[:,'FlipperLength'], [75, 25])\n",
        "IQR = Q75 - Q25\n",
        "print(f'Q25 of FlipperLength: {Q25}')\n",
        "print(f'Q75 of FlipperLength: {Q75}')\n",
        "print(f'IQR of FlipperLength: {IQR}')"
      ]
    },
    {
      "cell_type": "code",
      "execution_count": null,
      "metadata": {
        "colab": {
          "base_uri": "https://localhost:8080/"
        },
        "id": "YgCJlrim8eAM",
        "outputId": "0d9242c3-90df-40a6-eef8-9f87aa7b573d"
      },
      "outputs": [
        {
          "name": "stdout",
          "output_type": "stream",
          "text": [
            "Lower Bound of FlipperLength: 155.5\n",
            "Upper Bound of FlipperLength: 247.5\n"
          ]
        }
      ],
      "source": [
        "lower_bound = Q25 - (1.5 * IQR)\n",
        "upper_bound = Q75 + (1.5 * IQR)\n",
        "print(f'Lower Bound of FlipperLength: {lower_bound}')\n",
        "print(f'Upper Bound of FlipperLength: {upper_bound}')"
      ]
    },
    {
      "cell_type": "code",
      "execution_count": null,
      "metadata": {
        "colab": {
          "base_uri": "https://localhost:8080/",
          "height": 50
        },
        "id": "59NTgP8L8fco",
        "outputId": "9cc9092d-e5d7-4f35-e5ba-9362a0765323"
      },
      "outputs": [
        {
          "data": {
            "text/html": [
              "\n",
              "  <div id=\"df-d9a8b0b0-a254-413e-96b5-8b2597cb081b\">\n",
              "    <div class=\"colab-df-container\">\n",
              "      <div>\n",
              "<style scoped>\n",
              "    .dataframe tbody tr th:only-of-type {\n",
              "        vertical-align: middle;\n",
              "    }\n",
              "\n",
              "    .dataframe tbody tr th {\n",
              "        vertical-align: top;\n",
              "    }\n",
              "\n",
              "    .dataframe thead th {\n",
              "        text-align: right;\n",
              "    }\n",
              "</style>\n",
              "<table border=\"1\" class=\"dataframe\">\n",
              "  <thead>\n",
              "    <tr style=\"text-align: right;\">\n",
              "      <th></th>\n",
              "      <th>CulmenLength</th>\n",
              "      <th>CulmenDepth</th>\n",
              "      <th>FlipperLength</th>\n",
              "      <th>BodyMass</th>\n",
              "      <th>Species</th>\n",
              "    </tr>\n",
              "  </thead>\n",
              "  <tbody>\n",
              "  </tbody>\n",
              "</table>\n",
              "</div>\n",
              "      <button class=\"colab-df-convert\" onclick=\"convertToInteractive('df-d9a8b0b0-a254-413e-96b5-8b2597cb081b')\"\n",
              "              title=\"Convert this dataframe to an interactive table.\"\n",
              "              style=\"display:none;\">\n",
              "        \n",
              "  <svg xmlns=\"http://www.w3.org/2000/svg\" height=\"24px\"viewBox=\"0 0 24 24\"\n",
              "       width=\"24px\">\n",
              "    <path d=\"M0 0h24v24H0V0z\" fill=\"none\"/>\n",
              "    <path d=\"M18.56 5.44l.94 2.06.94-2.06 2.06-.94-2.06-.94-.94-2.06-.94 2.06-2.06.94zm-11 1L8.5 8.5l.94-2.06 2.06-.94-2.06-.94L8.5 2.5l-.94 2.06-2.06.94zm10 10l.94 2.06.94-2.06 2.06-.94-2.06-.94-.94-2.06-.94 2.06-2.06.94z\"/><path d=\"M17.41 7.96l-1.37-1.37c-.4-.4-.92-.59-1.43-.59-.52 0-1.04.2-1.43.59L10.3 9.45l-7.72 7.72c-.78.78-.78 2.05 0 2.83L4 21.41c.39.39.9.59 1.41.59.51 0 1.02-.2 1.41-.59l7.78-7.78 2.81-2.81c.8-.78.8-2.07 0-2.86zM5.41 20L4 18.59l7.72-7.72 1.47 1.35L5.41 20z\"/>\n",
              "  </svg>\n",
              "      </button>\n",
              "      \n",
              "  <style>\n",
              "    .colab-df-container {\n",
              "      display:flex;\n",
              "      flex-wrap:wrap;\n",
              "      gap: 12px;\n",
              "    }\n",
              "\n",
              "    .colab-df-convert {\n",
              "      background-color: #E8F0FE;\n",
              "      border: none;\n",
              "      border-radius: 50%;\n",
              "      cursor: pointer;\n",
              "      display: none;\n",
              "      fill: #1967D2;\n",
              "      height: 32px;\n",
              "      padding: 0 0 0 0;\n",
              "      width: 32px;\n",
              "    }\n",
              "\n",
              "    .colab-df-convert:hover {\n",
              "      background-color: #E2EBFA;\n",
              "      box-shadow: 0px 1px 2px rgba(60, 64, 67, 0.3), 0px 1px 3px 1px rgba(60, 64, 67, 0.15);\n",
              "      fill: #174EA6;\n",
              "    }\n",
              "\n",
              "    [theme=dark] .colab-df-convert {\n",
              "      background-color: #3B4455;\n",
              "      fill: #D2E3FC;\n",
              "    }\n",
              "\n",
              "    [theme=dark] .colab-df-convert:hover {\n",
              "      background-color: #434B5C;\n",
              "      box-shadow: 0px 1px 3px 1px rgba(0, 0, 0, 0.15);\n",
              "      filter: drop-shadow(0px 1px 2px rgba(0, 0, 0, 0.3));\n",
              "      fill: #FFFFFF;\n",
              "    }\n",
              "  </style>\n",
              "\n",
              "      <script>\n",
              "        const buttonEl =\n",
              "          document.querySelector('#df-d9a8b0b0-a254-413e-96b5-8b2597cb081b button.colab-df-convert');\n",
              "        buttonEl.style.display =\n",
              "          google.colab.kernel.accessAllowed ? 'block' : 'none';\n",
              "\n",
              "        async function convertToInteractive(key) {\n",
              "          const element = document.querySelector('#df-d9a8b0b0-a254-413e-96b5-8b2597cb081b');\n",
              "          const dataTable =\n",
              "            await google.colab.kernel.invokeFunction('convertToInteractive',\n",
              "                                                     [key], {});\n",
              "          if (!dataTable) return;\n",
              "\n",
              "          const docLinkHtml = 'Like what you see? Visit the ' +\n",
              "            '<a target=\"_blank\" href=https://colab.research.google.com/notebooks/data_table.ipynb>data table notebook</a>'\n",
              "            + ' to learn more about interactive tables.';\n",
              "          element.innerHTML = '';\n",
              "          dataTable['output_type'] = 'display_data';\n",
              "          await google.colab.output.renderOutput(dataTable, element);\n",
              "          const docLink = document.createElement('div');\n",
              "          docLink.innerHTML = docLinkHtml;\n",
              "          element.appendChild(docLink);\n",
              "        }\n",
              "      </script>\n",
              "    </div>\n",
              "  </div>\n",
              "  "
            ],
            "text/plain": [
              "Empty DataFrame\n",
              "Columns: [CulmenLength, CulmenDepth, FlipperLength, BodyMass, Species]\n",
              "Index: []"
            ]
          },
          "execution_count": 148,
          "metadata": {},
          "output_type": "execute_result"
        }
      ],
      "source": [
        "df[(df['FlipperLength'] > upper_bound) | (df['FlipperLength'] < lower_bound)]"
      ]
    },
    {
      "cell_type": "code",
      "execution_count": null,
      "metadata": {
        "colab": {
          "base_uri": "https://localhost:8080/"
        },
        "id": "HRy3AwVm8ruA",
        "outputId": "547193f6-1284-401e-d8e7-85e50c5e6202"
      },
      "outputs": [
        {
          "name": "stdout",
          "output_type": "stream",
          "text": [
            "Q25 of BodyMass: 3550.0\n",
            "Q75 of BodyMass: 4750.0\n",
            "IQR of BodyMass: 1200.0\n"
          ]
        }
      ],
      "source": [
        "Q75, Q25 = np.percentile(df.loc[:,'BodyMass'], [75, 25])\n",
        "IQR = Q75 - Q25\n",
        "print(f'Q25 of BodyMass: {Q25}')\n",
        "print(f'Q75 of BodyMass: {Q75}')\n",
        "print(f'IQR of BodyMass: {IQR}')"
      ]
    },
    {
      "cell_type": "code",
      "execution_count": null,
      "metadata": {
        "colab": {
          "base_uri": "https://localhost:8080/"
        },
        "id": "oZllN-tz8tAj",
        "outputId": "3634492b-421b-4d70-956d-14117a6ce9f2"
      },
      "outputs": [
        {
          "name": "stdout",
          "output_type": "stream",
          "text": [
            "Lower Bound of BodyMass: 1750.0\n",
            "Upper Bound of BodyMass: 6550.0\n"
          ]
        }
      ],
      "source": [
        "lower_bound = Q25 - (1.5 * IQR)\n",
        "upper_bound = Q75 + (1.5 * IQR)\n",
        "print(f'Lower Bound of BodyMass: {lower_bound}')\n",
        "print(f'Upper Bound of BodyMass: {upper_bound}')"
      ]
    },
    {
      "cell_type": "code",
      "execution_count": null,
      "metadata": {
        "colab": {
          "base_uri": "https://localhost:8080/",
          "height": 50
        },
        "id": "Tfa-UVt88uZ7",
        "outputId": "c04c5f68-7ca4-48d3-bc5c-2ed5f537d537"
      },
      "outputs": [
        {
          "data": {
            "text/html": [
              "\n",
              "  <div id=\"df-73bd47c2-e0ee-4e20-8d98-13b0e4e880e2\">\n",
              "    <div class=\"colab-df-container\">\n",
              "      <div>\n",
              "<style scoped>\n",
              "    .dataframe tbody tr th:only-of-type {\n",
              "        vertical-align: middle;\n",
              "    }\n",
              "\n",
              "    .dataframe tbody tr th {\n",
              "        vertical-align: top;\n",
              "    }\n",
              "\n",
              "    .dataframe thead th {\n",
              "        text-align: right;\n",
              "    }\n",
              "</style>\n",
              "<table border=\"1\" class=\"dataframe\">\n",
              "  <thead>\n",
              "    <tr style=\"text-align: right;\">\n",
              "      <th></th>\n",
              "      <th>CulmenLength</th>\n",
              "      <th>CulmenDepth</th>\n",
              "      <th>FlipperLength</th>\n",
              "      <th>BodyMass</th>\n",
              "      <th>Species</th>\n",
              "    </tr>\n",
              "  </thead>\n",
              "  <tbody>\n",
              "  </tbody>\n",
              "</table>\n",
              "</div>\n",
              "      <button class=\"colab-df-convert\" onclick=\"convertToInteractive('df-73bd47c2-e0ee-4e20-8d98-13b0e4e880e2')\"\n",
              "              title=\"Convert this dataframe to an interactive table.\"\n",
              "              style=\"display:none;\">\n",
              "        \n",
              "  <svg xmlns=\"http://www.w3.org/2000/svg\" height=\"24px\"viewBox=\"0 0 24 24\"\n",
              "       width=\"24px\">\n",
              "    <path d=\"M0 0h24v24H0V0z\" fill=\"none\"/>\n",
              "    <path d=\"M18.56 5.44l.94 2.06.94-2.06 2.06-.94-2.06-.94-.94-2.06-.94 2.06-2.06.94zm-11 1L8.5 8.5l.94-2.06 2.06-.94-2.06-.94L8.5 2.5l-.94 2.06-2.06.94zm10 10l.94 2.06.94-2.06 2.06-.94-2.06-.94-.94-2.06-.94 2.06-2.06.94z\"/><path d=\"M17.41 7.96l-1.37-1.37c-.4-.4-.92-.59-1.43-.59-.52 0-1.04.2-1.43.59L10.3 9.45l-7.72 7.72c-.78.78-.78 2.05 0 2.83L4 21.41c.39.39.9.59 1.41.59.51 0 1.02-.2 1.41-.59l7.78-7.78 2.81-2.81c.8-.78.8-2.07 0-2.86zM5.41 20L4 18.59l7.72-7.72 1.47 1.35L5.41 20z\"/>\n",
              "  </svg>\n",
              "      </button>\n",
              "      \n",
              "  <style>\n",
              "    .colab-df-container {\n",
              "      display:flex;\n",
              "      flex-wrap:wrap;\n",
              "      gap: 12px;\n",
              "    }\n",
              "\n",
              "    .colab-df-convert {\n",
              "      background-color: #E8F0FE;\n",
              "      border: none;\n",
              "      border-radius: 50%;\n",
              "      cursor: pointer;\n",
              "      display: none;\n",
              "      fill: #1967D2;\n",
              "      height: 32px;\n",
              "      padding: 0 0 0 0;\n",
              "      width: 32px;\n",
              "    }\n",
              "\n",
              "    .colab-df-convert:hover {\n",
              "      background-color: #E2EBFA;\n",
              "      box-shadow: 0px 1px 2px rgba(60, 64, 67, 0.3), 0px 1px 3px 1px rgba(60, 64, 67, 0.15);\n",
              "      fill: #174EA6;\n",
              "    }\n",
              "\n",
              "    [theme=dark] .colab-df-convert {\n",
              "      background-color: #3B4455;\n",
              "      fill: #D2E3FC;\n",
              "    }\n",
              "\n",
              "    [theme=dark] .colab-df-convert:hover {\n",
              "      background-color: #434B5C;\n",
              "      box-shadow: 0px 1px 3px 1px rgba(0, 0, 0, 0.15);\n",
              "      filter: drop-shadow(0px 1px 2px rgba(0, 0, 0, 0.3));\n",
              "      fill: #FFFFFF;\n",
              "    }\n",
              "  </style>\n",
              "\n",
              "      <script>\n",
              "        const buttonEl =\n",
              "          document.querySelector('#df-73bd47c2-e0ee-4e20-8d98-13b0e4e880e2 button.colab-df-convert');\n",
              "        buttonEl.style.display =\n",
              "          google.colab.kernel.accessAllowed ? 'block' : 'none';\n",
              "\n",
              "        async function convertToInteractive(key) {\n",
              "          const element = document.querySelector('#df-73bd47c2-e0ee-4e20-8d98-13b0e4e880e2');\n",
              "          const dataTable =\n",
              "            await google.colab.kernel.invokeFunction('convertToInteractive',\n",
              "                                                     [key], {});\n",
              "          if (!dataTable) return;\n",
              "\n",
              "          const docLinkHtml = 'Like what you see? Visit the ' +\n",
              "            '<a target=\"_blank\" href=https://colab.research.google.com/notebooks/data_table.ipynb>data table notebook</a>'\n",
              "            + ' to learn more about interactive tables.';\n",
              "          element.innerHTML = '';\n",
              "          dataTable['output_type'] = 'display_data';\n",
              "          await google.colab.output.renderOutput(dataTable, element);\n",
              "          const docLink = document.createElement('div');\n",
              "          docLink.innerHTML = docLinkHtml;\n",
              "          element.appendChild(docLink);\n",
              "        }\n",
              "      </script>\n",
              "    </div>\n",
              "  </div>\n",
              "  "
            ],
            "text/plain": [
              "Empty DataFrame\n",
              "Columns: [CulmenLength, CulmenDepth, FlipperLength, BodyMass, Species]\n",
              "Index: []"
            ]
          },
          "execution_count": 151,
          "metadata": {},
          "output_type": "execute_result"
        }
      ],
      "source": [
        "df[(df['BodyMass'] > upper_bound) | (df['BodyMass'] < lower_bound)]"
      ]
    },
    {
      "cell_type": "markdown",
      "metadata": {
        "id": "LlI5Qxh484pf"
      },
      "source": [
        "Since the missing value and outliers has gone, let's prepare the data we need for modelling!"
      ]
    },
    {
      "cell_type": "markdown",
      "metadata": {
        "id": "rs6W0NrrBVy0"
      },
      "source": [
        "First, we're going to split the data and all attributes except Species will be X. Meanwhile, Species attributes will be y. Also, X will be the predictor of y and y will be the variables we want to predict."
      ]
    },
    {
      "cell_type": "code",
      "execution_count": null,
      "metadata": {
        "id": "SJMkKIUJ-BLU"
      },
      "outputs": [],
      "source": [
        "X = df.drop('Species', axis = 1)\n",
        "y = df['Species']"
      ]
    },
    {
      "cell_type": "code",
      "execution_count": null,
      "metadata": {
        "colab": {
          "base_uri": "https://localhost:8080/",
          "height": 363
        },
        "id": "tSQJCWhkBLuk",
        "outputId": "2cf428a9-a32c-451d-c2d5-a665a6822312"
      },
      "outputs": [
        {
          "data": {
            "text/html": [
              "\n",
              "  <div id=\"df-05b948d5-1fca-43af-a70d-d5345f2d8cda\">\n",
              "    <div class=\"colab-df-container\">\n",
              "      <div>\n",
              "<style scoped>\n",
              "    .dataframe tbody tr th:only-of-type {\n",
              "        vertical-align: middle;\n",
              "    }\n",
              "\n",
              "    .dataframe tbody tr th {\n",
              "        vertical-align: top;\n",
              "    }\n",
              "\n",
              "    .dataframe thead th {\n",
              "        text-align: right;\n",
              "    }\n",
              "</style>\n",
              "<table border=\"1\" class=\"dataframe\">\n",
              "  <thead>\n",
              "    <tr style=\"text-align: right;\">\n",
              "      <th></th>\n",
              "      <th>CulmenLength</th>\n",
              "      <th>CulmenDepth</th>\n",
              "      <th>FlipperLength</th>\n",
              "      <th>BodyMass</th>\n",
              "    </tr>\n",
              "  </thead>\n",
              "  <tbody>\n",
              "    <tr>\n",
              "      <th>0</th>\n",
              "      <td>39.1</td>\n",
              "      <td>18.7</td>\n",
              "      <td>181.0</td>\n",
              "      <td>3750.0</td>\n",
              "    </tr>\n",
              "    <tr>\n",
              "      <th>1</th>\n",
              "      <td>39.5</td>\n",
              "      <td>17.4</td>\n",
              "      <td>186.0</td>\n",
              "      <td>3800.0</td>\n",
              "    </tr>\n",
              "    <tr>\n",
              "      <th>2</th>\n",
              "      <td>40.3</td>\n",
              "      <td>18.0</td>\n",
              "      <td>195.0</td>\n",
              "      <td>3250.0</td>\n",
              "    </tr>\n",
              "    <tr>\n",
              "      <th>3</th>\n",
              "      <td>36.7</td>\n",
              "      <td>19.3</td>\n",
              "      <td>193.0</td>\n",
              "      <td>3450.0</td>\n",
              "    </tr>\n",
              "    <tr>\n",
              "      <th>4</th>\n",
              "      <td>39.3</td>\n",
              "      <td>20.6</td>\n",
              "      <td>190.0</td>\n",
              "      <td>3650.0</td>\n",
              "    </tr>\n",
              "    <tr>\n",
              "      <th>5</th>\n",
              "      <td>38.9</td>\n",
              "      <td>17.8</td>\n",
              "      <td>181.0</td>\n",
              "      <td>3625.0</td>\n",
              "    </tr>\n",
              "    <tr>\n",
              "      <th>6</th>\n",
              "      <td>39.2</td>\n",
              "      <td>19.6</td>\n",
              "      <td>195.0</td>\n",
              "      <td>4675.0</td>\n",
              "    </tr>\n",
              "    <tr>\n",
              "      <th>7</th>\n",
              "      <td>34.1</td>\n",
              "      <td>18.1</td>\n",
              "      <td>193.0</td>\n",
              "      <td>3475.0</td>\n",
              "    </tr>\n",
              "    <tr>\n",
              "      <th>8</th>\n",
              "      <td>42.0</td>\n",
              "      <td>20.2</td>\n",
              "      <td>190.0</td>\n",
              "      <td>4250.0</td>\n",
              "    </tr>\n",
              "    <tr>\n",
              "      <th>9</th>\n",
              "      <td>37.8</td>\n",
              "      <td>17.1</td>\n",
              "      <td>186.0</td>\n",
              "      <td>3300.0</td>\n",
              "    </tr>\n",
              "  </tbody>\n",
              "</table>\n",
              "</div>\n",
              "      <button class=\"colab-df-convert\" onclick=\"convertToInteractive('df-05b948d5-1fca-43af-a70d-d5345f2d8cda')\"\n",
              "              title=\"Convert this dataframe to an interactive table.\"\n",
              "              style=\"display:none;\">\n",
              "        \n",
              "  <svg xmlns=\"http://www.w3.org/2000/svg\" height=\"24px\"viewBox=\"0 0 24 24\"\n",
              "       width=\"24px\">\n",
              "    <path d=\"M0 0h24v24H0V0z\" fill=\"none\"/>\n",
              "    <path d=\"M18.56 5.44l.94 2.06.94-2.06 2.06-.94-2.06-.94-.94-2.06-.94 2.06-2.06.94zm-11 1L8.5 8.5l.94-2.06 2.06-.94-2.06-.94L8.5 2.5l-.94 2.06-2.06.94zm10 10l.94 2.06.94-2.06 2.06-.94-2.06-.94-.94-2.06-.94 2.06-2.06.94z\"/><path d=\"M17.41 7.96l-1.37-1.37c-.4-.4-.92-.59-1.43-.59-.52 0-1.04.2-1.43.59L10.3 9.45l-7.72 7.72c-.78.78-.78 2.05 0 2.83L4 21.41c.39.39.9.59 1.41.59.51 0 1.02-.2 1.41-.59l7.78-7.78 2.81-2.81c.8-.78.8-2.07 0-2.86zM5.41 20L4 18.59l7.72-7.72 1.47 1.35L5.41 20z\"/>\n",
              "  </svg>\n",
              "      </button>\n",
              "      \n",
              "  <style>\n",
              "    .colab-df-container {\n",
              "      display:flex;\n",
              "      flex-wrap:wrap;\n",
              "      gap: 12px;\n",
              "    }\n",
              "\n",
              "    .colab-df-convert {\n",
              "      background-color: #E8F0FE;\n",
              "      border: none;\n",
              "      border-radius: 50%;\n",
              "      cursor: pointer;\n",
              "      display: none;\n",
              "      fill: #1967D2;\n",
              "      height: 32px;\n",
              "      padding: 0 0 0 0;\n",
              "      width: 32px;\n",
              "    }\n",
              "\n",
              "    .colab-df-convert:hover {\n",
              "      background-color: #E2EBFA;\n",
              "      box-shadow: 0px 1px 2px rgba(60, 64, 67, 0.3), 0px 1px 3px 1px rgba(60, 64, 67, 0.15);\n",
              "      fill: #174EA6;\n",
              "    }\n",
              "\n",
              "    [theme=dark] .colab-df-convert {\n",
              "      background-color: #3B4455;\n",
              "      fill: #D2E3FC;\n",
              "    }\n",
              "\n",
              "    [theme=dark] .colab-df-convert:hover {\n",
              "      background-color: #434B5C;\n",
              "      box-shadow: 0px 1px 3px 1px rgba(0, 0, 0, 0.15);\n",
              "      filter: drop-shadow(0px 1px 2px rgba(0, 0, 0, 0.3));\n",
              "      fill: #FFFFFF;\n",
              "    }\n",
              "  </style>\n",
              "\n",
              "      <script>\n",
              "        const buttonEl =\n",
              "          document.querySelector('#df-05b948d5-1fca-43af-a70d-d5345f2d8cda button.colab-df-convert');\n",
              "        buttonEl.style.display =\n",
              "          google.colab.kernel.accessAllowed ? 'block' : 'none';\n",
              "\n",
              "        async function convertToInteractive(key) {\n",
              "          const element = document.querySelector('#df-05b948d5-1fca-43af-a70d-d5345f2d8cda');\n",
              "          const dataTable =\n",
              "            await google.colab.kernel.invokeFunction('convertToInteractive',\n",
              "                                                     [key], {});\n",
              "          if (!dataTable) return;\n",
              "\n",
              "          const docLinkHtml = 'Like what you see? Visit the ' +\n",
              "            '<a target=\"_blank\" href=https://colab.research.google.com/notebooks/data_table.ipynb>data table notebook</a>'\n",
              "            + ' to learn more about interactive tables.';\n",
              "          element.innerHTML = '';\n",
              "          dataTable['output_type'] = 'display_data';\n",
              "          await google.colab.output.renderOutput(dataTable, element);\n",
              "          const docLink = document.createElement('div');\n",
              "          docLink.innerHTML = docLinkHtml;\n",
              "          element.appendChild(docLink);\n",
              "        }\n",
              "      </script>\n",
              "    </div>\n",
              "  </div>\n",
              "  "
            ],
            "text/plain": [
              "   CulmenLength  CulmenDepth  FlipperLength  BodyMass\n",
              "0          39.1         18.7          181.0    3750.0\n",
              "1          39.5         17.4          186.0    3800.0\n",
              "2          40.3         18.0          195.0    3250.0\n",
              "3          36.7         19.3          193.0    3450.0\n",
              "4          39.3         20.6          190.0    3650.0\n",
              "5          38.9         17.8          181.0    3625.0\n",
              "6          39.2         19.6          195.0    4675.0\n",
              "7          34.1         18.1          193.0    3475.0\n",
              "8          42.0         20.2          190.0    4250.0\n",
              "9          37.8         17.1          186.0    3300.0"
            ]
          },
          "execution_count": 157,
          "metadata": {},
          "output_type": "execute_result"
        }
      ],
      "source": [
        "X.head(10)"
      ]
    },
    {
      "cell_type": "code",
      "execution_count": null,
      "metadata": {
        "colab": {
          "base_uri": "https://localhost:8080/"
        },
        "id": "KHLqny7yBNmH",
        "outputId": "f153712f-9216-4603-a50e-863910d1f4c3"
      },
      "outputs": [
        {
          "data": {
            "text/plain": [
              "0    0\n",
              "1    0\n",
              "2    0\n",
              "3    0\n",
              "4    0\n",
              "5    0\n",
              "6    0\n",
              "7    0\n",
              "8    0\n",
              "9    0\n",
              "Name: Species, dtype: int64"
            ]
          },
          "execution_count": 160,
          "metadata": {},
          "output_type": "execute_result"
        }
      ],
      "source": [
        "y.head(10)"
      ]
    },
    {
      "cell_type": "markdown",
      "metadata": {
        "id": "CRfk40_6Bou7"
      },
      "source": [
        "Now, we're going to do standardization by using standard scaler in order to prevent the data from large deviations."
      ]
    },
    {
      "cell_type": "code",
      "execution_count": null,
      "metadata": {
        "id": "QOcJOJakBDHA"
      },
      "outputs": [],
      "source": [
        "scaler = StandardScaler()\n",
        "X = pd.DataFrame(scaler.fit_transform(X), columns = X.columns)"
      ]
    },
    {
      "cell_type": "code",
      "execution_count": null,
      "metadata": {
        "colab": {
          "base_uri": "https://localhost:8080/",
          "height": 363
        },
        "id": "d7hoGErGCPsK",
        "outputId": "b845c4d2-1f80-4d51-b55a-4bd85c7b3c01"
      },
      "outputs": [
        {
          "data": {
            "text/html": [
              "\n",
              "  <div id=\"df-9aacc28b-1354-4c81-bba7-14c9589eec2e\">\n",
              "    <div class=\"colab-df-container\">\n",
              "      <div>\n",
              "<style scoped>\n",
              "    .dataframe tbody tr th:only-of-type {\n",
              "        vertical-align: middle;\n",
              "    }\n",
              "\n",
              "    .dataframe tbody tr th {\n",
              "        vertical-align: top;\n",
              "    }\n",
              "\n",
              "    .dataframe thead th {\n",
              "        text-align: right;\n",
              "    }\n",
              "</style>\n",
              "<table border=\"1\" class=\"dataframe\">\n",
              "  <thead>\n",
              "    <tr style=\"text-align: right;\">\n",
              "      <th></th>\n",
              "      <th>CulmenLength</th>\n",
              "      <th>CulmenDepth</th>\n",
              "      <th>FlipperLength</th>\n",
              "      <th>BodyMass</th>\n",
              "    </tr>\n",
              "  </thead>\n",
              "  <tbody>\n",
              "    <tr>\n",
              "      <th>0</th>\n",
              "      <td>-0.884499</td>\n",
              "      <td>0.785449</td>\n",
              "      <td>-1.418347</td>\n",
              "      <td>-0.564142</td>\n",
              "    </tr>\n",
              "    <tr>\n",
              "      <th>1</th>\n",
              "      <td>-0.811126</td>\n",
              "      <td>0.126188</td>\n",
              "      <td>-1.062250</td>\n",
              "      <td>-0.501703</td>\n",
              "    </tr>\n",
              "    <tr>\n",
              "      <th>2</th>\n",
              "      <td>-0.664380</td>\n",
              "      <td>0.430462</td>\n",
              "      <td>-0.421277</td>\n",
              "      <td>-1.188532</td>\n",
              "    </tr>\n",
              "    <tr>\n",
              "      <th>3</th>\n",
              "      <td>-1.324737</td>\n",
              "      <td>1.089724</td>\n",
              "      <td>-0.563715</td>\n",
              "      <td>-0.938776</td>\n",
              "    </tr>\n",
              "    <tr>\n",
              "      <th>4</th>\n",
              "      <td>-0.847812</td>\n",
              "      <td>1.748985</td>\n",
              "      <td>-0.777373</td>\n",
              "      <td>-0.689020</td>\n",
              "    </tr>\n",
              "    <tr>\n",
              "      <th>5</th>\n",
              "      <td>-0.921185</td>\n",
              "      <td>0.329038</td>\n",
              "      <td>-1.418347</td>\n",
              "      <td>-0.720240</td>\n",
              "    </tr>\n",
              "    <tr>\n",
              "      <th>6</th>\n",
              "      <td>-0.866155</td>\n",
              "      <td>1.241861</td>\n",
              "      <td>-0.421277</td>\n",
              "      <td>0.590980</td>\n",
              "    </tr>\n",
              "    <tr>\n",
              "      <th>7</th>\n",
              "      <td>-1.801661</td>\n",
              "      <td>0.481175</td>\n",
              "      <td>-0.563715</td>\n",
              "      <td>-0.907557</td>\n",
              "    </tr>\n",
              "    <tr>\n",
              "      <th>8</th>\n",
              "      <td>-0.352544</td>\n",
              "      <td>1.546135</td>\n",
              "      <td>-0.777373</td>\n",
              "      <td>0.060248</td>\n",
              "    </tr>\n",
              "    <tr>\n",
              "      <th>9</th>\n",
              "      <td>-1.122961</td>\n",
              "      <td>-0.025949</td>\n",
              "      <td>-1.062250</td>\n",
              "      <td>-1.126093</td>\n",
              "    </tr>\n",
              "  </tbody>\n",
              "</table>\n",
              "</div>\n",
              "      <button class=\"colab-df-convert\" onclick=\"convertToInteractive('df-9aacc28b-1354-4c81-bba7-14c9589eec2e')\"\n",
              "              title=\"Convert this dataframe to an interactive table.\"\n",
              "              style=\"display:none;\">\n",
              "        \n",
              "  <svg xmlns=\"http://www.w3.org/2000/svg\" height=\"24px\"viewBox=\"0 0 24 24\"\n",
              "       width=\"24px\">\n",
              "    <path d=\"M0 0h24v24H0V0z\" fill=\"none\"/>\n",
              "    <path d=\"M18.56 5.44l.94 2.06.94-2.06 2.06-.94-2.06-.94-.94-2.06-.94 2.06-2.06.94zm-11 1L8.5 8.5l.94-2.06 2.06-.94-2.06-.94L8.5 2.5l-.94 2.06-2.06.94zm10 10l.94 2.06.94-2.06 2.06-.94-2.06-.94-.94-2.06-.94 2.06-2.06.94z\"/><path d=\"M17.41 7.96l-1.37-1.37c-.4-.4-.92-.59-1.43-.59-.52 0-1.04.2-1.43.59L10.3 9.45l-7.72 7.72c-.78.78-.78 2.05 0 2.83L4 21.41c.39.39.9.59 1.41.59.51 0 1.02-.2 1.41-.59l7.78-7.78 2.81-2.81c.8-.78.8-2.07 0-2.86zM5.41 20L4 18.59l7.72-7.72 1.47 1.35L5.41 20z\"/>\n",
              "  </svg>\n",
              "      </button>\n",
              "      \n",
              "  <style>\n",
              "    .colab-df-container {\n",
              "      display:flex;\n",
              "      flex-wrap:wrap;\n",
              "      gap: 12px;\n",
              "    }\n",
              "\n",
              "    .colab-df-convert {\n",
              "      background-color: #E8F0FE;\n",
              "      border: none;\n",
              "      border-radius: 50%;\n",
              "      cursor: pointer;\n",
              "      display: none;\n",
              "      fill: #1967D2;\n",
              "      height: 32px;\n",
              "      padding: 0 0 0 0;\n",
              "      width: 32px;\n",
              "    }\n",
              "\n",
              "    .colab-df-convert:hover {\n",
              "      background-color: #E2EBFA;\n",
              "      box-shadow: 0px 1px 2px rgba(60, 64, 67, 0.3), 0px 1px 3px 1px rgba(60, 64, 67, 0.15);\n",
              "      fill: #174EA6;\n",
              "    }\n",
              "\n",
              "    [theme=dark] .colab-df-convert {\n",
              "      background-color: #3B4455;\n",
              "      fill: #D2E3FC;\n",
              "    }\n",
              "\n",
              "    [theme=dark] .colab-df-convert:hover {\n",
              "      background-color: #434B5C;\n",
              "      box-shadow: 0px 1px 3px 1px rgba(0, 0, 0, 0.15);\n",
              "      filter: drop-shadow(0px 1px 2px rgba(0, 0, 0, 0.3));\n",
              "      fill: #FFFFFF;\n",
              "    }\n",
              "  </style>\n",
              "\n",
              "      <script>\n",
              "        const buttonEl =\n",
              "          document.querySelector('#df-9aacc28b-1354-4c81-bba7-14c9589eec2e button.colab-df-convert');\n",
              "        buttonEl.style.display =\n",
              "          google.colab.kernel.accessAllowed ? 'block' : 'none';\n",
              "\n",
              "        async function convertToInteractive(key) {\n",
              "          const element = document.querySelector('#df-9aacc28b-1354-4c81-bba7-14c9589eec2e');\n",
              "          const dataTable =\n",
              "            await google.colab.kernel.invokeFunction('convertToInteractive',\n",
              "                                                     [key], {});\n",
              "          if (!dataTable) return;\n",
              "\n",
              "          const docLinkHtml = 'Like what you see? Visit the ' +\n",
              "            '<a target=\"_blank\" href=https://colab.research.google.com/notebooks/data_table.ipynb>data table notebook</a>'\n",
              "            + ' to learn more about interactive tables.';\n",
              "          element.innerHTML = '';\n",
              "          dataTable['output_type'] = 'display_data';\n",
              "          await google.colab.output.renderOutput(dataTable, element);\n",
              "          const docLink = document.createElement('div');\n",
              "          docLink.innerHTML = docLinkHtml;\n",
              "          element.appendChild(docLink);\n",
              "        }\n",
              "      </script>\n",
              "    </div>\n",
              "  </div>\n",
              "  "
            ],
            "text/plain": [
              "   CulmenLength  CulmenDepth  FlipperLength  BodyMass\n",
              "0     -0.884499     0.785449      -1.418347 -0.564142\n",
              "1     -0.811126     0.126188      -1.062250 -0.501703\n",
              "2     -0.664380     0.430462      -0.421277 -1.188532\n",
              "3     -1.324737     1.089724      -0.563715 -0.938776\n",
              "4     -0.847812     1.748985      -0.777373 -0.689020\n",
              "5     -0.921185     0.329038      -1.418347 -0.720240\n",
              "6     -0.866155     1.241861      -0.421277  0.590980\n",
              "7     -1.801661     0.481175      -0.563715 -0.907557\n",
              "8     -0.352544     1.546135      -0.777373  0.060248\n",
              "9     -1.122961    -0.025949      -1.062250 -1.126093"
            ]
          },
          "execution_count": 162,
          "metadata": {},
          "output_type": "execute_result"
        }
      ],
      "source": [
        "X.head(10)"
      ]
    },
    {
      "cell_type": "markdown",
      "metadata": {
        "id": "OFLIGEOnC9vy"
      },
      "source": [
        "Now, we're going to split the data become training data and testing data for each X and y. I'm going to split the 70% of the data for training data and 30% of the data for testing data."
      ]
    },
    {
      "cell_type": "code",
      "execution_count": null,
      "metadata": {
        "colab": {
          "base_uri": "https://localhost:8080/"
        },
        "id": "0okLcyrDAwM_",
        "outputId": "3d2cfe9d-d60c-4a13-c1d1-846dc5c603f6"
      },
      "outputs": [
        {
          "name": "stdout",
          "output_type": "stream",
          "text": [
            "(239, 4) (239,) (103, 4) (103,)\n"
          ]
        }
      ],
      "source": [
        "X_train, X_test, y_train, y_test = train_test_split(X, y, train_size = 0.7, random_state = 100)\n",
        "print(X_train.shape, y_train.shape, X_test.shape, y_test.shape)"
      ]
    },
    {
      "cell_type": "code",
      "execution_count": null,
      "metadata": {
        "colab": {
          "base_uri": "https://localhost:8080/",
          "height": 206
        },
        "id": "z4jehWbtDJTs",
        "outputId": "4e9d4eaa-2922-40a4-fe2c-6199d5340e8e"
      },
      "outputs": [
        {
          "data": {
            "text/html": [
              "\n",
              "  <div id=\"df-2a291c8d-8964-43be-aa9b-e2ddbf6be78f\">\n",
              "    <div class=\"colab-df-container\">\n",
              "      <div>\n",
              "<style scoped>\n",
              "    .dataframe tbody tr th:only-of-type {\n",
              "        vertical-align: middle;\n",
              "    }\n",
              "\n",
              "    .dataframe tbody tr th {\n",
              "        vertical-align: top;\n",
              "    }\n",
              "\n",
              "    .dataframe thead th {\n",
              "        text-align: right;\n",
              "    }\n",
              "</style>\n",
              "<table border=\"1\" class=\"dataframe\">\n",
              "  <thead>\n",
              "    <tr style=\"text-align: right;\">\n",
              "      <th></th>\n",
              "      <th>CulmenLength</th>\n",
              "      <th>CulmenDepth</th>\n",
              "      <th>FlipperLength</th>\n",
              "      <th>BodyMass</th>\n",
              "    </tr>\n",
              "  </thead>\n",
              "  <tbody>\n",
              "    <tr>\n",
              "      <th>204</th>\n",
              "      <td>1.133259</td>\n",
              "      <td>-1.090910</td>\n",
              "      <td>1.715302</td>\n",
              "      <td>0.996834</td>\n",
              "    </tr>\n",
              "    <tr>\n",
              "      <th>59</th>\n",
              "      <td>-1.508169</td>\n",
              "      <td>-0.127374</td>\n",
              "      <td>-1.133470</td>\n",
              "      <td>-1.313410</td>\n",
              "    </tr>\n",
              "    <tr>\n",
              "      <th>104</th>\n",
              "      <td>-0.774439</td>\n",
              "      <td>0.886874</td>\n",
              "      <td>-1.204689</td>\n",
              "      <td>-0.813898</td>\n",
              "    </tr>\n",
              "    <tr>\n",
              "      <th>213</th>\n",
              "      <td>0.326156</td>\n",
              "      <td>-1.648746</td>\n",
              "      <td>0.931890</td>\n",
              "      <td>0.247565</td>\n",
              "    </tr>\n",
              "    <tr>\n",
              "      <th>153</th>\n",
              "      <td>0.876453</td>\n",
              "      <td>-1.547322</td>\n",
              "      <td>0.647013</td>\n",
              "      <td>0.310004</td>\n",
              "    </tr>\n",
              "  </tbody>\n",
              "</table>\n",
              "</div>\n",
              "      <button class=\"colab-df-convert\" onclick=\"convertToInteractive('df-2a291c8d-8964-43be-aa9b-e2ddbf6be78f')\"\n",
              "              title=\"Convert this dataframe to an interactive table.\"\n",
              "              style=\"display:none;\">\n",
              "        \n",
              "  <svg xmlns=\"http://www.w3.org/2000/svg\" height=\"24px\"viewBox=\"0 0 24 24\"\n",
              "       width=\"24px\">\n",
              "    <path d=\"M0 0h24v24H0V0z\" fill=\"none\"/>\n",
              "    <path d=\"M18.56 5.44l.94 2.06.94-2.06 2.06-.94-2.06-.94-.94-2.06-.94 2.06-2.06.94zm-11 1L8.5 8.5l.94-2.06 2.06-.94-2.06-.94L8.5 2.5l-.94 2.06-2.06.94zm10 10l.94 2.06.94-2.06 2.06-.94-2.06-.94-.94-2.06-.94 2.06-2.06.94z\"/><path d=\"M17.41 7.96l-1.37-1.37c-.4-.4-.92-.59-1.43-.59-.52 0-1.04.2-1.43.59L10.3 9.45l-7.72 7.72c-.78.78-.78 2.05 0 2.83L4 21.41c.39.39.9.59 1.41.59.51 0 1.02-.2 1.41-.59l7.78-7.78 2.81-2.81c.8-.78.8-2.07 0-2.86zM5.41 20L4 18.59l7.72-7.72 1.47 1.35L5.41 20z\"/>\n",
              "  </svg>\n",
              "      </button>\n",
              "      \n",
              "  <style>\n",
              "    .colab-df-container {\n",
              "      display:flex;\n",
              "      flex-wrap:wrap;\n",
              "      gap: 12px;\n",
              "    }\n",
              "\n",
              "    .colab-df-convert {\n",
              "      background-color: #E8F0FE;\n",
              "      border: none;\n",
              "      border-radius: 50%;\n",
              "      cursor: pointer;\n",
              "      display: none;\n",
              "      fill: #1967D2;\n",
              "      height: 32px;\n",
              "      padding: 0 0 0 0;\n",
              "      width: 32px;\n",
              "    }\n",
              "\n",
              "    .colab-df-convert:hover {\n",
              "      background-color: #E2EBFA;\n",
              "      box-shadow: 0px 1px 2px rgba(60, 64, 67, 0.3), 0px 1px 3px 1px rgba(60, 64, 67, 0.15);\n",
              "      fill: #174EA6;\n",
              "    }\n",
              "\n",
              "    [theme=dark] .colab-df-convert {\n",
              "      background-color: #3B4455;\n",
              "      fill: #D2E3FC;\n",
              "    }\n",
              "\n",
              "    [theme=dark] .colab-df-convert:hover {\n",
              "      background-color: #434B5C;\n",
              "      box-shadow: 0px 1px 3px 1px rgba(0, 0, 0, 0.15);\n",
              "      filter: drop-shadow(0px 1px 2px rgba(0, 0, 0, 0.3));\n",
              "      fill: #FFFFFF;\n",
              "    }\n",
              "  </style>\n",
              "\n",
              "      <script>\n",
              "        const buttonEl =\n",
              "          document.querySelector('#df-2a291c8d-8964-43be-aa9b-e2ddbf6be78f button.colab-df-convert');\n",
              "        buttonEl.style.display =\n",
              "          google.colab.kernel.accessAllowed ? 'block' : 'none';\n",
              "\n",
              "        async function convertToInteractive(key) {\n",
              "          const element = document.querySelector('#df-2a291c8d-8964-43be-aa9b-e2ddbf6be78f');\n",
              "          const dataTable =\n",
              "            await google.colab.kernel.invokeFunction('convertToInteractive',\n",
              "                                                     [key], {});\n",
              "          if (!dataTable) return;\n",
              "\n",
              "          const docLinkHtml = 'Like what you see? Visit the ' +\n",
              "            '<a target=\"_blank\" href=https://colab.research.google.com/notebooks/data_table.ipynb>data table notebook</a>'\n",
              "            + ' to learn more about interactive tables.';\n",
              "          element.innerHTML = '';\n",
              "          dataTable['output_type'] = 'display_data';\n",
              "          await google.colab.output.renderOutput(dataTable, element);\n",
              "          const docLink = document.createElement('div');\n",
              "          docLink.innerHTML = docLinkHtml;\n",
              "          element.appendChild(docLink);\n",
              "        }\n",
              "      </script>\n",
              "    </div>\n",
              "  </div>\n",
              "  "
            ],
            "text/plain": [
              "     CulmenLength  CulmenDepth  FlipperLength  BodyMass\n",
              "204      1.133259    -1.090910       1.715302  0.996834\n",
              "59      -1.508169    -0.127374      -1.133470 -1.313410\n",
              "104     -0.774439     0.886874      -1.204689 -0.813898\n",
              "213      0.326156    -1.648746       0.931890  0.247565\n",
              "153      0.876453    -1.547322       0.647013  0.310004"
            ]
          },
          "execution_count": 164,
          "metadata": {},
          "output_type": "execute_result"
        }
      ],
      "source": [
        "X_train.head()"
      ]
    },
    {
      "cell_type": "code",
      "execution_count": null,
      "metadata": {
        "colab": {
          "base_uri": "https://localhost:8080/"
        },
        "id": "OnAgt8ptDNGM",
        "outputId": "e6b35564-b1ae-4f29-91a3-f7204bf69bcf"
      },
      "outputs": [
        {
          "data": {
            "text/plain": [
              "204    1\n",
              "59     0\n",
              "104    0\n",
              "213    1\n",
              "153    1\n",
              "Name: Species, dtype: int64"
            ]
          },
          "execution_count": 165,
          "metadata": {},
          "output_type": "execute_result"
        }
      ],
      "source": [
        "y_train.head()"
      ]
    },
    {
      "cell_type": "code",
      "execution_count": null,
      "metadata": {
        "colab": {
          "base_uri": "https://localhost:8080/",
          "height": 206
        },
        "id": "KN8NmoXrDO1w",
        "outputId": "9fbe65dc-a2c3-4164-d748-e315553642bc"
      },
      "outputs": [
        {
          "data": {
            "text/html": [
              "\n",
              "  <div id=\"df-93fe53d4-b4b8-4d6e-a73e-4624481cb20b\">\n",
              "    <div class=\"colab-df-container\">\n",
              "      <div>\n",
              "<style scoped>\n",
              "    .dataframe tbody tr th:only-of-type {\n",
              "        vertical-align: middle;\n",
              "    }\n",
              "\n",
              "    .dataframe tbody tr th {\n",
              "        vertical-align: top;\n",
              "    }\n",
              "\n",
              "    .dataframe thead th {\n",
              "        text-align: right;\n",
              "    }\n",
              "</style>\n",
              "<table border=\"1\" class=\"dataframe\">\n",
              "  <thead>\n",
              "    <tr style=\"text-align: right;\">\n",
              "      <th></th>\n",
              "      <th>CulmenLength</th>\n",
              "      <th>CulmenDepth</th>\n",
              "      <th>FlipperLength</th>\n",
              "      <th>BodyMass</th>\n",
              "    </tr>\n",
              "  </thead>\n",
              "  <tbody>\n",
              "    <tr>\n",
              "      <th>299</th>\n",
              "      <td>1.481781</td>\n",
              "      <td>0.937586</td>\n",
              "      <td>-0.278838</td>\n",
              "      <td>-0.064630</td>\n",
              "    </tr>\n",
              "    <tr>\n",
              "      <th>301</th>\n",
              "      <td>1.023199</td>\n",
              "      <td>0.937586</td>\n",
              "      <td>-0.065180</td>\n",
              "      <td>-0.501703</td>\n",
              "    </tr>\n",
              "    <tr>\n",
              "      <th>7</th>\n",
              "      <td>-1.801661</td>\n",
              "      <td>0.481175</td>\n",
              "      <td>-0.563715</td>\n",
              "      <td>-0.907557</td>\n",
              "    </tr>\n",
              "    <tr>\n",
              "      <th>46</th>\n",
              "      <td>-1.177991</td>\n",
              "      <td>0.886874</td>\n",
              "      <td>-1.560785</td>\n",
              "      <td>-1.531947</td>\n",
              "    </tr>\n",
              "    <tr>\n",
              "      <th>206</th>\n",
              "      <td>0.197753</td>\n",
              "      <td>-0.888060</td>\n",
              "      <td>1.359205</td>\n",
              "      <td>1.059273</td>\n",
              "    </tr>\n",
              "  </tbody>\n",
              "</table>\n",
              "</div>\n",
              "      <button class=\"colab-df-convert\" onclick=\"convertToInteractive('df-93fe53d4-b4b8-4d6e-a73e-4624481cb20b')\"\n",
              "              title=\"Convert this dataframe to an interactive table.\"\n",
              "              style=\"display:none;\">\n",
              "        \n",
              "  <svg xmlns=\"http://www.w3.org/2000/svg\" height=\"24px\"viewBox=\"0 0 24 24\"\n",
              "       width=\"24px\">\n",
              "    <path d=\"M0 0h24v24H0V0z\" fill=\"none\"/>\n",
              "    <path d=\"M18.56 5.44l.94 2.06.94-2.06 2.06-.94-2.06-.94-.94-2.06-.94 2.06-2.06.94zm-11 1L8.5 8.5l.94-2.06 2.06-.94-2.06-.94L8.5 2.5l-.94 2.06-2.06.94zm10 10l.94 2.06.94-2.06 2.06-.94-2.06-.94-.94-2.06-.94 2.06-2.06.94z\"/><path d=\"M17.41 7.96l-1.37-1.37c-.4-.4-.92-.59-1.43-.59-.52 0-1.04.2-1.43.59L10.3 9.45l-7.72 7.72c-.78.78-.78 2.05 0 2.83L4 21.41c.39.39.9.59 1.41.59.51 0 1.02-.2 1.41-.59l7.78-7.78 2.81-2.81c.8-.78.8-2.07 0-2.86zM5.41 20L4 18.59l7.72-7.72 1.47 1.35L5.41 20z\"/>\n",
              "  </svg>\n",
              "      </button>\n",
              "      \n",
              "  <style>\n",
              "    .colab-df-container {\n",
              "      display:flex;\n",
              "      flex-wrap:wrap;\n",
              "      gap: 12px;\n",
              "    }\n",
              "\n",
              "    .colab-df-convert {\n",
              "      background-color: #E8F0FE;\n",
              "      border: none;\n",
              "      border-radius: 50%;\n",
              "      cursor: pointer;\n",
              "      display: none;\n",
              "      fill: #1967D2;\n",
              "      height: 32px;\n",
              "      padding: 0 0 0 0;\n",
              "      width: 32px;\n",
              "    }\n",
              "\n",
              "    .colab-df-convert:hover {\n",
              "      background-color: #E2EBFA;\n",
              "      box-shadow: 0px 1px 2px rgba(60, 64, 67, 0.3), 0px 1px 3px 1px rgba(60, 64, 67, 0.15);\n",
              "      fill: #174EA6;\n",
              "    }\n",
              "\n",
              "    [theme=dark] .colab-df-convert {\n",
              "      background-color: #3B4455;\n",
              "      fill: #D2E3FC;\n",
              "    }\n",
              "\n",
              "    [theme=dark] .colab-df-convert:hover {\n",
              "      background-color: #434B5C;\n",
              "      box-shadow: 0px 1px 3px 1px rgba(0, 0, 0, 0.15);\n",
              "      filter: drop-shadow(0px 1px 2px rgba(0, 0, 0, 0.3));\n",
              "      fill: #FFFFFF;\n",
              "    }\n",
              "  </style>\n",
              "\n",
              "      <script>\n",
              "        const buttonEl =\n",
              "          document.querySelector('#df-93fe53d4-b4b8-4d6e-a73e-4624481cb20b button.colab-df-convert');\n",
              "        buttonEl.style.display =\n",
              "          google.colab.kernel.accessAllowed ? 'block' : 'none';\n",
              "\n",
              "        async function convertToInteractive(key) {\n",
              "          const element = document.querySelector('#df-93fe53d4-b4b8-4d6e-a73e-4624481cb20b');\n",
              "          const dataTable =\n",
              "            await google.colab.kernel.invokeFunction('convertToInteractive',\n",
              "                                                     [key], {});\n",
              "          if (!dataTable) return;\n",
              "\n",
              "          const docLinkHtml = 'Like what you see? Visit the ' +\n",
              "            '<a target=\"_blank\" href=https://colab.research.google.com/notebooks/data_table.ipynb>data table notebook</a>'\n",
              "            + ' to learn more about interactive tables.';\n",
              "          element.innerHTML = '';\n",
              "          dataTable['output_type'] = 'display_data';\n",
              "          await google.colab.output.renderOutput(dataTable, element);\n",
              "          const docLink = document.createElement('div');\n",
              "          docLink.innerHTML = docLinkHtml;\n",
              "          element.appendChild(docLink);\n",
              "        }\n",
              "      </script>\n",
              "    </div>\n",
              "  </div>\n",
              "  "
            ],
            "text/plain": [
              "     CulmenLength  CulmenDepth  FlipperLength  BodyMass\n",
              "299      1.481781     0.937586      -0.278838 -0.064630\n",
              "301      1.023199     0.937586      -0.065180 -0.501703\n",
              "7       -1.801661     0.481175      -0.563715 -0.907557\n",
              "46      -1.177991     0.886874      -1.560785 -1.531947\n",
              "206      0.197753    -0.888060       1.359205  1.059273"
            ]
          },
          "execution_count": 166,
          "metadata": {},
          "output_type": "execute_result"
        }
      ],
      "source": [
        "X_test.head()"
      ]
    },
    {
      "cell_type": "code",
      "execution_count": null,
      "metadata": {
        "colab": {
          "base_uri": "https://localhost:8080/"
        },
        "id": "rOt3Z8NlDR1m",
        "outputId": "a22ac0f9-69d1-4cca-9c6a-418640193592"
      },
      "outputs": [
        {
          "data": {
            "text/plain": [
              "299    2\n",
              "301    2\n",
              "7      0\n",
              "46     0\n",
              "206    1\n",
              "Name: Species, dtype: int64"
            ]
          },
          "execution_count": 168,
          "metadata": {},
          "output_type": "execute_result"
        }
      ],
      "source": [
        "y_test.head()"
      ]
    },
    {
      "cell_type": "markdown",
      "metadata": {
        "id": "HsXQSibMDZaz"
      },
      "source": [
        "Now, the data has been prepared. So, let's go to the next step!"
      ]
    },
    {
      "cell_type": "markdown",
      "metadata": {
        "id": "tEix4gDHk5zf"
      },
      "source": [
        "###  (35% of points) - 5. Shortlist promising models"
      ]
    },
    {
      "cell_type": "markdown",
      "metadata": {
        "id": "Gz2tNIDXk5zf"
      },
      "source": [
        "**Now, you can train your models, compare their performances, and display the performance metrics for each models.**   \n",
        "***`You will get 10 extra points if you correctly compare your model using standard parameters against hyperparameters and provide a clear explanation.`***"
      ]
    },
    {
      "cell_type": "markdown",
      "metadata": {
        "id": "2w1uBJO0EoZm"
      },
      "source": [
        "I want to take 2 classifier models which is KNN and Random Forest."
      ]
    },
    {
      "cell_type": "code",
      "execution_count": null,
      "metadata": {
        "id": "14RUizN6k5zf"
      },
      "outputs": [],
      "source": [
        "KNN_model = KNeighborsClassifier()\n",
        "randomForest_model = RandomForestClassifier()"
      ]
    },
    {
      "cell_type": "markdown",
      "metadata": {
        "id": "iscgaIs4PrZc"
      },
      "source": [
        "First, I want to use KNN first."
      ]
    },
    {
      "cell_type": "markdown",
      "metadata": {
        "id": "79Lkb7yaJDcA"
      },
      "source": [
        "Before training our data, we have to use cross-validation to give us more accurate measure of the model quality."
      ]
    },
    {
      "cell_type": "code",
      "execution_count": null,
      "metadata": {
        "colab": {
          "base_uri": "https://localhost:8080/"
        },
        "id": "ql24CbBFH1QV",
        "outputId": "1e2b6729-6cca-4bb9-de7e-176606b164f2"
      },
      "outputs": [
        {
          "name": "stdout",
          "output_type": "stream",
          "text": [
            "Accuracy:\n",
            " [0.97916667 1.         1.         1.         0.9787234 ]\n"
          ]
        }
      ],
      "source": [
        "score = cross_val_score(KNN_model, X_train, y_train,\n",
        "                         cv = 5,\n",
        "                         scoring = 'accuracy')\n",
        "print(\"Accuracy:\\n\", score)"
      ]
    },
    {
      "cell_type": "code",
      "execution_count": null,
      "metadata": {
        "colab": {
          "base_uri": "https://localhost:8080/"
        },
        "id": "lOI2m0R3JgE-",
        "outputId": "e83a002e-fc83-4b5c-ba5e-11c2f8f95dca"
      },
      "outputs": [
        {
          "name": "stdout",
          "output_type": "stream",
          "text": [
            "Average Score of Accuracy: 0.9915780141843971\n"
          ]
        }
      ],
      "source": [
        "print(f'Average Score of Accuracy: {score.mean()}')"
      ]
    },
    {
      "cell_type": "markdown",
      "metadata": {
        "id": "iYurxxffKwnO"
      },
      "source": [
        "We could see the average of accuracy is so high which means it's a good idea to use KNN Classifier as our model."
      ]
    },
    {
      "cell_type": "markdown",
      "metadata": {
        "id": "tlWJtONxJFvZ"
      },
      "source": [
        "Now, let's find the best hyperparameters for the KNN Classifier."
      ]
    },
    {
      "cell_type": "code",
      "execution_count": null,
      "metadata": {
        "colab": {
          "base_uri": "https://localhost:8080/"
        },
        "id": "rBmqabuUk5zg",
        "outputId": "d7fe2a3c-7f80-4e32-dbac-d222012d5c78"
      },
      "outputs": [
        {
          "name": "stdout",
          "output_type": "stream",
          "text": [
            "Fitting 5 folds for each of 12 candidates, totalling 60 fits\n",
            "[CV 1/5] END ....n_neighbors=2, weights=uniform;, score=0.938 total time=   0.0s\n",
            "[CV 2/5] END ....n_neighbors=2, weights=uniform;, score=1.000 total time=   0.0s\n",
            "[CV 3/5] END ....n_neighbors=2, weights=uniform;, score=1.000 total time=   0.0s\n",
            "[CV 4/5] END ....n_neighbors=2, weights=uniform;, score=1.000 total time=   0.0s\n",
            "[CV 5/5] END ....n_neighbors=2, weights=uniform;, score=0.957 total time=   0.0s\n",
            "[CV 1/5] END ...n_neighbors=2, weights=distance;, score=0.979 total time=   0.0s\n",
            "[CV 2/5] END ...n_neighbors=2, weights=distance;, score=0.958 total time=   0.0s\n",
            "[CV 3/5] END ...n_neighbors=2, weights=distance;, score=1.000 total time=   0.0s\n",
            "[CV 4/5] END ...n_neighbors=2, weights=distance;, score=1.000 total time=   0.0s\n",
            "[CV 5/5] END ...n_neighbors=2, weights=distance;, score=0.957 total time=   0.0s\n",
            "[CV 1/5] END ....n_neighbors=3, weights=uniform;, score=1.000 total time=   0.0s\n",
            "[CV 2/5] END ....n_neighbors=3, weights=uniform;, score=1.000 total time=   0.0s\n",
            "[CV 3/5] END ....n_neighbors=3, weights=uniform;, score=1.000 total time=   0.0s\n",
            "[CV 4/5] END ....n_neighbors=3, weights=uniform;, score=1.000 total time=   0.0s\n",
            "[CV 5/5] END ....n_neighbors=3, weights=uniform;, score=0.979 total time=   0.0s\n",
            "[CV 1/5] END ...n_neighbors=3, weights=distance;, score=1.000 total time=   0.0s\n",
            "[CV 2/5] END ...n_neighbors=3, weights=distance;, score=1.000 total time=   0.0s\n",
            "[CV 3/5] END ...n_neighbors=3, weights=distance;, score=1.000 total time=   0.0s\n",
            "[CV 4/5] END ...n_neighbors=3, weights=distance;, score=1.000 total time=   0.0s\n",
            "[CV 5/5] END ...n_neighbors=3, weights=distance;, score=0.979 total time=   0.0s\n",
            "[CV 1/5] END ....n_neighbors=4, weights=uniform;, score=0.979 total time=   0.0s\n",
            "[CV 2/5] END ....n_neighbors=4, weights=uniform;, score=1.000 total time=   0.0s\n",
            "[CV 3/5] END ....n_neighbors=4, weights=uniform;, score=1.000 total time=   0.0s\n",
            "[CV 4/5] END ....n_neighbors=4, weights=uniform;, score=1.000 total time=   0.0s\n",
            "[CV 5/5] END ....n_neighbors=4, weights=uniform;, score=0.957 total time=   0.0s\n",
            "[CV 1/5] END ...n_neighbors=4, weights=distance;, score=1.000 total time=   0.0s\n",
            "[CV 2/5] END ...n_neighbors=4, weights=distance;, score=0.979 total time=   0.0s\n",
            "[CV 3/5] END ...n_neighbors=4, weights=distance;, score=1.000 total time=   0.0s\n",
            "[CV 4/5] END ...n_neighbors=4, weights=distance;, score=1.000 total time=   0.0s\n",
            "[CV 5/5] END ...n_neighbors=4, weights=distance;, score=0.979 total time=   0.0s\n",
            "[CV 1/5] END ....n_neighbors=5, weights=uniform;, score=0.979 total time=   0.0s\n",
            "[CV 2/5] END ....n_neighbors=5, weights=uniform;, score=1.000 total time=   0.0s\n",
            "[CV 3/5] END ....n_neighbors=5, weights=uniform;, score=1.000 total time=   0.0s\n",
            "[CV 4/5] END ....n_neighbors=5, weights=uniform;, score=1.000 total time=   0.0s\n",
            "[CV 5/5] END ....n_neighbors=5, weights=uniform;, score=0.979 total time=   0.0s\n",
            "[CV 1/5] END ...n_neighbors=5, weights=distance;, score=0.979 total time=   0.0s\n",
            "[CV 2/5] END ...n_neighbors=5, weights=distance;, score=1.000 total time=   0.0s\n",
            "[CV 3/5] END ...n_neighbors=5, weights=distance;, score=1.000 total time=   0.0s\n",
            "[CV 4/5] END ...n_neighbors=5, weights=distance;, score=1.000 total time=   0.0s\n",
            "[CV 5/5] END ...n_neighbors=5, weights=distance;, score=0.979 total time=   0.0s\n",
            "[CV 1/5] END ....n_neighbors=6, weights=uniform;, score=0.958 total time=   0.0s\n",
            "[CV 2/5] END ....n_neighbors=6, weights=uniform;, score=1.000 total time=   0.0s\n",
            "[CV 3/5] END ....n_neighbors=6, weights=uniform;, score=0.979 total time=   0.0s\n",
            "[CV 4/5] END ....n_neighbors=6, weights=uniform;, score=1.000 total time=   0.0s\n",
            "[CV 5/5] END ....n_neighbors=6, weights=uniform;, score=0.957 total time=   0.0s\n",
            "[CV 1/5] END ...n_neighbors=6, weights=distance;, score=0.979 total time=   0.0s\n",
            "[CV 2/5] END ...n_neighbors=6, weights=distance;, score=0.979 total time=   0.0s\n",
            "[CV 3/5] END ...n_neighbors=6, weights=distance;, score=1.000 total time=   0.0s\n",
            "[CV 4/5] END ...n_neighbors=6, weights=distance;, score=1.000 total time=   0.0s\n",
            "[CV 5/5] END ...n_neighbors=6, weights=distance;, score=0.979 total time=   0.0s\n",
            "[CV 1/5] END ....n_neighbors=7, weights=uniform;, score=0.979 total time=   0.0s\n",
            "[CV 2/5] END ....n_neighbors=7, weights=uniform;, score=1.000 total time=   0.0s\n",
            "[CV 3/5] END ....n_neighbors=7, weights=uniform;, score=1.000 total time=   0.0s\n",
            "[CV 4/5] END ....n_neighbors=7, weights=uniform;, score=1.000 total time=   0.0s\n",
            "[CV 5/5] END ....n_neighbors=7, weights=uniform;, score=0.979 total time=   0.0s\n",
            "[CV 1/5] END ...n_neighbors=7, weights=distance;, score=0.979 total time=   0.0s\n",
            "[CV 2/5] END ...n_neighbors=7, weights=distance;, score=1.000 total time=   0.0s\n",
            "[CV 3/5] END ...n_neighbors=7, weights=distance;, score=1.000 total time=   0.0s\n",
            "[CV 4/5] END ...n_neighbors=7, weights=distance;, score=1.000 total time=   0.0s\n",
            "[CV 5/5] END ...n_neighbors=7, weights=distance;, score=0.979 total time=   0.0s\n"
          ]
        },
        {
          "data": {
            "text/plain": [
              "GridSearchCV(cv=5, estimator=KNeighborsClassifier(),\n",
              "             param_grid={'n_neighbors': [2, 3, 4, 5, 6, 7],\n",
              "                         'weights': ['uniform', 'distance']},\n",
              "             scoring='accuracy', verbose=3)"
            ]
          },
          "execution_count": 174,
          "metadata": {},
          "output_type": "execute_result"
        }
      ],
      "source": [
        "grid = {\n",
        "    'n_neighbors': [2, 3, 4, 5, 6, 7],\n",
        "    'weights': ['uniform', 'distance']\n",
        "}\n",
        "\n",
        "gridSearch_KNN = GridSearchCV(KNN_model,\n",
        "                              param_grid = grid,\n",
        "                              cv = 5,\n",
        "                              scoring = 'accuracy',\n",
        "                              verbose = 3)\n",
        "gridSearch_KNN.fit(X_train, y_train)"
      ]
    },
    {
      "cell_type": "markdown",
      "metadata": {
        "id": "hsrUBjhRL2JR"
      },
      "source": [
        "Let's find out the best results for our model hyperparameters!"
      ]
    },
    {
      "cell_type": "code",
      "execution_count": null,
      "metadata": {
        "colab": {
          "base_uri": "https://localhost:8080/"
        },
        "id": "rjCvYQBUL91K",
        "outputId": "90806540-545e-4a93-c772-3b519c3cb3fd"
      },
      "outputs": [
        {
          "name": "stdout",
          "output_type": "stream",
          "text": [
            "0.9957446808510639\n",
            "KNeighborsClassifier(n_neighbors=3)\n",
            "{'n_neighbors': 3, 'weights': 'uniform'}\n"
          ]
        }
      ],
      "source": [
        "print(gridSearch_KNN.best_score_)\n",
        "print(gridSearch_KNN.best_estimator_)\n",
        "print(gridSearch_KNN.best_params_)"
      ]
    },
    {
      "cell_type": "markdown",
      "metadata": {
        "id": "ncHma-gNM_RT"
      },
      "source": [
        "Since we have find our best hyperparameters for KNN Classifier, let's tune our model with the best hyperparameters."
      ]
    },
    {
      "cell_type": "code",
      "execution_count": null,
      "metadata": {
        "colab": {
          "base_uri": "https://localhost:8080/"
        },
        "id": "ZA8Zlm_dM-aR",
        "outputId": "cb3ff92d-9cf4-4e03-ef2d-3ce21e4656f4"
      },
      "outputs": [
        {
          "data": {
            "text/plain": [
              "KNeighborsClassifier(n_neighbors=3)"
            ]
          },
          "execution_count": 177,
          "metadata": {},
          "output_type": "execute_result"
        }
      ],
      "source": [
        "new_KNN_model = KNeighborsClassifier(n_neighbors = 3, weights = 'uniform')\n",
        "new_KNN_model.fit(X_train, y_train)"
      ]
    },
    {
      "cell_type": "markdown",
      "metadata": {
        "id": "bYCKlKhnNnZg"
      },
      "source": [
        "Now, let's predict the testing data with KNN Classifier!"
      ]
    },
    {
      "cell_type": "code",
      "execution_count": null,
      "metadata": {
        "id": "G1qIU9b8Nf82"
      },
      "outputs": [],
      "source": [
        "KNN_pred = new_KNN_model.predict(X_test)"
      ]
    },
    {
      "cell_type": "markdown",
      "metadata": {
        "id": "JOWpnVSRN8Qv"
      },
      "source": [
        "Now, let's check the accuracy score of our predictor for the testing data!"
      ]
    },
    {
      "cell_type": "code",
      "execution_count": null,
      "metadata": {
        "colab": {
          "base_uri": "https://localhost:8080/"
        },
        "id": "A9QwNE85OEGY",
        "outputId": "756d8ac3-63db-477c-ca4c-315021f2e74a"
      },
      "outputs": [
        {
          "name": "stdout",
          "output_type": "stream",
          "text": [
            "Accuracy Score: 0.9805825242718447\n"
          ]
        }
      ],
      "source": [
        "print(f'Accuracy Score: {new_KNN_model.score(X_test, y_test)}')"
      ]
    },
    {
      "cell_type": "markdown",
      "metadata": {
        "id": "57el0hJ-ObUS"
      },
      "source": [
        "Since the accuracy score is 98%, the model is good fit!"
      ]
    },
    {
      "cell_type": "markdown",
      "metadata": {
        "id": "IypygAZSPz2y"
      },
      "source": [
        "Last but not least, I'm going to use Random Forest to be the model."
      ]
    },
    {
      "cell_type": "code",
      "execution_count": null,
      "metadata": {
        "colab": {
          "base_uri": "https://localhost:8080/"
        },
        "id": "M3o1aHybUM3w",
        "outputId": "fb2ec207-d74e-4325-83e8-fc2a76af9c78"
      },
      "outputs": [
        {
          "name": "stdout",
          "output_type": "stream",
          "text": [
            "Accuracy:\n",
            " [0.95833333 0.97916667 1.         1.         0.95744681]\n"
          ]
        }
      ],
      "source": [
        "score = cross_val_score(randomForest_model, X_train, y_train,\n",
        "                         cv = 5,\n",
        "                         scoring = 'accuracy')\n",
        "print(\"Accuracy:\\n\", score)"
      ]
    },
    {
      "cell_type": "code",
      "execution_count": null,
      "metadata": {
        "colab": {
          "base_uri": "https://localhost:8080/"
        },
        "id": "dFpI0cROUg1P",
        "outputId": "26220617-4039-4c83-ec5c-2ca3f35045d8"
      },
      "outputs": [
        {
          "name": "stdout",
          "output_type": "stream",
          "text": [
            "Average Score of Accuracy: 0.9789893617021276\n"
          ]
        }
      ],
      "source": [
        "print(f'Average Score of Accuracy: {score.mean()}')"
      ]
    },
    {
      "cell_type": "markdown",
      "metadata": {
        "id": "tEMbv2QEUj9M"
      },
      "source": [
        "We could see the average of accuracy is so high which means it's a good idea to use Random Forest as our model."
      ]
    },
    {
      "cell_type": "code",
      "execution_count": null,
      "metadata": {
        "colab": {
          "base_uri": "https://localhost:8080/"
        },
        "id": "LKi1NJ4GPynt",
        "outputId": "a96bc1d4-6a4f-4f2c-dfd1-b84ca1714086"
      },
      "outputs": [
        {
          "name": "stdout",
          "output_type": "stream",
          "text": [
            "Fitting 5 folds for each of 80 candidates, totalling 400 fits\n",
            "[CV 1/5] END criterion=gini, max_depth=3, max_features=auto, n_estimators=100;, score=0.958 total time=   0.2s\n",
            "[CV 2/5] END criterion=gini, max_depth=3, max_features=auto, n_estimators=100;, score=0.917 total time=   0.1s\n",
            "[CV 3/5] END criterion=gini, max_depth=3, max_features=auto, n_estimators=100;, score=0.979 total time=   0.1s\n",
            "[CV 4/5] END criterion=gini, max_depth=3, max_features=auto, n_estimators=100;, score=0.979 total time=   0.1s\n",
            "[CV 5/5] END criterion=gini, max_depth=3, max_features=auto, n_estimators=100;, score=0.957 total time=   0.1s\n",
            "[CV 1/5] END criterion=gini, max_depth=3, max_features=auto, n_estimators=200;, score=0.958 total time=   0.3s\n",
            "[CV 2/5] END criterion=gini, max_depth=3, max_features=auto, n_estimators=200;, score=0.917 total time=   0.3s\n",
            "[CV 3/5] END criterion=gini, max_depth=3, max_features=auto, n_estimators=200;, score=0.979 total time=   0.3s\n",
            "[CV 4/5] END criterion=gini, max_depth=3, max_features=auto, n_estimators=200;, score=0.979 total time=   0.3s\n",
            "[CV 5/5] END criterion=gini, max_depth=3, max_features=auto, n_estimators=200;, score=0.957 total time=   0.3s\n",
            "[CV 1/5] END criterion=gini, max_depth=3, max_features=auto, n_estimators=300;, score=0.958 total time=   0.4s\n",
            "[CV 2/5] END criterion=gini, max_depth=3, max_features=auto, n_estimators=300;, score=0.917 total time=   0.4s\n",
            "[CV 3/5] END criterion=gini, max_depth=3, max_features=auto, n_estimators=300;, score=0.979 total time=   0.4s\n",
            "[CV 4/5] END criterion=gini, max_depth=3, max_features=auto, n_estimators=300;, score=0.979 total time=   0.4s\n",
            "[CV 5/5] END criterion=gini, max_depth=3, max_features=auto, n_estimators=300;, score=0.957 total time=   0.4s\n",
            "[CV 1/5] END criterion=gini, max_depth=3, max_features=auto, n_estimators=400;, score=0.958 total time=   0.5s\n",
            "[CV 2/5] END criterion=gini, max_depth=3, max_features=auto, n_estimators=400;, score=0.917 total time=   0.6s\n",
            "[CV 3/5] END criterion=gini, max_depth=3, max_features=auto, n_estimators=400;, score=0.979 total time=   0.5s\n",
            "[CV 4/5] END criterion=gini, max_depth=3, max_features=auto, n_estimators=400;, score=0.979 total time=   0.6s\n",
            "[CV 5/5] END criterion=gini, max_depth=3, max_features=auto, n_estimators=400;, score=0.957 total time=   0.6s\n",
            "[CV 1/5] END criterion=gini, max_depth=3, max_features=sqrt, n_estimators=100;, score=0.958 total time=   0.2s\n",
            "[CV 2/5] END criterion=gini, max_depth=3, max_features=sqrt, n_estimators=100;, score=0.917 total time=   0.1s\n",
            "[CV 3/5] END criterion=gini, max_depth=3, max_features=sqrt, n_estimators=100;, score=0.979 total time=   0.2s\n",
            "[CV 4/5] END criterion=gini, max_depth=3, max_features=sqrt, n_estimators=100;, score=0.979 total time=   0.2s\n",
            "[CV 5/5] END criterion=gini, max_depth=3, max_features=sqrt, n_estimators=100;, score=0.957 total time=   0.1s\n",
            "[CV 1/5] END criterion=gini, max_depth=3, max_features=sqrt, n_estimators=200;, score=0.958 total time=   0.3s\n",
            "[CV 2/5] END criterion=gini, max_depth=3, max_features=sqrt, n_estimators=200;, score=0.917 total time=   0.3s\n",
            "[CV 3/5] END criterion=gini, max_depth=3, max_features=sqrt, n_estimators=200;, score=0.979 total time=   0.3s\n",
            "[CV 4/5] END criterion=gini, max_depth=3, max_features=sqrt, n_estimators=200;, score=0.979 total time=   0.3s\n",
            "[CV 5/5] END criterion=gini, max_depth=3, max_features=sqrt, n_estimators=200;, score=0.957 total time=   0.3s\n",
            "[CV 1/5] END criterion=gini, max_depth=3, max_features=sqrt, n_estimators=300;, score=0.958 total time=   0.4s\n",
            "[CV 2/5] END criterion=gini, max_depth=3, max_features=sqrt, n_estimators=300;, score=0.917 total time=   0.4s\n",
            "[CV 3/5] END criterion=gini, max_depth=3, max_features=sqrt, n_estimators=300;, score=0.979 total time=   0.4s\n",
            "[CV 4/5] END criterion=gini, max_depth=3, max_features=sqrt, n_estimators=300;, score=0.979 total time=   0.4s\n",
            "[CV 5/5] END criterion=gini, max_depth=3, max_features=sqrt, n_estimators=300;, score=0.957 total time=   0.4s\n",
            "[CV 1/5] END criterion=gini, max_depth=3, max_features=sqrt, n_estimators=400;, score=0.958 total time=   0.6s\n",
            "[CV 2/5] END criterion=gini, max_depth=3, max_features=sqrt, n_estimators=400;, score=0.917 total time=   0.6s\n",
            "[CV 3/5] END criterion=gini, max_depth=3, max_features=sqrt, n_estimators=400;, score=0.979 total time=   0.6s\n",
            "[CV 4/5] END criterion=gini, max_depth=3, max_features=sqrt, n_estimators=400;, score=0.979 total time=   0.6s\n",
            "[CV 5/5] END criterion=gini, max_depth=3, max_features=sqrt, n_estimators=400;, score=0.957 total time=   0.6s\n",
            "[CV 1/5] END criterion=gini, max_depth=4, max_features=auto, n_estimators=100;, score=0.958 total time=   0.2s\n",
            "[CV 2/5] END criterion=gini, max_depth=4, max_features=auto, n_estimators=100;, score=0.958 total time=   0.1s\n",
            "[CV 3/5] END criterion=gini, max_depth=4, max_features=auto, n_estimators=100;, score=0.979 total time=   0.1s\n",
            "[CV 4/5] END criterion=gini, max_depth=4, max_features=auto, n_estimators=100;, score=1.000 total time=   0.1s\n",
            "[CV 5/5] END criterion=gini, max_depth=4, max_features=auto, n_estimators=100;, score=0.957 total time=   0.1s\n",
            "[CV 1/5] END criterion=gini, max_depth=4, max_features=auto, n_estimators=200;, score=0.958 total time=   0.3s\n",
            "[CV 2/5] END criterion=gini, max_depth=4, max_features=auto, n_estimators=200;, score=0.958 total time=   0.3s\n",
            "[CV 3/5] END criterion=gini, max_depth=4, max_features=auto, n_estimators=200;, score=1.000 total time=   0.3s\n",
            "[CV 4/5] END criterion=gini, max_depth=4, max_features=auto, n_estimators=200;, score=1.000 total time=   0.3s\n",
            "[CV 5/5] END criterion=gini, max_depth=4, max_features=auto, n_estimators=200;, score=0.957 total time=   0.3s\n",
            "[CV 1/5] END criterion=gini, max_depth=4, max_features=auto, n_estimators=300;, score=0.958 total time=   0.4s\n",
            "[CV 2/5] END criterion=gini, max_depth=4, max_features=auto, n_estimators=300;, score=0.958 total time=   0.4s\n",
            "[CV 3/5] END criterion=gini, max_depth=4, max_features=auto, n_estimators=300;, score=1.000 total time=   0.4s\n",
            "[CV 4/5] END criterion=gini, max_depth=4, max_features=auto, n_estimators=300;, score=1.000 total time=   0.4s\n",
            "[CV 5/5] END criterion=gini, max_depth=4, max_features=auto, n_estimators=300;, score=0.957 total time=   0.4s\n",
            "[CV 1/5] END criterion=gini, max_depth=4, max_features=auto, n_estimators=400;, score=0.958 total time=   0.6s\n",
            "[CV 2/5] END criterion=gini, max_depth=4, max_features=auto, n_estimators=400;, score=0.958 total time=   0.6s\n",
            "[CV 3/5] END criterion=gini, max_depth=4, max_features=auto, n_estimators=400;, score=1.000 total time=   0.6s\n",
            "[CV 4/5] END criterion=gini, max_depth=4, max_features=auto, n_estimators=400;, score=1.000 total time=   0.6s\n",
            "[CV 5/5] END criterion=gini, max_depth=4, max_features=auto, n_estimators=400;, score=0.957 total time=   0.6s\n",
            "[CV 1/5] END criterion=gini, max_depth=4, max_features=sqrt, n_estimators=100;, score=0.958 total time=   0.1s\n",
            "[CV 2/5] END criterion=gini, max_depth=4, max_features=sqrt, n_estimators=100;, score=0.958 total time=   0.1s\n",
            "[CV 3/5] END criterion=gini, max_depth=4, max_features=sqrt, n_estimators=100;, score=1.000 total time=   0.1s\n",
            "[CV 4/5] END criterion=gini, max_depth=4, max_features=sqrt, n_estimators=100;, score=1.000 total time=   0.1s\n",
            "[CV 5/5] END criterion=gini, max_depth=4, max_features=sqrt, n_estimators=100;, score=0.957 total time=   0.1s\n",
            "[CV 1/5] END criterion=gini, max_depth=4, max_features=sqrt, n_estimators=200;, score=0.958 total time=   0.3s\n",
            "[CV 2/5] END criterion=gini, max_depth=4, max_features=sqrt, n_estimators=200;, score=0.958 total time=   0.3s\n",
            "[CV 3/5] END criterion=gini, max_depth=4, max_features=sqrt, n_estimators=200;, score=1.000 total time=   0.3s\n",
            "[CV 4/5] END criterion=gini, max_depth=4, max_features=sqrt, n_estimators=200;, score=1.000 total time=   0.3s\n",
            "[CV 5/5] END criterion=gini, max_depth=4, max_features=sqrt, n_estimators=200;, score=0.957 total time=   0.3s\n",
            "[CV 1/5] END criterion=gini, max_depth=4, max_features=sqrt, n_estimators=300;, score=0.958 total time=   0.4s\n",
            "[CV 2/5] END criterion=gini, max_depth=4, max_features=sqrt, n_estimators=300;, score=0.958 total time=   0.4s\n",
            "[CV 3/5] END criterion=gini, max_depth=4, max_features=sqrt, n_estimators=300;, score=1.000 total time=   0.4s\n",
            "[CV 4/5] END criterion=gini, max_depth=4, max_features=sqrt, n_estimators=300;, score=1.000 total time=   0.4s\n",
            "[CV 5/5] END criterion=gini, max_depth=4, max_features=sqrt, n_estimators=300;, score=0.957 total time=   0.4s\n",
            "[CV 1/5] END criterion=gini, max_depth=4, max_features=sqrt, n_estimators=400;, score=0.958 total time=   0.6s\n",
            "[CV 2/5] END criterion=gini, max_depth=4, max_features=sqrt, n_estimators=400;, score=0.958 total time=   0.6s\n",
            "[CV 3/5] END criterion=gini, max_depth=4, max_features=sqrt, n_estimators=400;, score=1.000 total time=   0.6s\n",
            "[CV 4/5] END criterion=gini, max_depth=4, max_features=sqrt, n_estimators=400;, score=1.000 total time=   0.6s\n",
            "[CV 5/5] END criterion=gini, max_depth=4, max_features=sqrt, n_estimators=400;, score=0.957 total time=   0.6s\n",
            "[CV 1/5] END criterion=gini, max_depth=5, max_features=auto, n_estimators=100;, score=0.958 total time=   0.1s\n",
            "[CV 2/5] END criterion=gini, max_depth=5, max_features=auto, n_estimators=100;, score=0.979 total time=   0.1s\n",
            "[CV 3/5] END criterion=gini, max_depth=5, max_features=auto, n_estimators=100;, score=1.000 total time=   0.2s\n",
            "[CV 4/5] END criterion=gini, max_depth=5, max_features=auto, n_estimators=100;, score=1.000 total time=   0.1s\n",
            "[CV 5/5] END criterion=gini, max_depth=5, max_features=auto, n_estimators=100;, score=0.957 total time=   0.1s\n",
            "[CV 1/5] END criterion=gini, max_depth=5, max_features=auto, n_estimators=200;, score=0.958 total time=   0.3s\n",
            "[CV 2/5] END criterion=gini, max_depth=5, max_features=auto, n_estimators=200;, score=0.979 total time=   0.3s\n",
            "[CV 3/5] END criterion=gini, max_depth=5, max_features=auto, n_estimators=200;, score=1.000 total time=   0.3s\n",
            "[CV 4/5] END criterion=gini, max_depth=5, max_features=auto, n_estimators=200;, score=1.000 total time=   0.3s\n",
            "[CV 5/5] END criterion=gini, max_depth=5, max_features=auto, n_estimators=200;, score=0.957 total time=   0.3s\n",
            "[CV 1/5] END criterion=gini, max_depth=5, max_features=auto, n_estimators=300;, score=0.958 total time=   0.4s\n",
            "[CV 2/5] END criterion=gini, max_depth=5, max_features=auto, n_estimators=300;, score=0.979 total time=   0.4s\n",
            "[CV 3/5] END criterion=gini, max_depth=5, max_features=auto, n_estimators=300;, score=1.000 total time=   0.4s\n",
            "[CV 4/5] END criterion=gini, max_depth=5, max_features=auto, n_estimators=300;, score=1.000 total time=   0.4s\n",
            "[CV 5/5] END criterion=gini, max_depth=5, max_features=auto, n_estimators=300;, score=0.957 total time=   0.4s\n",
            "[CV 1/5] END criterion=gini, max_depth=5, max_features=auto, n_estimators=400;, score=0.958 total time=   0.6s\n",
            "[CV 2/5] END criterion=gini, max_depth=5, max_features=auto, n_estimators=400;, score=0.979 total time=   0.6s\n",
            "[CV 3/5] END criterion=gini, max_depth=5, max_features=auto, n_estimators=400;, score=1.000 total time=   0.6s\n",
            "[CV 4/5] END criterion=gini, max_depth=5, max_features=auto, n_estimators=400;, score=1.000 total time=   0.6s\n",
            "[CV 5/5] END criterion=gini, max_depth=5, max_features=auto, n_estimators=400;, score=0.957 total time=   0.6s\n",
            "[CV 1/5] END criterion=gini, max_depth=5, max_features=sqrt, n_estimators=100;, score=0.958 total time=   0.1s\n",
            "[CV 2/5] END criterion=gini, max_depth=5, max_features=sqrt, n_estimators=100;, score=0.958 total time=   0.1s\n",
            "[CV 3/5] END criterion=gini, max_depth=5, max_features=sqrt, n_estimators=100;, score=1.000 total time=   0.1s\n",
            "[CV 4/5] END criterion=gini, max_depth=5, max_features=sqrt, n_estimators=100;, score=1.000 total time=   0.1s\n",
            "[CV 5/5] END criterion=gini, max_depth=5, max_features=sqrt, n_estimators=100;, score=0.957 total time=   0.1s\n",
            "[CV 1/5] END criterion=gini, max_depth=5, max_features=sqrt, n_estimators=200;, score=0.958 total time=   0.3s\n",
            "[CV 2/5] END criterion=gini, max_depth=5, max_features=sqrt, n_estimators=200;, score=0.979 total time=   0.3s\n",
            "[CV 3/5] END criterion=gini, max_depth=5, max_features=sqrt, n_estimators=200;, score=1.000 total time=   0.3s\n",
            "[CV 4/5] END criterion=gini, max_depth=5, max_features=sqrt, n_estimators=200;, score=1.000 total time=   0.3s\n",
            "[CV 5/5] END criterion=gini, max_depth=5, max_features=sqrt, n_estimators=200;, score=0.957 total time=   0.3s\n",
            "[CV 1/5] END criterion=gini, max_depth=5, max_features=sqrt, n_estimators=300;, score=0.958 total time=   0.5s\n",
            "[CV 2/5] END criterion=gini, max_depth=5, max_features=sqrt, n_estimators=300;, score=0.979 total time=   0.4s\n",
            "[CV 3/5] END criterion=gini, max_depth=5, max_features=sqrt, n_estimators=300;, score=1.000 total time=   0.4s\n",
            "[CV 4/5] END criterion=gini, max_depth=5, max_features=sqrt, n_estimators=300;, score=1.000 total time=   0.4s\n",
            "[CV 5/5] END criterion=gini, max_depth=5, max_features=sqrt, n_estimators=300;, score=0.957 total time=   0.4s\n",
            "[CV 1/5] END criterion=gini, max_depth=5, max_features=sqrt, n_estimators=400;, score=0.958 total time=   0.6s\n",
            "[CV 2/5] END criterion=gini, max_depth=5, max_features=sqrt, n_estimators=400;, score=0.979 total time=   0.6s\n",
            "[CV 3/5] END criterion=gini, max_depth=5, max_features=sqrt, n_estimators=400;, score=1.000 total time=   0.6s\n",
            "[CV 4/5] END criterion=gini, max_depth=5, max_features=sqrt, n_estimators=400;, score=1.000 total time=   0.6s\n",
            "[CV 5/5] END criterion=gini, max_depth=5, max_features=sqrt, n_estimators=400;, score=0.957 total time=   0.6s\n",
            "[CV 1/5] END criterion=gini, max_depth=6, max_features=auto, n_estimators=100;, score=0.958 total time=   0.1s\n",
            "[CV 2/5] END criterion=gini, max_depth=6, max_features=auto, n_estimators=100;, score=0.979 total time=   0.1s\n",
            "[CV 3/5] END criterion=gini, max_depth=6, max_features=auto, n_estimators=100;, score=1.000 total time=   0.1s\n",
            "[CV 4/5] END criterion=gini, max_depth=6, max_features=auto, n_estimators=100;, score=1.000 total time=   0.1s\n",
            "[CV 5/5] END criterion=gini, max_depth=6, max_features=auto, n_estimators=100;, score=0.957 total time=   0.1s\n",
            "[CV 1/5] END criterion=gini, max_depth=6, max_features=auto, n_estimators=200;, score=0.958 total time=   0.3s\n",
            "[CV 2/5] END criterion=gini, max_depth=6, max_features=auto, n_estimators=200;, score=0.979 total time=   0.3s\n",
            "[CV 3/5] END criterion=gini, max_depth=6, max_features=auto, n_estimators=200;, score=1.000 total time=   0.3s\n",
            "[CV 4/5] END criterion=gini, max_depth=6, max_features=auto, n_estimators=200;, score=1.000 total time=   0.3s\n",
            "[CV 5/5] END criterion=gini, max_depth=6, max_features=auto, n_estimators=200;, score=0.957 total time=   0.3s\n",
            "[CV 1/5] END criterion=gini, max_depth=6, max_features=auto, n_estimators=300;, score=0.958 total time=   0.5s\n",
            "[CV 2/5] END criterion=gini, max_depth=6, max_features=auto, n_estimators=300;, score=0.979 total time=   0.4s\n",
            "[CV 3/5] END criterion=gini, max_depth=6, max_features=auto, n_estimators=300;, score=1.000 total time=   0.4s\n",
            "[CV 4/5] END criterion=gini, max_depth=6, max_features=auto, n_estimators=300;, score=1.000 total time=   0.5s\n",
            "[CV 5/5] END criterion=gini, max_depth=6, max_features=auto, n_estimators=300;, score=0.957 total time=   0.4s\n",
            "[CV 1/5] END criterion=gini, max_depth=6, max_features=auto, n_estimators=400;, score=0.958 total time=   0.6s\n",
            "[CV 2/5] END criterion=gini, max_depth=6, max_features=auto, n_estimators=400;, score=0.979 total time=   0.6s\n",
            "[CV 3/5] END criterion=gini, max_depth=6, max_features=auto, n_estimators=400;, score=1.000 total time=   0.6s\n",
            "[CV 4/5] END criterion=gini, max_depth=6, max_features=auto, n_estimators=400;, score=1.000 total time=   0.6s\n",
            "[CV 5/5] END criterion=gini, max_depth=6, max_features=auto, n_estimators=400;, score=0.957 total time=   0.6s\n",
            "[CV 1/5] END criterion=gini, max_depth=6, max_features=sqrt, n_estimators=100;, score=0.979 total time=   0.1s\n",
            "[CV 2/5] END criterion=gini, max_depth=6, max_features=sqrt, n_estimators=100;, score=0.979 total time=   0.1s\n",
            "[CV 3/5] END criterion=gini, max_depth=6, max_features=sqrt, n_estimators=100;, score=1.000 total time=   0.1s\n",
            "[CV 4/5] END criterion=gini, max_depth=6, max_features=sqrt, n_estimators=100;, score=1.000 total time=   0.2s\n",
            "[CV 5/5] END criterion=gini, max_depth=6, max_features=sqrt, n_estimators=100;, score=0.957 total time=   0.1s\n",
            "[CV 1/5] END criterion=gini, max_depth=6, max_features=sqrt, n_estimators=200;, score=0.958 total time=   0.3s\n",
            "[CV 2/5] END criterion=gini, max_depth=6, max_features=sqrt, n_estimators=200;, score=0.979 total time=   0.3s\n",
            "[CV 3/5] END criterion=gini, max_depth=6, max_features=sqrt, n_estimators=200;, score=1.000 total time=   0.3s\n",
            "[CV 4/5] END criterion=gini, max_depth=6, max_features=sqrt, n_estimators=200;, score=1.000 total time=   0.3s\n",
            "[CV 5/5] END criterion=gini, max_depth=6, max_features=sqrt, n_estimators=200;, score=0.957 total time=   0.3s\n",
            "[CV 1/5] END criterion=gini, max_depth=6, max_features=sqrt, n_estimators=300;, score=0.958 total time=   0.4s\n",
            "[CV 2/5] END criterion=gini, max_depth=6, max_features=sqrt, n_estimators=300;, score=0.979 total time=   0.4s\n",
            "[CV 3/5] END criterion=gini, max_depth=6, max_features=sqrt, n_estimators=300;, score=1.000 total time=   0.4s\n",
            "[CV 4/5] END criterion=gini, max_depth=6, max_features=sqrt, n_estimators=300;, score=1.000 total time=   0.4s\n",
            "[CV 5/5] END criterion=gini, max_depth=6, max_features=sqrt, n_estimators=300;, score=0.957 total time=   0.4s\n",
            "[CV 1/5] END criterion=gini, max_depth=6, max_features=sqrt, n_estimators=400;, score=0.958 total time=   0.6s\n",
            "[CV 2/5] END criterion=gini, max_depth=6, max_features=sqrt, n_estimators=400;, score=0.979 total time=   0.6s\n",
            "[CV 3/5] END criterion=gini, max_depth=6, max_features=sqrt, n_estimators=400;, score=1.000 total time=   0.6s\n",
            "[CV 4/5] END criterion=gini, max_depth=6, max_features=sqrt, n_estimators=400;, score=1.000 total time=   0.6s\n",
            "[CV 5/5] END criterion=gini, max_depth=6, max_features=sqrt, n_estimators=400;, score=0.957 total time=   0.6s\n",
            "[CV 1/5] END criterion=gini, max_depth=7, max_features=auto, n_estimators=100;, score=0.958 total time=   0.1s\n",
            "[CV 2/5] END criterion=gini, max_depth=7, max_features=auto, n_estimators=100;, score=0.979 total time=   0.1s\n",
            "[CV 3/5] END criterion=gini, max_depth=7, max_features=auto, n_estimators=100;, score=1.000 total time=   0.1s\n",
            "[CV 4/5] END criterion=gini, max_depth=7, max_features=auto, n_estimators=100;, score=1.000 total time=   0.1s\n",
            "[CV 5/5] END criterion=gini, max_depth=7, max_features=auto, n_estimators=100;, score=0.957 total time=   0.2s\n",
            "[CV 1/5] END criterion=gini, max_depth=7, max_features=auto, n_estimators=200;, score=0.958 total time=   0.3s\n",
            "[CV 2/5] END criterion=gini, max_depth=7, max_features=auto, n_estimators=200;, score=0.979 total time=   0.3s\n",
            "[CV 3/5] END criterion=gini, max_depth=7, max_features=auto, n_estimators=200;, score=1.000 total time=   0.3s\n",
            "[CV 4/5] END criterion=gini, max_depth=7, max_features=auto, n_estimators=200;, score=1.000 total time=   0.3s\n",
            "[CV 5/5] END criterion=gini, max_depth=7, max_features=auto, n_estimators=200;, score=0.957 total time=   0.3s\n",
            "[CV 1/5] END criterion=gini, max_depth=7, max_features=auto, n_estimators=300;, score=0.958 total time=   0.4s\n",
            "[CV 2/5] END criterion=gini, max_depth=7, max_features=auto, n_estimators=300;, score=0.979 total time=   0.4s\n",
            "[CV 3/5] END criterion=gini, max_depth=7, max_features=auto, n_estimators=300;, score=1.000 total time=   0.4s\n",
            "[CV 4/5] END criterion=gini, max_depth=7, max_features=auto, n_estimators=300;, score=1.000 total time=   0.4s\n",
            "[CV 5/5] END criterion=gini, max_depth=7, max_features=auto, n_estimators=300;, score=0.957 total time=   0.4s\n",
            "[CV 1/5] END criterion=gini, max_depth=7, max_features=auto, n_estimators=400;, score=0.958 total time=   0.6s\n",
            "[CV 2/5] END criterion=gini, max_depth=7, max_features=auto, n_estimators=400;, score=0.979 total time=   0.6s\n",
            "[CV 3/5] END criterion=gini, max_depth=7, max_features=auto, n_estimators=400;, score=1.000 total time=   0.6s\n",
            "[CV 4/5] END criterion=gini, max_depth=7, max_features=auto, n_estimators=400;, score=1.000 total time=   0.6s\n",
            "[CV 5/5] END criterion=gini, max_depth=7, max_features=auto, n_estimators=400;, score=0.957 total time=   0.6s\n",
            "[CV 1/5] END criterion=gini, max_depth=7, max_features=sqrt, n_estimators=100;, score=0.958 total time=   0.1s\n",
            "[CV 2/5] END criterion=gini, max_depth=7, max_features=sqrt, n_estimators=100;, score=0.979 total time=   0.1s\n",
            "[CV 3/5] END criterion=gini, max_depth=7, max_features=sqrt, n_estimators=100;, score=1.000 total time=   0.1s\n",
            "[CV 4/5] END criterion=gini, max_depth=7, max_features=sqrt, n_estimators=100;, score=1.000 total time=   0.1s\n",
            "[CV 5/5] END criterion=gini, max_depth=7, max_features=sqrt, n_estimators=100;, score=0.957 total time=   0.2s\n",
            "[CV 1/5] END criterion=gini, max_depth=7, max_features=sqrt, n_estimators=200;, score=0.958 total time=   0.3s\n",
            "[CV 2/5] END criterion=gini, max_depth=7, max_features=sqrt, n_estimators=200;, score=0.979 total time=   0.3s\n",
            "[CV 3/5] END criterion=gini, max_depth=7, max_features=sqrt, n_estimators=200;, score=1.000 total time=   0.3s\n",
            "[CV 4/5] END criterion=gini, max_depth=7, max_features=sqrt, n_estimators=200;, score=1.000 total time=   0.3s\n",
            "[CV 5/5] END criterion=gini, max_depth=7, max_features=sqrt, n_estimators=200;, score=0.957 total time=   0.3s\n",
            "[CV 1/5] END criterion=gini, max_depth=7, max_features=sqrt, n_estimators=300;, score=0.958 total time=   0.4s\n",
            "[CV 2/5] END criterion=gini, max_depth=7, max_features=sqrt, n_estimators=300;, score=0.979 total time=   0.4s\n",
            "[CV 3/5] END criterion=gini, max_depth=7, max_features=sqrt, n_estimators=300;, score=1.000 total time=   0.4s\n",
            "[CV 4/5] END criterion=gini, max_depth=7, max_features=sqrt, n_estimators=300;, score=1.000 total time=   0.4s\n",
            "[CV 5/5] END criterion=gini, max_depth=7, max_features=sqrt, n_estimators=300;, score=0.957 total time=   0.4s\n",
            "[CV 1/5] END criterion=gini, max_depth=7, max_features=sqrt, n_estimators=400;, score=0.958 total time=   0.6s\n",
            "[CV 2/5] END criterion=gini, max_depth=7, max_features=sqrt, n_estimators=400;, score=0.979 total time=   0.6s\n",
            "[CV 3/5] END criterion=gini, max_depth=7, max_features=sqrt, n_estimators=400;, score=1.000 total time=   0.6s\n",
            "[CV 4/5] END criterion=gini, max_depth=7, max_features=sqrt, n_estimators=400;, score=1.000 total time=   0.6s\n",
            "[CV 5/5] END criterion=gini, max_depth=7, max_features=sqrt, n_estimators=400;, score=0.957 total time=   0.6s\n",
            "[CV 1/5] END criterion=entropy, max_depth=3, max_features=auto, n_estimators=100;, score=0.958 total time=   0.1s\n",
            "[CV 2/5] END criterion=entropy, max_depth=3, max_features=auto, n_estimators=100;, score=0.917 total time=   0.2s\n",
            "[CV 3/5] END criterion=entropy, max_depth=3, max_features=auto, n_estimators=100;, score=0.979 total time=   0.2s\n",
            "[CV 4/5] END criterion=entropy, max_depth=3, max_features=auto, n_estimators=100;, score=0.979 total time=   0.2s\n",
            "[CV 5/5] END criterion=entropy, max_depth=3, max_features=auto, n_estimators=100;, score=0.957 total time=   0.1s\n",
            "[CV 1/5] END criterion=entropy, max_depth=3, max_features=auto, n_estimators=200;, score=0.958 total time=   0.3s\n",
            "[CV 2/5] END criterion=entropy, max_depth=3, max_features=auto, n_estimators=200;, score=0.917 total time=   0.3s\n",
            "[CV 3/5] END criterion=entropy, max_depth=3, max_features=auto, n_estimators=200;, score=0.979 total time=   0.3s\n",
            "[CV 4/5] END criterion=entropy, max_depth=3, max_features=auto, n_estimators=200;, score=0.979 total time=   0.3s\n",
            "[CV 5/5] END criterion=entropy, max_depth=3, max_features=auto, n_estimators=200;, score=0.957 total time=   0.3s\n",
            "[CV 1/5] END criterion=entropy, max_depth=3, max_features=auto, n_estimators=300;, score=0.958 total time=   0.4s\n",
            "[CV 2/5] END criterion=entropy, max_depth=3, max_features=auto, n_estimators=300;, score=0.917 total time=   0.4s\n",
            "[CV 3/5] END criterion=entropy, max_depth=3, max_features=auto, n_estimators=300;, score=0.979 total time=   0.4s\n",
            "[CV 4/5] END criterion=entropy, max_depth=3, max_features=auto, n_estimators=300;, score=0.979 total time=   0.4s\n",
            "[CV 5/5] END criterion=entropy, max_depth=3, max_features=auto, n_estimators=300;, score=0.957 total time=   0.4s\n",
            "[CV 1/5] END criterion=entropy, max_depth=3, max_features=auto, n_estimators=400;, score=0.979 total time=   0.6s\n",
            "[CV 2/5] END criterion=entropy, max_depth=3, max_features=auto, n_estimators=400;, score=0.917 total time=   0.6s\n",
            "[CV 3/5] END criterion=entropy, max_depth=3, max_features=auto, n_estimators=400;, score=0.979 total time=   0.6s\n",
            "[CV 4/5] END criterion=entropy, max_depth=3, max_features=auto, n_estimators=400;, score=0.979 total time=   0.6s\n",
            "[CV 5/5] END criterion=entropy, max_depth=3, max_features=auto, n_estimators=400;, score=0.957 total time=   0.6s\n",
            "[CV 1/5] END criterion=entropy, max_depth=3, max_features=sqrt, n_estimators=100;, score=0.958 total time=   0.2s\n",
            "[CV 2/5] END criterion=entropy, max_depth=3, max_features=sqrt, n_estimators=100;, score=0.917 total time=   0.2s\n",
            "[CV 3/5] END criterion=entropy, max_depth=3, max_features=sqrt, n_estimators=100;, score=0.979 total time=   0.1s\n",
            "[CV 4/5] END criterion=entropy, max_depth=3, max_features=sqrt, n_estimators=100;, score=0.979 total time=   0.2s\n",
            "[CV 5/5] END criterion=entropy, max_depth=3, max_features=sqrt, n_estimators=100;, score=0.957 total time=   0.1s\n",
            "[CV 1/5] END criterion=entropy, max_depth=3, max_features=sqrt, n_estimators=200;, score=0.979 total time=   0.3s\n",
            "[CV 2/5] END criterion=entropy, max_depth=3, max_features=sqrt, n_estimators=200;, score=0.917 total time=   0.3s\n",
            "[CV 3/5] END criterion=entropy, max_depth=3, max_features=sqrt, n_estimators=200;, score=0.979 total time=   0.5s\n",
            "[CV 4/5] END criterion=entropy, max_depth=3, max_features=sqrt, n_estimators=200;, score=0.979 total time=   0.7s\n",
            "[CV 5/5] END criterion=entropy, max_depth=3, max_features=sqrt, n_estimators=200;, score=0.957 total time=   0.3s\n",
            "[CV 1/5] END criterion=entropy, max_depth=3, max_features=sqrt, n_estimators=300;, score=0.979 total time=   0.5s\n",
            "[CV 2/5] END criterion=entropy, max_depth=3, max_features=sqrt, n_estimators=300;, score=0.917 total time=   0.7s\n",
            "[CV 3/5] END criterion=entropy, max_depth=3, max_features=sqrt, n_estimators=300;, score=0.979 total time=   0.8s\n",
            "[CV 4/5] END criterion=entropy, max_depth=3, max_features=sqrt, n_estimators=300;, score=0.979 total time=   0.7s\n",
            "[CV 5/5] END criterion=entropy, max_depth=3, max_features=sqrt, n_estimators=300;, score=0.957 total time=   0.8s\n",
            "[CV 1/5] END criterion=entropy, max_depth=3, max_features=sqrt, n_estimators=400;, score=0.958 total time=   1.1s\n",
            "[CV 2/5] END criterion=entropy, max_depth=3, max_features=sqrt, n_estimators=400;, score=0.917 total time=   0.9s\n",
            "[CV 3/5] END criterion=entropy, max_depth=3, max_features=sqrt, n_estimators=400;, score=0.979 total time=   2.2s\n",
            "[CV 4/5] END criterion=entropy, max_depth=3, max_features=sqrt, n_estimators=400;, score=0.979 total time=   1.4s\n",
            "[CV 5/5] END criterion=entropy, max_depth=3, max_features=sqrt, n_estimators=400;, score=0.957 total time=   0.8s\n",
            "[CV 1/5] END criterion=entropy, max_depth=4, max_features=auto, n_estimators=100;, score=0.958 total time=   0.2s\n",
            "[CV 2/5] END criterion=entropy, max_depth=4, max_features=auto, n_estimators=100;, score=0.958 total time=   0.3s\n",
            "[CV 3/5] END criterion=entropy, max_depth=4, max_features=auto, n_estimators=100;, score=0.979 total time=   0.2s\n",
            "[CV 4/5] END criterion=entropy, max_depth=4, max_features=auto, n_estimators=100;, score=1.000 total time=   0.2s\n",
            "[CV 5/5] END criterion=entropy, max_depth=4, max_features=auto, n_estimators=100;, score=0.957 total time=   0.3s\n",
            "[CV 1/5] END criterion=entropy, max_depth=4, max_features=auto, n_estimators=200;, score=0.958 total time=   0.6s\n",
            "[CV 2/5] END criterion=entropy, max_depth=4, max_features=auto, n_estimators=200;, score=0.958 total time=   1.0s\n",
            "[CV 3/5] END criterion=entropy, max_depth=4, max_features=auto, n_estimators=200;, score=1.000 total time=   0.6s\n",
            "[CV 4/5] END criterion=entropy, max_depth=4, max_features=auto, n_estimators=200;, score=1.000 total time=   0.5s\n",
            "[CV 5/5] END criterion=entropy, max_depth=4, max_features=auto, n_estimators=200;, score=0.957 total time=   0.6s\n",
            "[CV 1/5] END criterion=entropy, max_depth=4, max_features=auto, n_estimators=300;, score=0.958 total time=   0.9s\n",
            "[CV 2/5] END criterion=entropy, max_depth=4, max_features=auto, n_estimators=300;, score=0.958 total time=   0.5s\n",
            "[CV 3/5] END criterion=entropy, max_depth=4, max_features=auto, n_estimators=300;, score=1.000 total time=   0.4s\n",
            "[CV 4/5] END criterion=entropy, max_depth=4, max_features=auto, n_estimators=300;, score=1.000 total time=   0.5s\n",
            "[CV 5/5] END criterion=entropy, max_depth=4, max_features=auto, n_estimators=300;, score=0.957 total time=   0.5s\n",
            "[CV 1/5] END criterion=entropy, max_depth=4, max_features=auto, n_estimators=400;, score=0.958 total time=   0.6s\n",
            "[CV 2/5] END criterion=entropy, max_depth=4, max_features=auto, n_estimators=400;, score=0.958 total time=   0.6s\n",
            "[CV 3/5] END criterion=entropy, max_depth=4, max_features=auto, n_estimators=400;, score=1.000 total time=   0.6s\n",
            "[CV 4/5] END criterion=entropy, max_depth=4, max_features=auto, n_estimators=400;, score=1.000 total time=   0.6s\n",
            "[CV 5/5] END criterion=entropy, max_depth=4, max_features=auto, n_estimators=400;, score=0.957 total time=   0.6s\n",
            "[CV 1/5] END criterion=entropy, max_depth=4, max_features=sqrt, n_estimators=100;, score=0.979 total time=   0.2s\n",
            "[CV 2/5] END criterion=entropy, max_depth=4, max_features=sqrt, n_estimators=100;, score=0.979 total time=   0.2s\n",
            "[CV 3/5] END criterion=entropy, max_depth=4, max_features=sqrt, n_estimators=100;, score=1.000 total time=   0.2s\n",
            "[CV 4/5] END criterion=entropy, max_depth=4, max_features=sqrt, n_estimators=100;, score=1.000 total time=   0.2s\n",
            "[CV 5/5] END criterion=entropy, max_depth=4, max_features=sqrt, n_estimators=100;, score=0.957 total time=   0.1s\n",
            "[CV 1/5] END criterion=entropy, max_depth=4, max_features=sqrt, n_estimators=200;, score=0.958 total time=   0.3s\n",
            "[CV 2/5] END criterion=entropy, max_depth=4, max_features=sqrt, n_estimators=200;, score=0.979 total time=   0.3s\n",
            "[CV 3/5] END criterion=entropy, max_depth=4, max_features=sqrt, n_estimators=200;, score=1.000 total time=   0.3s\n",
            "[CV 4/5] END criterion=entropy, max_depth=4, max_features=sqrt, n_estimators=200;, score=1.000 total time=   0.3s\n",
            "[CV 5/5] END criterion=entropy, max_depth=4, max_features=sqrt, n_estimators=200;, score=0.957 total time=   0.3s\n",
            "[CV 1/5] END criterion=entropy, max_depth=4, max_features=sqrt, n_estimators=300;, score=0.958 total time=   0.5s\n",
            "[CV 2/5] END criterion=entropy, max_depth=4, max_features=sqrt, n_estimators=300;, score=0.958 total time=   0.4s\n",
            "[CV 3/5] END criterion=entropy, max_depth=4, max_features=sqrt, n_estimators=300;, score=1.000 total time=   0.4s\n",
            "[CV 4/5] END criterion=entropy, max_depth=4, max_features=sqrt, n_estimators=300;, score=1.000 total time=   0.5s\n",
            "[CV 5/5] END criterion=entropy, max_depth=4, max_features=sqrt, n_estimators=300;, score=0.957 total time=   0.5s\n",
            "[CV 1/5] END criterion=entropy, max_depth=4, max_features=sqrt, n_estimators=400;, score=0.958 total time=   0.6s\n",
            "[CV 2/5] END criterion=entropy, max_depth=4, max_features=sqrt, n_estimators=400;, score=0.958 total time=   0.6s\n",
            "[CV 3/5] END criterion=entropy, max_depth=4, max_features=sqrt, n_estimators=400;, score=1.000 total time=   0.6s\n",
            "[CV 4/5] END criterion=entropy, max_depth=4, max_features=sqrt, n_estimators=400;, score=1.000 total time=   0.6s\n",
            "[CV 5/5] END criterion=entropy, max_depth=4, max_features=sqrt, n_estimators=400;, score=0.957 total time=   0.6s\n",
            "[CV 1/5] END criterion=entropy, max_depth=5, max_features=auto, n_estimators=100;, score=0.958 total time=   0.2s\n",
            "[CV 2/5] END criterion=entropy, max_depth=5, max_features=auto, n_estimators=100;, score=0.979 total time=   0.2s\n",
            "[CV 3/5] END criterion=entropy, max_depth=5, max_features=auto, n_estimators=100;, score=1.000 total time=   0.2s\n",
            "[CV 4/5] END criterion=entropy, max_depth=5, max_features=auto, n_estimators=100;, score=1.000 total time=   0.2s\n",
            "[CV 5/5] END criterion=entropy, max_depth=5, max_features=auto, n_estimators=100;, score=0.957 total time=   0.1s\n",
            "[CV 1/5] END criterion=entropy, max_depth=5, max_features=auto, n_estimators=200;, score=0.958 total time=   0.3s\n",
            "[CV 2/5] END criterion=entropy, max_depth=5, max_features=auto, n_estimators=200;, score=0.979 total time=   0.3s\n",
            "[CV 3/5] END criterion=entropy, max_depth=5, max_features=auto, n_estimators=200;, score=1.000 total time=   0.3s\n",
            "[CV 4/5] END criterion=entropy, max_depth=5, max_features=auto, n_estimators=200;, score=1.000 total time=   0.3s\n",
            "[CV 5/5] END criterion=entropy, max_depth=5, max_features=auto, n_estimators=200;, score=0.957 total time=   0.3s\n",
            "[CV 1/5] END criterion=entropy, max_depth=5, max_features=auto, n_estimators=300;, score=0.958 total time=   0.4s\n",
            "[CV 2/5] END criterion=entropy, max_depth=5, max_features=auto, n_estimators=300;, score=0.979 total time=   0.4s\n",
            "[CV 3/5] END criterion=entropy, max_depth=5, max_features=auto, n_estimators=300;, score=1.000 total time=   0.4s\n",
            "[CV 4/5] END criterion=entropy, max_depth=5, max_features=auto, n_estimators=300;, score=1.000 total time=   0.5s\n",
            "[CV 5/5] END criterion=entropy, max_depth=5, max_features=auto, n_estimators=300;, score=0.957 total time=   0.4s\n",
            "[CV 1/5] END criterion=entropy, max_depth=5, max_features=auto, n_estimators=400;, score=0.958 total time=   0.6s\n",
            "[CV 2/5] END criterion=entropy, max_depth=5, max_features=auto, n_estimators=400;, score=0.979 total time=   0.6s\n",
            "[CV 3/5] END criterion=entropy, max_depth=5, max_features=auto, n_estimators=400;, score=1.000 total time=   0.6s\n",
            "[CV 4/5] END criterion=entropy, max_depth=5, max_features=auto, n_estimators=400;, score=1.000 total time=   0.6s\n",
            "[CV 5/5] END criterion=entropy, max_depth=5, max_features=auto, n_estimators=400;, score=0.957 total time=   0.6s\n",
            "[CV 1/5] END criterion=entropy, max_depth=5, max_features=sqrt, n_estimators=100;, score=0.958 total time=   0.2s\n",
            "[CV 2/5] END criterion=entropy, max_depth=5, max_features=sqrt, n_estimators=100;, score=0.979 total time=   0.2s\n",
            "[CV 3/5] END criterion=entropy, max_depth=5, max_features=sqrt, n_estimators=100;, score=1.000 total time=   0.1s\n",
            "[CV 4/5] END criterion=entropy, max_depth=5, max_features=sqrt, n_estimators=100;, score=0.979 total time=   0.2s\n",
            "[CV 5/5] END criterion=entropy, max_depth=5, max_features=sqrt, n_estimators=100;, score=0.957 total time=   0.2s\n",
            "[CV 1/5] END criterion=entropy, max_depth=5, max_features=sqrt, n_estimators=200;, score=0.958 total time=   0.3s\n",
            "[CV 2/5] END criterion=entropy, max_depth=5, max_features=sqrt, n_estimators=200;, score=0.979 total time=   0.3s\n",
            "[CV 3/5] END criterion=entropy, max_depth=5, max_features=sqrt, n_estimators=200;, score=1.000 total time=   0.5s\n",
            "[CV 4/5] END criterion=entropy, max_depth=5, max_features=sqrt, n_estimators=200;, score=1.000 total time=   0.6s\n",
            "[CV 5/5] END criterion=entropy, max_depth=5, max_features=sqrt, n_estimators=200;, score=0.957 total time=   0.5s\n",
            "[CV 1/5] END criterion=entropy, max_depth=5, max_features=sqrt, n_estimators=300;, score=0.958 total time=   0.9s\n",
            "[CV 2/5] END criterion=entropy, max_depth=5, max_features=sqrt, n_estimators=300;, score=0.979 total time=   0.6s\n",
            "[CV 3/5] END criterion=entropy, max_depth=5, max_features=sqrt, n_estimators=300;, score=1.000 total time=   0.8s\n",
            "[CV 4/5] END criterion=entropy, max_depth=5, max_features=sqrt, n_estimators=300;, score=1.000 total time=   1.2s\n",
            "[CV 5/5] END criterion=entropy, max_depth=5, max_features=sqrt, n_estimators=300;, score=0.957 total time=   0.9s\n",
            "[CV 1/5] END criterion=entropy, max_depth=5, max_features=sqrt, n_estimators=400;, score=0.958 total time=   0.9s\n",
            "[CV 2/5] END criterion=entropy, max_depth=5, max_features=sqrt, n_estimators=400;, score=0.979 total time=   0.6s\n",
            "[CV 3/5] END criterion=entropy, max_depth=5, max_features=sqrt, n_estimators=400;, score=1.000 total time=   0.6s\n",
            "[CV 4/5] END criterion=entropy, max_depth=5, max_features=sqrt, n_estimators=400;, score=1.000 total time=   0.6s\n",
            "[CV 5/5] END criterion=entropy, max_depth=5, max_features=sqrt, n_estimators=400;, score=0.957 total time=   0.9s\n",
            "[CV 1/5] END criterion=entropy, max_depth=6, max_features=auto, n_estimators=100;, score=0.958 total time=   0.3s\n",
            "[CV 2/5] END criterion=entropy, max_depth=6, max_features=auto, n_estimators=100;, score=0.979 total time=   0.3s\n",
            "[CV 3/5] END criterion=entropy, max_depth=6, max_features=auto, n_estimators=100;, score=1.000 total time=   0.3s\n",
            "[CV 4/5] END criterion=entropy, max_depth=6, max_features=auto, n_estimators=100;, score=1.000 total time=   0.1s\n",
            "[CV 5/5] END criterion=entropy, max_depth=6, max_features=auto, n_estimators=100;, score=0.957 total time=   0.2s\n",
            "[CV 1/5] END criterion=entropy, max_depth=6, max_features=auto, n_estimators=200;, score=0.958 total time=   0.4s\n",
            "[CV 2/5] END criterion=entropy, max_depth=6, max_features=auto, n_estimators=200;, score=0.979 total time=   0.4s\n",
            "[CV 3/5] END criterion=entropy, max_depth=6, max_features=auto, n_estimators=200;, score=1.000 total time=   0.5s\n",
            "[CV 4/5] END criterion=entropy, max_depth=6, max_features=auto, n_estimators=200;, score=1.000 total time=   0.4s\n",
            "[CV 5/5] END criterion=entropy, max_depth=6, max_features=auto, n_estimators=200;, score=0.957 total time=   0.5s\n",
            "[CV 1/5] END criterion=entropy, max_depth=6, max_features=auto, n_estimators=300;, score=0.958 total time=   1.0s\n",
            "[CV 2/5] END criterion=entropy, max_depth=6, max_features=auto, n_estimators=300;, score=0.979 total time=   0.9s\n",
            "[CV 3/5] END criterion=entropy, max_depth=6, max_features=auto, n_estimators=300;, score=1.000 total time=   0.8s\n",
            "[CV 4/5] END criterion=entropy, max_depth=6, max_features=auto, n_estimators=300;, score=1.000 total time=   0.6s\n",
            "[CV 5/5] END criterion=entropy, max_depth=6, max_features=auto, n_estimators=300;, score=0.957 total time=   0.5s\n",
            "[CV 1/5] END criterion=entropy, max_depth=6, max_features=auto, n_estimators=400;, score=0.958 total time=   0.6s\n",
            "[CV 2/5] END criterion=entropy, max_depth=6, max_features=auto, n_estimators=400;, score=0.979 total time=   0.6s\n",
            "[CV 3/5] END criterion=entropy, max_depth=6, max_features=auto, n_estimators=400;, score=1.000 total time=   0.6s\n",
            "[CV 4/5] END criterion=entropy, max_depth=6, max_features=auto, n_estimators=400;, score=1.000 total time=   0.6s\n",
            "[CV 5/5] END criterion=entropy, max_depth=6, max_features=auto, n_estimators=400;, score=0.957 total time=   0.6s\n",
            "[CV 1/5] END criterion=entropy, max_depth=6, max_features=sqrt, n_estimators=100;, score=0.958 total time=   0.2s\n",
            "[CV 2/5] END criterion=entropy, max_depth=6, max_features=sqrt, n_estimators=100;, score=0.979 total time=   0.2s\n",
            "[CV 3/5] END criterion=entropy, max_depth=6, max_features=sqrt, n_estimators=100;, score=1.000 total time=   0.2s\n",
            "[CV 4/5] END criterion=entropy, max_depth=6, max_features=sqrt, n_estimators=100;, score=1.000 total time=   0.2s\n",
            "[CV 5/5] END criterion=entropy, max_depth=6, max_features=sqrt, n_estimators=100;, score=0.957 total time=   0.2s\n",
            "[CV 1/5] END criterion=entropy, max_depth=6, max_features=sqrt, n_estimators=200;, score=0.958 total time=   0.3s\n",
            "[CV 2/5] END criterion=entropy, max_depth=6, max_features=sqrt, n_estimators=200;, score=0.979 total time=   0.3s\n",
            "[CV 3/5] END criterion=entropy, max_depth=6, max_features=sqrt, n_estimators=200;, score=1.000 total time=   0.3s\n",
            "[CV 4/5] END criterion=entropy, max_depth=6, max_features=sqrt, n_estimators=200;, score=1.000 total time=   0.3s\n",
            "[CV 5/5] END criterion=entropy, max_depth=6, max_features=sqrt, n_estimators=200;, score=0.957 total time=   0.3s\n",
            "[CV 1/5] END criterion=entropy, max_depth=6, max_features=sqrt, n_estimators=300;, score=0.958 total time=   0.5s\n",
            "[CV 2/5] END criterion=entropy, max_depth=6, max_features=sqrt, n_estimators=300;, score=0.979 total time=   0.5s\n",
            "[CV 3/5] END criterion=entropy, max_depth=6, max_features=sqrt, n_estimators=300;, score=1.000 total time=   0.5s\n",
            "[CV 4/5] END criterion=entropy, max_depth=6, max_features=sqrt, n_estimators=300;, score=1.000 total time=   0.4s\n",
            "[CV 5/5] END criterion=entropy, max_depth=6, max_features=sqrt, n_estimators=300;, score=0.957 total time=   0.5s\n",
            "[CV 1/5] END criterion=entropy, max_depth=6, max_features=sqrt, n_estimators=400;, score=0.958 total time=   0.6s\n",
            "[CV 2/5] END criterion=entropy, max_depth=6, max_features=sqrt, n_estimators=400;, score=0.979 total time=   0.6s\n",
            "[CV 3/5] END criterion=entropy, max_depth=6, max_features=sqrt, n_estimators=400;, score=1.000 total time=   0.6s\n",
            "[CV 4/5] END criterion=entropy, max_depth=6, max_features=sqrt, n_estimators=400;, score=1.000 total time=   0.6s\n",
            "[CV 5/5] END criterion=entropy, max_depth=6, max_features=sqrt, n_estimators=400;, score=0.957 total time=   0.6s\n",
            "[CV 1/5] END criterion=entropy, max_depth=7, max_features=auto, n_estimators=100;, score=0.958 total time=   0.2s\n",
            "[CV 2/5] END criterion=entropy, max_depth=7, max_features=auto, n_estimators=100;, score=0.979 total time=   0.2s\n",
            "[CV 3/5] END criterion=entropy, max_depth=7, max_features=auto, n_estimators=100;, score=1.000 total time=   0.1s\n",
            "[CV 4/5] END criterion=entropy, max_depth=7, max_features=auto, n_estimators=100;, score=1.000 total time=   0.2s\n",
            "[CV 5/5] END criterion=entropy, max_depth=7, max_features=auto, n_estimators=100;, score=0.957 total time=   0.2s\n",
            "[CV 1/5] END criterion=entropy, max_depth=7, max_features=auto, n_estimators=200;, score=0.958 total time=   0.3s\n",
            "[CV 2/5] END criterion=entropy, max_depth=7, max_features=auto, n_estimators=200;, score=0.979 total time=   0.3s\n",
            "[CV 3/5] END criterion=entropy, max_depth=7, max_features=auto, n_estimators=200;, score=1.000 total time=   0.3s\n",
            "[CV 4/5] END criterion=entropy, max_depth=7, max_features=auto, n_estimators=200;, score=1.000 total time=   0.3s\n",
            "[CV 5/5] END criterion=entropy, max_depth=7, max_features=auto, n_estimators=200;, score=0.957 total time=   0.3s\n",
            "[CV 1/5] END criterion=entropy, max_depth=7, max_features=auto, n_estimators=300;, score=0.958 total time=   0.4s\n",
            "[CV 2/5] END criterion=entropy, max_depth=7, max_features=auto, n_estimators=300;, score=0.979 total time=   0.4s\n",
            "[CV 3/5] END criterion=entropy, max_depth=7, max_features=auto, n_estimators=300;, score=1.000 total time=   0.5s\n",
            "[CV 4/5] END criterion=entropy, max_depth=7, max_features=auto, n_estimators=300;, score=1.000 total time=   0.5s\n",
            "[CV 5/5] END criterion=entropy, max_depth=7, max_features=auto, n_estimators=300;, score=0.957 total time=   0.5s\n",
            "[CV 1/5] END criterion=entropy, max_depth=7, max_features=auto, n_estimators=400;, score=0.958 total time=   0.6s\n",
            "[CV 2/5] END criterion=entropy, max_depth=7, max_features=auto, n_estimators=400;, score=0.979 total time=   0.6s\n",
            "[CV 3/5] END criterion=entropy, max_depth=7, max_features=auto, n_estimators=400;, score=1.000 total time=   0.6s\n",
            "[CV 4/5] END criterion=entropy, max_depth=7, max_features=auto, n_estimators=400;, score=1.000 total time=   0.6s\n",
            "[CV 5/5] END criterion=entropy, max_depth=7, max_features=auto, n_estimators=400;, score=0.957 total time=   0.6s\n",
            "[CV 1/5] END criterion=entropy, max_depth=7, max_features=sqrt, n_estimators=100;, score=0.958 total time=   0.2s\n",
            "[CV 2/5] END criterion=entropy, max_depth=7, max_features=sqrt, n_estimators=100;, score=0.979 total time=   0.2s\n",
            "[CV 3/5] END criterion=entropy, max_depth=7, max_features=sqrt, n_estimators=100;, score=1.000 total time=   0.2s\n",
            "[CV 4/5] END criterion=entropy, max_depth=7, max_features=sqrt, n_estimators=100;, score=1.000 total time=   0.2s\n",
            "[CV 5/5] END criterion=entropy, max_depth=7, max_features=sqrt, n_estimators=100;, score=0.957 total time=   0.3s\n",
            "[CV 1/5] END criterion=entropy, max_depth=7, max_features=sqrt, n_estimators=200;, score=0.958 total time=   0.5s\n",
            "[CV 2/5] END criterion=entropy, max_depth=7, max_features=sqrt, n_estimators=200;, score=0.979 total time=   0.6s\n",
            "[CV 3/5] END criterion=entropy, max_depth=7, max_features=sqrt, n_estimators=200;, score=1.000 total time=   0.6s\n",
            "[CV 4/5] END criterion=entropy, max_depth=7, max_features=sqrt, n_estimators=200;, score=1.000 total time=   0.5s\n",
            "[CV 5/5] END criterion=entropy, max_depth=7, max_features=sqrt, n_estimators=200;, score=0.957 total time=   0.6s\n",
            "[CV 1/5] END criterion=entropy, max_depth=7, max_features=sqrt, n_estimators=300;, score=0.958 total time=   1.3s\n",
            "[CV 2/5] END criterion=entropy, max_depth=7, max_features=sqrt, n_estimators=300;, score=0.979 total time=   0.4s\n",
            "[CV 3/5] END criterion=entropy, max_depth=7, max_features=sqrt, n_estimators=300;, score=1.000 total time=   0.5s\n",
            "[CV 4/5] END criterion=entropy, max_depth=7, max_features=sqrt, n_estimators=300;, score=1.000 total time=   0.5s\n",
            "[CV 5/5] END criterion=entropy, max_depth=7, max_features=sqrt, n_estimators=300;, score=0.957 total time=   0.4s\n",
            "[CV 1/5] END criterion=entropy, max_depth=7, max_features=sqrt, n_estimators=400;, score=0.958 total time=   0.6s\n",
            "[CV 2/5] END criterion=entropy, max_depth=7, max_features=sqrt, n_estimators=400;, score=0.979 total time=   0.6s\n",
            "[CV 3/5] END criterion=entropy, max_depth=7, max_features=sqrt, n_estimators=400;, score=1.000 total time=   0.6s\n",
            "[CV 4/5] END criterion=entropy, max_depth=7, max_features=sqrt, n_estimators=400;, score=1.000 total time=   0.6s\n",
            "[CV 5/5] END criterion=entropy, max_depth=7, max_features=sqrt, n_estimators=400;, score=0.957 total time=   0.6s\n"
          ]
        },
        {
          "data": {
            "text/plain": [
              "GridSearchCV(cv=5, estimator=RandomForestClassifier(),\n",
              "             param_grid={'criterion': ['gini', 'entropy'],\n",
              "                         'max_depth': [3, 4, 5, 6, 7],\n",
              "                         'max_features': ['auto', 'sqrt'],\n",
              "                         'n_estimators': [100, 200, 300, 400]},\n",
              "             scoring='accuracy', verbose=3)"
            ]
          },
          "execution_count": 190,
          "metadata": {},
          "output_type": "execute_result"
        }
      ],
      "source": [
        "grid2 = {\n",
        "    'n_estimators': [100, 200, 300, 400],\n",
        "    'max_depth' : [3, 4, 5, 6, 7],\n",
        "    'criterion' :['gini', 'entropy'],\n",
        "    'max_features': ['auto', 'sqrt']\n",
        "}\n",
        "\n",
        "gridSearch_RF = GridSearchCV(randomForest_model,\n",
        "                              param_grid = grid2,\n",
        "                              cv = 5,\n",
        "                              scoring = 'accuracy',\n",
        "                              verbose = 3)\n",
        "gridSearch_RF.fit(X_train, y_train)"
      ]
    },
    {
      "cell_type": "markdown",
      "metadata": {
        "id": "ILZx3f9wXu2x"
      },
      "source": [
        "Now, let's check what is the best hyperparameters for Random Forest!"
      ]
    },
    {
      "cell_type": "code",
      "execution_count": null,
      "metadata": {
        "colab": {
          "base_uri": "https://localhost:8080/"
        },
        "id": "9oyElFyqVz4o",
        "outputId": "06d41e38-2047-4fdf-c479-b7dea069ae6a"
      },
      "outputs": [
        {
          "name": "stdout",
          "output_type": "stream",
          "text": [
            "0.9831560283687942\n",
            "RandomForestClassifier(max_depth=6, max_features='sqrt')\n",
            "{'criterion': 'gini', 'max_depth': 6, 'max_features': 'sqrt', 'n_estimators': 100}\n"
          ]
        }
      ],
      "source": [
        "print(gridSearch_RF.best_score_)\n",
        "print(gridSearch_RF.best_estimator_)\n",
        "print(gridSearch_RF.best_params_)"
      ]
    },
    {
      "cell_type": "markdown",
      "metadata": {
        "id": "2Z24gvTiXzwR"
      },
      "source": [
        "Since we have find our best hyperparameters for Random Forest, let's tune our model with the best hyperparameters."
      ]
    },
    {
      "cell_type": "code",
      "execution_count": null,
      "metadata": {
        "colab": {
          "base_uri": "https://localhost:8080/"
        },
        "id": "8OZrNQBwV8tB",
        "outputId": "7f0b85e6-6a46-4176-e4e1-1069512f93ad"
      },
      "outputs": [
        {
          "data": {
            "text/plain": [
              "RandomForestClassifier(max_depth=6, max_features='sqrt')"
            ]
          },
          "execution_count": 192,
          "metadata": {},
          "output_type": "execute_result"
        }
      ],
      "source": [
        "new_RF_model = RandomForestClassifier(n_estimators = 100,\n",
        "                                      max_depth = 6,\n",
        "                                      max_features = 'sqrt',\n",
        "                                      criterion ='gini')\n",
        "new_RF_model.fit(X_train, y_train)"
      ]
    },
    {
      "cell_type": "markdown",
      "metadata": {
        "id": "5Vzx76-1YBVq"
      },
      "source": [
        "Now, let's predict the testing data with Random Forest!"
      ]
    },
    {
      "cell_type": "code",
      "execution_count": null,
      "metadata": {
        "id": "SnIaCLX_W90_"
      },
      "outputs": [],
      "source": [
        "RF_pred = new_RF_model.predict(X_test)"
      ]
    },
    {
      "cell_type": "markdown",
      "metadata": {
        "id": "nHeM21XRYYGK"
      },
      "source": [
        "Now, let's check the accuracy score of our predictor for the testing data!"
      ]
    },
    {
      "cell_type": "code",
      "execution_count": null,
      "metadata": {
        "colab": {
          "background_save": true,
          "base_uri": "https://localhost:8080/"
        },
        "id": "1nWoCCtnXYOc",
        "outputId": "199c9df8-c8c8-42e4-9610-604927c20837"
      },
      "outputs": [
        {
          "name": "stdout",
          "output_type": "stream",
          "text": [
            "Accuracy Score: 0.970873786407767\n"
          ]
        }
      ],
      "source": [
        "print(f'Accuracy Score: {new_RF_model.score(X_test, y_test)}')"
      ]
    },
    {
      "cell_type": "markdown",
      "metadata": {
        "id": "Ft_RtphHYnvG"
      },
      "source": [
        "Since the accuracy score is 97%, the model is good fit!"
      ]
    },
    {
      "cell_type": "markdown",
      "metadata": {
        "id": "Oh9cglP-k5zg"
      },
      "source": [
        "### (3% of points) - 6. Select Your Final Model"
      ]
    },
    {
      "cell_type": "markdown",
      "metadata": {
        "id": "xDXfANekk5zg"
      },
      "source": [
        "#### You finally have your final model. Write comments to justify your final model"
      ]
    },
    {
      "cell_type": "markdown",
      "metadata": {
        "id": "IklZV5E6aJDk"
      },
      "source": [
        "After using 2 classifier models which is KNN classfier and Random Forest, we could see that both of the models have a good score and meet the expectation from the task where the task want the model to have accuracy over 95%. Since the accuracy scores are 98% (KNN) and 97% (Random Forest), then it's done for the training and testing. Now, we have to choose the final model. But, of course, we want the best choice for the final model, so I'm going to to choose the KNN Classfier as our final model."
      ]
    },
    {
      "cell_type": "markdown",
      "metadata": {
        "id": "7gYxMttKk5zh"
      },
      "source": [
        "***Verified by,***\n",
        "   \n",
        "[Noviyanti TM Sagala] (D6464) and sent to Department/Program on 04 04, 2022    "
      ]
    }
  ],
  "metadata": {
    "colab": {
      "provenance": []
    },
    "kernelspec": {
      "display_name": "Python 3 (ipykernel)",
      "language": "python",
      "name": "python3"
    },
    "language_info": {
      "codemirror_mode": {
        "name": "ipython",
        "version": 3
      },
      "file_extension": ".py",
      "mimetype": "text/x-python",
      "name": "python",
      "nbconvert_exporter": "python",
      "pygments_lexer": "ipython3",
      "version": "3.8.12"
    }
  },
  "nbformat": 4,
  "nbformat_minor": 0
}